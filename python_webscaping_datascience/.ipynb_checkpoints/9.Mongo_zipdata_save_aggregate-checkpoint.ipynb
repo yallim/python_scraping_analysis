{
 "cells": [
  {
   "cell_type": "code",
   "execution_count": 1,
   "metadata": {},
   "outputs": [
    {
     "name": "stdout",
     "output_type": "stream",
     "text": [
      "Name: pymongo\n",
      "Version: 3.11.0\n",
      "Summary: Python driver for MongoDB <http://www.mongodb.org>\n",
      "Home-page: http://github.com/mongodb/mongo-python-driver\n",
      "Author: Mike Dirolf\n",
      "Author-email: mongodb-user@googlegroups.com\n",
      "License: Apache License, Version 2.0\n",
      "Location: c:\\programdata\\anaconda3\\lib\\site-packages\n",
      "Requires: \n",
      "Required-by: \n"
     ]
    }
   ],
   "source": [
    "!pip show pymongo"
   ]
  },
  {
   "cell_type": "code",
   "execution_count": 2,
   "metadata": {},
   "outputs": [
    {
     "name": "stdout",
     "output_type": "stream",
     "text": [
      "29353\n"
     ]
    },
    {
     "data": {
      "text/plain": [
       "[{'_id': '01001',\n",
       "  'city': 'AGAWAM',\n",
       "  'loc': [-72.622739, 42.070206],\n",
       "  'pop': 15338,\n",
       "  'state': 'MA'},\n",
       " {'_id': '01002',\n",
       "  'city': 'CUSHMAN',\n",
       "  'loc': [-72.51565, 42.377017],\n",
       "  'pop': 36963,\n",
       "  'state': 'MA'}]"
      ]
     },
     "execution_count": 2,
     "metadata": {},
     "output_type": "execute_result"
    }
   ],
   "source": [
    "import pymongo\n",
    "import json\n",
    "\n",
    "#zip.json file을 읽기\n",
    "with open('data/zip.json','r',encoding='utf8') as file:\n",
    "    contents = file.read()\n",
    "    zip_json = json.loads(contents)\n",
    "\n",
    "print(len(zip_json))    \n",
    "zip_json[0:2]"
   ]
  },
  {
   "cell_type": "markdown",
   "metadata": {},
   "source": [
    "### zip json data를 MongoDB에 저장하기\n",
    "1. MongoDB와 연결합니다. \n",
    "  - MongoClient 객체를 생성합니다.\n",
    "2. database를 생성합니다 \n",
    "3. collection을 생성합니다. "
   ]
  },
  {
   "cell_type": "code",
   "execution_count": 3,
   "metadata": {},
   "outputs": [
    {
     "name": "stdout",
     "output_type": "stream",
     "text": [
      "MongoClient(host=['localhost:27017'], document_class=dict, tz_aware=False, connect=True)\n",
      "Database(MongoClient(host=['localhost:27017'], document_class=dict, tz_aware=False, connect=True), 'zip_db')\n",
      "zip_db\n",
      "Collection(Database(MongoClient(host=['localhost:27017'], document_class=dict, tz_aware=False, connect=True), 'zip_db'), 'zips')\n",
      "zips\n"
     ]
    }
   ],
   "source": [
    "connection = pymongo.MongoClient(host=\"localhost\",port=27017)\n",
    "print(connection)\n",
    "\n",
    "#db 생성\n",
    "db = connection.zip_db\n",
    "print(db)\n",
    "print(db.name)\n",
    "\n",
    "#collection 생성\n",
    "col = db.zips\n",
    "print(col)\n",
    "print(col.name)"
   ]
  },
  {
   "cell_type": "code",
   "execution_count": 4,
   "metadata": {},
   "outputs": [
    {
     "data": {
      "text/plain": [
       "<pymongo.results.InsertManyResult at 0x1d9526299c0>"
      ]
     },
     "execution_count": 4,
     "metadata": {},
     "output_type": "execute_result"
    }
   ],
   "source": [
    "#insert_many() 함수를 사용해서 zip json 데이터를 등록합니다. \n",
    "col.insert_many(zip_json)"
   ]
  },
  {
   "cell_type": "code",
   "execution_count": 5,
   "metadata": {},
   "outputs": [
    {
     "data": {
      "text/plain": [
       "29353"
      ]
     },
     "execution_count": 5,
     "metadata": {},
     "output_type": "execute_result"
    }
   ],
   "source": [
    "#row count\n",
    "col.count_documents({})"
   ]
  }
 ],
 "metadata": {
  "kernelspec": {
   "display_name": "Python 3",
   "language": "python",
   "name": "python3"
  },
  "language_info": {
   "codemirror_mode": {
    "name": "ipython",
    "version": 3
   },
   "file_extension": ".py",
   "mimetype": "text/x-python",
   "name": "python",
   "nbconvert_exporter": "python",
   "pygments_lexer": "ipython3",
   "version": "3.8.3"
  }
 },
 "nbformat": 4,
 "nbformat_minor": 4
}
