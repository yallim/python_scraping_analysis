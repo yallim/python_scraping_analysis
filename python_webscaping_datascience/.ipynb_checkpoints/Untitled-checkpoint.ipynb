{
 "cells": [
  {
   "cell_type": "code",
   "execution_count": 19,
   "metadata": {},
   "outputs": [
    {
     "name": "stdout",
     "output_type": "stream",
     "text": [
      "200\n",
      "20201006113010_3d1e41a46160afd10fd621e76f0e6190_IMAG01_1.jpg\n",
      "200\n",
      "20201006113010_3d1e41a46160afd10fd621e76f0e6190_IMAG01_2.jpg\n",
      "200\n",
      "20201006113010_3d1e41a46160afd10fd621e76f0e6190_IMAG01_3.jpg\n"
     ]
    }
   ],
   "source": [
    "import requests\n",
    "from bs4 import BeautifulSoup\n",
    "from urllib.parse import urljoin\n",
    "import re\n",
    "import os\n",
    "\n",
    "req_header = {'referer':'https://comic.naver.com/webtoon/list.nhn?titleId=739115&weekday=mon'}\n",
    "\n",
    "img_url = ['https://image-comic.pstatic.net/webtoon/739115/39/20201006113010_3d1e41a46160afd10fd621e76f0e6190_IMAG01_1.jpg',\n",
    "           'https://image-comic.pstatic.net/webtoon/739115/39/20201006113010_3d1e41a46160afd10fd621e76f0e6190_IMAG01_2.jpg',\n",
    "           'https://image-comic.pstatic.net/webtoon/739115/39/20201006113010_3d1e41a46160afd10fd621e76f0e6190_IMAG01_3.jpg'\n",
    "          ]\n",
    "\n",
    "for img in img_url:\n",
    "    res = requests.get(img,headers=req_header)\n",
    "    if res.ok:\n",
    "        print(res.status_code)\n",
    "        img_data = res.content\n",
    "        file_name = os.path.basename(img)\n",
    "        #print(file_name)\n",
    "   "
   ]
  },
  {
   "cell_type": "code",
   "execution_count": null,
   "metadata": {},
   "outputs": [],
   "source": []
  },
  {
   "cell_type": "code",
   "execution_count": null,
   "metadata": {},
   "outputs": [],
   "source": []
  },
  {
   "cell_type": "code",
   "execution_count": null,
   "metadata": {},
   "outputs": [],
   "source": []
  },
  {
   "cell_type": "code",
   "execution_count": 6,
   "metadata": {},
   "outputs": [
    {
     "name": "stdout",
     "output_type": "stream",
     "text": [
      "[]\n"
     ]
    }
   ],
   "source": [
    "from selenium import webdriver\n",
    "import time\n",
    "from selenium.webdriver.common.keys import Keys\n",
    "\n",
    "driver = webdriver.Chrome('./chromedriver.exe')\n",
    "driver.get('https://www.naver.com/')\n",
    "\n",
    "search = driver.find_element_by_css_selector('#query')\n",
    "\n",
    "search.send_keys('자바')\n",
    "search.send_keys(Keys.ENTER)\n",
    "\n",
    "a_tags = driver.find_elements_by_css_selector('a.title')\n",
    "print(a_tags)"
   ]
  },
  {
   "cell_type": "code",
   "execution_count": null,
   "metadata": {},
   "outputs": [],
   "source": []
  },
  {
   "cell_type": "code",
   "execution_count": null,
   "metadata": {},
   "outputs": [],
   "source": []
  },
  {
   "cell_type": "code",
   "execution_count": null,
   "metadata": {},
   "outputs": [],
   "source": []
  }
 ],
 "metadata": {
  "kernelspec": {
   "display_name": "Python 3",
   "language": "python",
   "name": "python3"
  },
  "language_info": {
   "codemirror_mode": {
    "name": "ipython",
    "version": 3
   },
   "file_extension": ".py",
   "mimetype": "text/x-python",
   "name": "python",
   "nbconvert_exporter": "python",
   "pygments_lexer": "ipython3",
   "version": "3.8.3"
  }
 },
 "nbformat": 4,
 "nbformat_minor": 4
}
