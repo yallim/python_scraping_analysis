{
 "cells": [
  {
   "cell_type": "markdown",
   "metadata": {},
   "source": [
    "### Songs 정보를 저장하고 읽고 집계하기\n",
    "1. data/songs.json 파일 읽어서 mongodb에 저장한다.\n",
    "2. mongodb에 연결해서 db와 Collection을 생성한다.\n",
    "3. find(), aggregate() 함수를 사용해서 읽고, 집계를 해본다."
   ]
  },
  {
   "cell_type": "code",
   "execution_count": 2,
   "metadata": {},
   "outputs": [
    {
     "name": "stdout",
     "output_type": "stream",
     "text": [
      "Name: pymongo\n",
      "Version: 3.11.0\n",
      "Summary: Python driver for MongoDB <http://www.mongodb.org>\n",
      "Home-page: http://github.com/mongodb/mongo-python-driver\n",
      "Author: Mike Dirolf\n",
      "Author-email: mongodb-user@googlegroups.com\n",
      "License: Apache License, Version 2.0\n",
      "Location: c:\\programdata\\anaconda3\\lib\\site-packages\n",
      "Requires: \n",
      "Required-by: \n"
     ]
    }
   ],
   "source": [
    "!pip show pymongo"
   ]
  },
  {
   "cell_type": "code",
   "execution_count": 8,
   "metadata": {},
   "outputs": [
    {
     "name": "stdout",
     "output_type": "stream",
     "text": [
      "<class 'list'> 100 [{'곡명': \"DON'T TOUCH ME\", '가수': '환불원정대', '앨범': \"DON'T TOUCH ME\", '발매일': '2020.10.10', '장르': '댄스', '가사': \"Trouble 이래 다 그래세 보인대 어쩔래난 멋 부리네 더 꾸미네yeah I'm a lady 못 말리네 oh불편한 말들이 또 선을 넘어난 또 보란 듯 해내서 보여줘 버려나도 사랑을 원해나도 평화가 편해하지만 모두가 you know자꾸 건드리네 don't touch mebut 내 멋대로 해blah blah blah so whatI don't care yeah yeah내 맘대로 해자꾸 건드리네 don't touch me괜찮아 걱정 마 So good 난 즐거워몇 살을 먹는대도 절대로 난 안 꿀리는 걸따라 하고 싶지 않아wanna be original남의 눈치 보지 않아자꾸 건드리네 don't touch meUhh Tell me who's hotter NadaYou dealing with afour headed monsta어디 와서 싸구려를 팔아참지 않아 you don't want no problems맘대로 맘대로 hey누가 뭐래도 나대로 hey내가 문제라면 답 없지You can look and starebut don't touch me불편한 말들이 또 선을 넘어난 또 보란 듯 해내서 보여줘 버려나도 사랑을 원해나도 평화가 편해하지만 모두가 you know자꾸 건드리네 don't touch mebut 내 멋대로 해blah blah blah so whatI don't care yeah yeah내 맘대로 해자꾸 건드리네 don't touch me괜찮아 걱정 마 So good 난 즐거워몇 살을 먹는대도 절대로 난 안 꿀리는 걸따라 하고 싶지 않아wanna be original남의 눈치 보지 않아자꾸 건드리네 don't touch me때론 눈물이 쏟아지기도 해결국 날 만든 게 눈물이기도 해 익숙해남들 신경 쓰지 마 절대로Never never 누가 뭐래도 멈추지 마자꾸 건드리네 don't touch mebut 내 멋대로 해blah blah blah so whatI don't care yeah yeah내 맘대로 해자꾸 건드리네 don't touch me괜찮아 걱정 마 So good 난 즐거워몇 살을 먹는대도 절대로 난 안 꿀리는 걸따라 하고 싶지 않아wanna be original남의 눈치 보지 않아자꾸 건드리네 don't touch me자꾸 건드리네 don't touch me\"}, {'곡명': 'Dynamite', '가수': '방탄소년단', '앨범': 'Dynamite (DayTime Version)', '발매일': '2020.08.24', '장르': '댄스', '가사': \"Cos ah ahI’m in the stars tonightSo watch me bring the fireand set the night alightShoes on get up in the mornCup of milk let’s rock and rollKing Kong kick the drumrolling on like a rolling stoneSing song when I’m walking homeJump up to the top LeBronDing dong call me on my phoneIce tea and a game of ping pongThis is getting heavyCan you hear the bass boomI’m readyLife is sweet as honeyYeah this beat cha chinglike moneyDisco overload I’m intothat I’m good to goI'm diamond you know I glow upHey so let’s goCos ah ahI’m in the stars tonightSo watch me bring the fireand set the night alightShining through the citywith a little funk and soulSo I’mma light it uplike dynamite woahBring a friend join the crowdWhoever wanna come alongWord up talk the talkjust move like we off the wallDay or night the sky’s alightSo we dance to the break of dawnLadies and gentlemenI got the medicineso you should keep yaeyes on the ball huhThis is getting heavyCan you hear the bass boomI’m readyLife is sweet as honeyYeah this beat cha chinglike moneyDisco overloadI’m into that I’m good to goI'm diamond you know I glow upLet’s goCos ah ahI’m in the stars tonightSo watch me bring the fireand set the night alightShining through the citywith a little funk and soulSo I’mma light it uplike dynamite woahDynnnnnanana life is dynamiteDynnnnnanana life is dynamiteShining through the citywith a little funk and soulSo I’mma light it uplike dynamite woahDynnnnnanana ehDynnnnnanana ehDynnnnnanana ehLight it up like dynamiteDynnnnnanana ehDynnnnnanana ehDynnnnnanana ehLight it up like dynamiteCos ah ahI’m in the stars tonightSo watch me bring the fireand set the night alightShining through the citywith a little funk and soulSo I’mma light it uplike dynamiteCos ah ahI’m in the stars tonightSo watch me bring the fireand set the night alightShining through the citywith a little funk and soulSo I’mma light it uplike dynamite woahDynnnnnanana life is dynamiteDynnnnnanana life is dynamiteShining through the citywith a little funk and soulSo I’mma light it uplike dynamite woah\"}]\n"
     ]
    }
   ],
   "source": [
    "import pymongo\n",
    "import json\n",
    "\n",
    "with open('data/songs.json','r',encoding='utf8') as file:\n",
    "    contents = file.read()\n",
    "    songs_json = json.loads(contents)\n",
    "    \n",
    "print(type(songs_json),len(songs_json),songs_json[0:2])    \n",
    "    "
   ]
  },
  {
   "cell_type": "code",
   "execution_count": 9,
   "metadata": {},
   "outputs": [
    {
     "name": "stdout",
     "output_type": "stream",
     "text": [
      "Connection: MongoClient(host=['localhost:27017'], document_class=dict, tz_aware=False, connect=True)\n",
      "Database Database(MongoClient(host=['localhost:27017'], document_class=dict, tz_aware=False, connect=True), 'song_db')\n",
      "DB NAME: song_db\n",
      "Collection: Collection(Database(MongoClient(host=['localhost:27017'], document_class=dict, tz_aware=False, connect=True), 'song_db'), 'songs')\n",
      "Col Name: songs\n"
     ]
    }
   ],
   "source": [
    "# 1. MongoDB와 연결\n",
    "con = pymongo.MongoClient(host='localhost',port=27017)\n",
    "print('Connection:',con)\n",
    "# 2. Database 생성\n",
    "db = con.song_db\n",
    "print('Database',db)\n",
    "print('DB NAME:',db.name)\n",
    "# 3. Colletion 생성\n",
    "col = db.songs\n",
    "print('Collection:',col)\n",
    "print('Col Name:',col.name)"
   ]
  },
  {
   "cell_type": "code",
   "execution_count": 12,
   "metadata": {},
   "outputs": [
    {
     "data": {
      "text/plain": [
       "100"
      ]
     },
     "execution_count": 12,
     "metadata": {},
     "output_type": "execute_result"
    }
   ],
   "source": [
    "#songs_json 데이터를 insert_many()함수 사용해서 document를 등록하기\n",
    "col.insert_many(songs_json)\n",
    "#document 건수 확인\n",
    "col.count_documents({})"
   ]
  },
  {
   "cell_type": "code",
   "execution_count": 20,
   "metadata": {},
   "outputs": [
    {
     "name": "stdout",
     "output_type": "stream",
     "text": [
      "<class 'pymongo.cursor.Cursor'>\n",
      "환불원정대\n",
      "방탄소년단\n",
      "BLACKPINK\n",
      "산들\n",
      "Crush\n",
      "박진영\n",
      "임창정\n",
      "스탠딩 에그\n",
      "Jawsh 685\n",
      "제시 (Jessi)\n",
      "규현 (KYUHYUN)\n",
      "화사 (Hwa Sa)\n",
      "BLACKPINK\n",
      "아이유\n",
      "오마이걸 (OH MY GIRL)\n",
      "싹쓰리 (유두래곤, 린다G, 비룡)\n",
      "조정석\n",
      "이하이\n",
      "블루 (BLOO)\n",
      "오반\n",
      "마마무 (Mamamoo)\n",
      "노을\n",
      "Tones And I\n",
      "아이유\n",
      "AKMU (악동뮤지션)\n",
      "Maroon 5\n",
      "창모 (CHANGMO)\n",
      "방탄소년단\n",
      "전상근\n",
      "백지영\n",
      "장범준\n",
      "오마이걸 (OH MY GIRL)\n",
      "폴킴\n",
      "마크툽 (MAKTUB)\n",
      "전미도\n",
      "(여자)아이들\n",
      "Anne-Marie\n",
      "BLACKPINK\n",
      "신예영\n",
      "청하\n",
      "Crush\n",
      "순순희\n",
      "지코 (ZICO)\n",
      "ITZY (있지)\n",
      "Dua Lipa\n",
      "아이유\n",
      "로꼬\n",
      "엠씨더맥스 (M.C the MAX)\n",
      "방탄소년단\n",
      "먼데이 키즈 (Monday Kiz)\n",
      "폴킴\n",
      "선미\n",
      "지코 (ZICO)\n",
      "방탄소년단\n",
      "BLACKPINK\n",
      "바이브\n",
      "Etham\n",
      "가호 (Gaho)\n",
      "Conan Gray\n",
      "아이유\n",
      "임영웅\n",
      "아이유\n",
      "조이 (JOY)\n",
      "Red Velvet (레드벨벳)\n",
      "오반\n",
      "Lauv\n",
      "카더가든\n",
      "싹쓰리 (유두래곤, 린다G, 비룡)\n",
      "폴킴\n",
      "BLACKPINK\n",
      "황인욱\n",
      "김필\n",
      "Crush\n",
      "이수현\n",
      "마크툽 (MAKTUB)\n",
      "Billie Eilish\n",
      "규현 (KYUHYUN)\n",
      "볼빨간사춘기\n",
      "김준수\n",
      "Ruel\n",
      "HYNN (박혜원)\n",
      "비룡\n",
      "송하예\n",
      "Crush\n",
      "Ariana Grande\n",
      "진민호\n",
      "백현 (BAEKHYUN)\n",
      "임창정\n",
      "헤이즈 (Heize)\n",
      "Crush\n",
      "전상근\n",
      "신용재 (2F)\n",
      "방탄소년단\n",
      "정은지\n",
      "TWICE (트와이스)\n",
      "마마무 (Mamamoo)\n",
      "유아 (오마이걸)\n",
      "Sam Smith\n",
      "싹쓰리 (유두래곤, 린다G, 비룡)\n",
      "청하\n"
     ]
    }
   ],
   "source": [
    "#find()함수 사용해서 document 읽기\n",
    "print(type(col.find({})))\n",
    "for doc in col.find({}):\n",
    "    #print(type(doc))\n",
    "    print(doc['가수'])"
   ]
  },
  {
   "cell_type": "code",
   "execution_count": 35,
   "metadata": {},
   "outputs": [
    {
     "name": "stdout",
     "output_type": "stream",
     "text": [
      "{'곡명': \"DON'T TOUCH ME\", '가수': '환불원정대', '발매일': '2020.10.10', '장르': '댄스'}\n",
      "{'곡명': 'Dynamite', '가수': '방탄소년단', '발매일': '2020.08.24', '장르': '댄스'}\n",
      "{'곡명': 'Lovesick Girls', '가수': 'BLACKPINK', '발매일': '2020.10.02', '장르': '댄스'}\n",
      "{'곡명': 'When We Disco (Duet with 선미)', '가수': '박진영', '발매일': '2020.08.12', '장르': '댄스'}\n",
      "{'곡명': '마리아 (Maria)', '가수': '화사 (Hwa Sa)', '발매일': '2020.06.29', '장르': '댄스'}\n",
      "{'곡명': 'Dolphin', '가수': '오마이걸 (OH MY GIRL)', '발매일': '2020.04.27', '장르': '댄스'}\n",
      "{'곡명': '다시 여기 바닷가', '가수': '싹쓰리 (유두래곤, 린다G, 비룡)', '발매일': '2020.07.18', '장르': '댄스'}\n",
      "{'곡명': '딩가딩가 (Dingga)', '가수': '마마무 (Mamamoo)', '발매일': '2020.10.20', '장르': '댄스'}\n",
      "{'곡명': '작은 것들을 위한 시 (Boy With Luv) (Feat. Halsey)', '가수': '방탄소년단', '발매일': '2019.04.12', '장르': '댄스'}\n",
      "{'곡명': '살짝 설렜어 (Nonstop)', '가수': '오마이걸 (OH MY GIRL)', '발매일': '2020.04.27', '장르': '댄스'}\n",
      "{'곡명': '덤디덤디 (DUMDi DUMDi)', '가수': '(여자)아이들', '발매일': '2020.08.03', '장르': '댄스'}\n",
      "{'곡명': 'Ice Cream (with Selena Gomez)', '가수': 'BLACKPINK', '발매일': '2020.08.28', '장르': '댄스'}\n",
      "{'곡명': 'Not Shy', '가수': 'ITZY (있지)', '발매일': '2020.08.17', '장르': '댄스'}\n",
      "{'곡명': '보라빛 밤 (pporappippam)', '가수': '선미', '발매일': '2020.06.29', '장르': '댄스'}\n",
      "{'곡명': 'Into the I-LAND', '가수': '아이유', '발매일': '2020.06.19', '장르': '댄스'}\n",
      "{'곡명': 'Psycho', '가수': 'Red Velvet (레드벨벳)', '발매일': '2019.12.23', '장르': '댄스'}\n",
      "{'곡명': '그 여름을 틀어줘', '가수': '싹쓰리 (유두래곤, 린다G, 비룡)', '발매일': '2020.07.25', '장르': '댄스'}\n",
      "{'곡명': 'Bet You Wanna (Feat. Cardi B)', '가수': 'BLACKPINK', '발매일': '2020.10.02', '장르': '댄스'}\n",
      "{'곡명': 'ALIEN', '가수': '이수현', '발매일': '2020.10.16', '장르': '댄스'}\n",
      "{'곡명': '신난다 (Feat. 마마무)', '가수': '비룡', '발매일': '2020.08.01', '장르': '댄스'}\n",
      "{'곡명': 'MORE & MORE', '가수': 'TWICE (트와이스)', '발매일': '2020.06.01', '장르': '댄스'}\n",
      "{'곡명': 'HIP', '가수': '마마무 (Mamamoo)', '발매일': '2019.11.14', '장르': '댄스'}\n",
      "{'곡명': '숲의 아이 (Bon voyage)', '가수': '유아 (오마이걸)', '발매일': '2020.09.07', '장르': '댄스'}\n",
      "{'곡명': '여름 안에서 by 싹쓰리 (Feat. 황광희)', '가수': '싹쓰리 (유두래곤, 린다G, 비룡)', '발매일': '2020.07.11', '장르': '댄스'}\n",
      "{'곡명': 'PLAY (Feat. 창모)', '가수': '청하', '발매일': '2020.07.06', '장르': '댄스'}\n"
     ]
    }
   ],
   "source": [
    "#장르가 댄스인 노래의 가수,장르,발매일, _id는빼고 가져오기\n",
    "for song in col.find({'장르':'댄스'},{'_id':0,'가수':1,'장르':'1','발매일':1,'곡명':1}):\n",
    "    print(song)"
   ]
  },
  {
   "cell_type": "code",
   "execution_count": 33,
   "metadata": {},
   "outputs": [
    {
     "name": "stdout",
     "output_type": "stream",
     "text": [
      "{'가수': '방탄소년단', '발매일': '2020.08.24', '장르': '댄스'}\n",
      "{'가수': '방탄소년단', '발매일': '2019.04.12', '장르': '댄스'}\n",
      "{'가수': '방탄소년단', '발매일': '2017.02.13', '장르': '랩/힙합'}\n",
      "{'가수': '방탄소년단', '발매일': '2020.02.21', '장르': '랩/힙합'}\n",
      "{'가수': '방탄소년단', '발매일': '2020.02.21', '장르': '랩/힙합'}\n"
     ]
    }
   ],
   "source": [
    "for song in col.find({'가수':'방탄소년단'},{'_id':0,'가수':1,'장르':'1','발매일':1}):\n",
    "    print(song)"
   ]
  },
  {
   "cell_type": "code",
   "execution_count": 43,
   "metadata": {},
   "outputs": [],
   "source": [
    "# criteria(검색조건) ,projection(필드)를 인자로 받아서 출력하는 함수\n",
    "def print_song(criteria,projection):\n",
    "    for idx,song in enumerate(col.find(criteria,projection),1):\n",
    "        print(idx,song)\n",
    "        "
   ]
  },
  {
   "cell_type": "code",
   "execution_count": 62,
   "metadata": {},
   "outputs": [
    {
     "name": "stdout",
     "output_type": "stream",
     "text": [
      "1 {'곡명': 'Dynamite', '가수': '방탄소년단', '발매일': '2020.08.24', '장르': '댄스'}\n",
      "2 {'곡명': '작은 것들을 위한 시 (Boy With Luv) (Feat. Halsey)', '가수': '방탄소년단', '발매일': '2019.04.12', '장르': '댄스'}\n",
      "3 {'곡명': '봄날', '가수': '방탄소년단', '발매일': '2017.02.13', '장르': '랩/힙합'}\n",
      "4 {'곡명': 'ON', '가수': '방탄소년단', '발매일': '2020.02.21', '장르': '랩/힙합'}\n",
      "5 {'곡명': '00:00 (Zero O’Clock)', '가수': '방탄소년단', '발매일': '2020.02.21', '장르': '랩/힙합'}\n"
     ]
    }
   ],
   "source": [
    "#방탄소년단의 노래는?\n",
    "criteria = {'가수':'방탄소년단'}\n",
    "projection = {'_id':0,'가수':1,'곡명':1,'장르':1,'발매일':1}\n",
    "print_song(criteria,projection)"
   ]
  },
  {
   "cell_type": "code",
   "execution_count": 57,
   "metadata": {},
   "outputs": [
    {
     "name": "stdout",
     "output_type": "stream",
     "text": [
      "1 {'곡명': '모든 날, 모든 순간 (Every day, Every Moment)', '가수': '폴킴', '발매일': '2018.03.20', '장르': '발라드, 국내드라마'}\n",
      "2 {'곡명': '안녕', '가수': '폴킴', '발매일': '2019.08.12', '장르': '발라드, 국내드라마'}\n",
      "3 {'곡명': '너를 만나', '가수': '폴킴', '발매일': '2018.10.29', '장르': '발라드'}\n"
     ]
    }
   ],
   "source": [
    "#방탄소년단과 폴킴의 노래는?\n",
    "criteria = {'가수':{'$in':['방탄소년단','폴킴']}}\n",
    "projection = {'_id':0,'가수':1,'곡명':1,'장르':1,'발매일':1}\n",
    "print_song(criteria,projection)"
   ]
  },
  {
   "cell_type": "code",
   "execution_count": 68,
   "metadata": {},
   "outputs": [
    {
     "name": "stdout",
     "output_type": "stream",
     "text": [
      "{'앨범': {'$regex': 'OST'}} {'_id': 0, '가수': 1, '곡명': 1, '장르': 1, '발매일': 1}\n"
     ]
    }
   ],
   "source": [
    "#앨범 이름 중 OST가 포함된 노래는?\n",
    "criteria = {'앨범':{'$regex':'OST'}}\n",
    "projection = {'_id':0,'가수':1,'곡명':1,'장르':1,'발매일':1}\n",
    "print(criteria,projection)"
   ]
  },
  {
   "cell_type": "code",
   "execution_count": 86,
   "metadata": {},
   "outputs": [
    {
     "name": "stdout",
     "output_type": "stream",
     "text": [
      "{'노래개수': 5, '가수이름': '아이유'}\n",
      "{'노래개수': 5, '가수이름': '방탄소년단'}\n",
      "{'노래개수': 5, '가수이름': 'BLACKPINK'}\n",
      "{'노래개수': 5, '가수이름': 'Crush'}\n",
      "{'노래개수': 3, '가수이름': '폴킴'}\n",
      "{'노래개수': 3, '가수이름': '싹쓰리 (유두래곤, 린다G, 비룡)'}\n",
      "{'노래개수': 2, '가수이름': '청하'}\n",
      "{'노래개수': 2, '가수이름': '규현 (KYUHYUN)'}\n",
      "{'노래개수': 2, '가수이름': '전상근'}\n",
      "{'노래개수': 2, '가수이름': '오반'}\n",
      "{'노래개수': 2, '가수이름': '오마이걸 (OH MY GIRL)'}\n",
      "{'노래개수': 2, '가수이름': '마크툽 (MAKTUB)'}\n",
      "{'노래개수': 2, '가수이름': '지코 (ZICO)'}\n",
      "{'노래개수': 2, '가수이름': '임창정'}\n",
      "{'노래개수': 2, '가수이름': '마마무 (Mamamoo)'}\n",
      "{'노래개수': 1, '가수이름': '먼데이 키즈 (Monday Kiz)'}\n",
      "{'노래개수': 1, '가수이름': 'Tones And I'}\n",
      "{'노래개수': 1, '가수이름': 'Etham'}\n",
      "{'노래개수': 1, '가수이름': '조이 (JOY)'}\n",
      "{'노래개수': 1, '가수이름': 'Billie Eilish'}\n",
      "{'노래개수': 1, '가수이름': '임영웅'}\n",
      "{'노래개수': 1, '가수이름': '백지영'}\n",
      "{'노래개수': 1, '가수이름': '송하예'}\n",
      "{'노래개수': 1, '가수이름': '백현 (BAEKHYUN)'}\n",
      "{'노래개수': 1, '가수이름': '김필'}\n",
      "{'노래개수': 1, '가수이름': 'ITZY (있지)'}\n",
      "{'노래개수': 1, '가수이름': 'Red Velvet (레드벨벳)'}\n",
      "{'노래개수': 1, '가수이름': '정은지'}\n",
      "{'노래개수': 1, '가수이름': '(여자)아이들'}\n",
      "{'노래개수': 1, '가수이름': '제시 (Jessi)'}\n",
      "{'노래개수': 1, '가수이름': '전미도'}\n",
      "{'노래개수': 1, '가수이름': '볼빨간사춘기'}\n",
      "{'노래개수': 1, '가수이름': '화사 (Hwa Sa)'}\n",
      "{'노래개수': 1, '가수이름': 'HYNN (박혜원)'}\n",
      "{'노래개수': 1, '가수이름': 'Ruel'}\n",
      "{'노래개수': 1, '가수이름': 'Conan Gray'}\n",
      "{'노래개수': 1, '가수이름': '장범준'}\n",
      "{'노래개수': 1, '가수이름': '산들'}\n",
      "{'노래개수': 1, '가수이름': 'Anne-Marie'}\n",
      "{'노래개수': 1, '가수이름': '신용재 (2F)'}\n",
      "{'노래개수': 1, '가수이름': '스탠딩 에그'}\n",
      "{'노래개수': 1, '가수이름': 'Sam Smith'}\n",
      "{'노래개수': 1, '가수이름': '로꼬'}\n",
      "{'노래개수': 1, '가수이름': '조정석'}\n",
      "{'노래개수': 1, '가수이름': '카더가든'}\n",
      "{'노래개수': 1, '가수이름': '박진영'}\n",
      "{'노래개수': 1, '가수이름': 'Dua Lipa'}\n",
      "{'노래개수': 1, '가수이름': 'Ariana Grande'}\n",
      "{'노래개수': 1, '가수이름': 'Jawsh 685'}\n",
      "{'노래개수': 1, '가수이름': '이하이'}\n",
      "{'노래개수': 1, '가수이름': 'TWICE (트와이스)'}\n",
      "{'노래개수': 1, '가수이름': 'Maroon 5'}\n",
      "{'노래개수': 1, '가수이름': 'AKMU (악동뮤지션)'}\n",
      "{'노래개수': 1, '가수이름': '바이브'}\n",
      "{'노래개수': 1, '가수이름': '유아 (오마이걸)'}\n",
      "{'노래개수': 1, '가수이름': '신예영'}\n",
      "{'노래개수': 1, '가수이름': '환불원정대'}\n",
      "{'노래개수': 1, '가수이름': '김준수'}\n",
      "{'노래개수': 1, '가수이름': '엠씨더맥스 (M.C the MAX)'}\n",
      "{'노래개수': 1, '가수이름': '가호 (Gaho)'}\n",
      "{'노래개수': 1, '가수이름': '창모 (CHANGMO)'}\n",
      "{'노래개수': 1, '가수이름': 'Lauv'}\n",
      "{'노래개수': 1, '가수이름': '선미'}\n",
      "{'노래개수': 1, '가수이름': '황인욱'}\n",
      "{'노래개수': 1, '가수이름': '진민호'}\n",
      "{'노래개수': 1, '가수이름': '헤이즈 (Heize)'}\n",
      "{'노래개수': 1, '가수이름': '순순희'}\n",
      "{'노래개수': 1, '가수이름': '비룡'}\n",
      "{'노래개수': 1, '가수이름': '노을'}\n",
      "{'노래개수': 1, '가수이름': '블루 (BLOO)'}\n",
      "{'노래개수': 1, '가수이름': '이수현'}\n"
     ]
    }
   ],
   "source": [
    "#가수별로 노래가 몇곡이나 있는지?\n",
    "\n",
    "for song in col.aggregate([\n",
    "    {\n",
    "        '$group':{\n",
    "            '_id':'$가수',\n",
    "            '노래개수':{'$sum':1}\n",
    "            }\n",
    "    }\n",
    "    ,{'$sort':{'노래개수':-1}\n",
    "      \n",
    "     },\n",
    "    {\n",
    "     '$project':{'가수이름':'$_id','_id':0,'노래개수':1}\n",
    "    }\n",
    "]):\n",
    "    print(song)"
   ]
  },
  {
   "cell_type": "code",
   "execution_count": 103,
   "metadata": {},
   "outputs": [
    {
     "name": "stdout",
     "output_type": "stream",
     "text": [
      "{'노래개수': 25, '장르': '댄스'}\n",
      "{'노래개수': 22, '장르': '발라드'}\n",
      "{'노래개수': 13, '장르': 'POP'}\n",
      "{'노래개수': 11, '장르': '랩/힙합'}\n",
      "{'노래개수': 9, '장르': '발라드, 국내드라마'}\n",
      "{'노래개수': 4, '장르': 'R&B/Soul'}\n",
      "{'노래개수': 3, '장르': '랩/힙합, 인디음악'}\n",
      "{'노래개수': 3, '장르': '록/메탈'}\n",
      "{'노래개수': 2, '장르': 'R&B/Soul, 인디음악'}\n",
      "{'노래개수': 2, '장르': '록/메탈, 국내드라마'}\n",
      "{'노래개수': 2, '장르': '인디음악, 포크/블루스'}\n",
      "{'노래개수': 1, '장르': '성인가요'}\n",
      "{'노래개수': 1, '장르': '발라드, 인디음악'}\n",
      "{'노래개수': 1, '장르': '재즈, 애시드/퓨전/팝'}\n",
      "{'노래개수': 1, '장르': 'R&B/Soul, 국내드라마'}\n"
     ]
    }
   ],
   "source": [
    "#장르별로 노래가 몇곡이나 있는지?\n",
    "for song in col.aggregate([\n",
    "    {\n",
    "        '$group':{\n",
    "            '_id':'$장르',\n",
    "            '노래개수':{'$sum':1}\n",
    "            }\n",
    "    }\n",
    "    ,{'$sort':{'노래개수':-1}\n",
    "      \n",
    "     },\n",
    "    {\n",
    "     '$project':{'장르':'$_id','_id':0,'노래개수':1}\n",
    "    }\n",
    "]):\n",
    "    print(song)"
   ]
  },
  {
   "cell_type": "code",
   "execution_count": 110,
   "metadata": {},
   "outputs": [
    {
     "name": "stdout",
     "output_type": "stream",
     "text": [
      "{'_id': 'R&B/Soul', '노래개수': 4}\n",
      "{'_id': '랩/힙합', '노래개수': 11}\n",
      "{'_id': '발라드', '노래개수': 22}\n",
      "{'_id': '성인가요', '노래개수': 1}\n",
      "{'_id': '댄스', '노래개수': 25}\n",
      "{'_id': '랩/힙합, 인디음악', '노래개수': 3}\n",
      "{'_id': '록/메탈', '노래개수': 3}\n",
      "{'_id': 'R&B/Soul, 인디음악', '노래개수': 2}\n",
      "{'_id': 'POP', '노래개수': 13}\n",
      "{'_id': '록/메탈, 국내드라마', '노래개수': 2}\n",
      "{'_id': '인디음악, 포크/블루스', '노래개수': 2}\n",
      "{'_id': '발라드, 인디음악', '노래개수': 1}\n",
      "{'_id': '재즈, 애시드/퓨전/팝', '노래개수': 1}\n",
      "{'_id': 'R&B/Soul, 국내드라마', '노래개수': 1}\n",
      "{'_id': '발라드, 국내드라마', '노래개수': 9}\n"
     ]
    }
   ],
   "source": [
    "#장르별노래?DEF\n",
    "group = {\n",
    "    '$group':{\n",
    "        '_id':'$장르',\n",
    "        '노래개수':{'$sum':1}\n",
    "        \n",
    "    }\n",
    "    \n",
    "}\n",
    "sort = {\n",
    "    '$sort':{'노래개수':-1}\n",
    "    \n",
    "}\n",
    "project ={\n",
    "    '$project':{\n",
    "        '장르':'$_id',\n",
    "        '_id':0,\n",
    "        '노래개수':1\n",
    "    }\n",
    "    \n",
    "}\n",
    "for song in col.aggregate([group]):\n",
    "    print(song)"
   ]
  }
 ],
 "metadata": {
  "kernelspec": {
   "display_name": "Python 3",
   "language": "python",
   "name": "python3"
  },
  "language_info": {
   "codemirror_mode": {
    "name": "ipython",
    "version": 3
   },
   "file_extension": ".py",
   "mimetype": "text/x-python",
   "name": "python",
   "nbconvert_exporter": "python",
   "pygments_lexer": "ipython3",
   "version": "3.8.3"
  }
 },
 "nbformat": 4,
 "nbformat_minor": 4
}
