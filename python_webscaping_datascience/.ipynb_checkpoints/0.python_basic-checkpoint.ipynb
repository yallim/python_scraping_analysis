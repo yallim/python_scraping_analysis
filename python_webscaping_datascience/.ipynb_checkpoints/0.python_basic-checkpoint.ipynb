{
 "cells": [
  {
   "cell_type": "code",
   "execution_count": 2,
   "metadata": {},
   "outputs": [
    {
     "name": "stdout",
     "output_type": "stream",
     "text": [
      "<class 'dict'>\n",
      "홍길동\n"
     ]
    }
   ],
   "source": [
    "#dict\n",
    "my_dict = {\n",
    "    \"name\":\"홍길동\",\n",
    "    \"phone\":\"010-8414-6546\"\n",
    "}\n",
    "print(type(my_dict))\n",
    "name = my_dict['name']\n",
    "print(name)\n"
   ]
  },
  {
   "cell_type": "code",
   "execution_count": 3,
   "metadata": {},
   "outputs": [
    {
     "name": "stdout",
     "output_type": "stream",
     "text": [
      "name 홍길동\n",
      "phone 010-8414-6546\n"
     ]
    }
   ],
   "source": [
    "for k,v in my_dict.items():\n",
    "    print(k,v)"
   ]
  },
  {
   "cell_type": "code",
   "execution_count": 4,
   "metadata": {},
   "outputs": [],
   "source": [
    "def my_url(kind):\n",
    "    #url = \"https://openapi.naver.com/v1/search/{}.json\".format(kind)\n",
    "    url = f\"https://openapi.naver.com/v1/search/{kind}.json\"\n",
    "    print(url)\n"
   ]
  },
  {
   "cell_type": "code",
   "execution_count": 5,
   "metadata": {},
   "outputs": [
    {
     "name": "stdout",
     "output_type": "stream",
     "text": [
      "https://openapi.naver.com/v1/search/news.json\n",
      "https://openapi.naver.com/v1/search/movie.json\n",
      "https://openapi.naver.com/v1/search/book.json\n"
     ]
    }
   ],
   "source": [
    "my_url('news')    \n",
    "my_url('movie')\n",
    "my_url('book')"
   ]
  },
  {
   "cell_type": "code",
   "execution_count": 9,
   "metadata": {},
   "outputs": [
    {
     "name": "stdout",
     "output_type": "stream",
     "text": [
      "<class 'list'> ['a', 'b', 'c']\n"
     ]
    }
   ],
   "source": [
    "#split() 함수 사용\n",
    "\n",
    "my_str = 'a/b/c'\n",
    "result = my_str.split('/')\n",
    "print(type(result),result)"
   ]
  },
  {
   "cell_type": "code",
   "execution_count": 14,
   "metadata": {},
   "outputs": [
    {
     "data": {
      "text/plain": [
       "['',\n",
       " 'Yesterday all my troubles seemed so far away.',\n",
       " \"Now it looks as though they're here to stay.\",\n",
       " 'Oh, I believe in yesterday.',\n",
       " '',\n",
       " '']"
      ]
     },
     "execution_count": 14,
     "metadata": {},
     "output_type": "execute_result"
    }
   ],
   "source": [
    "lyric  = '''\n",
    "Yesterday all my troubles seemed so far away.\n",
    "Now it looks as though they're here to stay.\n",
    "Oh, I believe in yesterday.\n",
    "\n",
    "'''\n",
    "result = lyric.split('\\n')\n",
    "result"
   ]
  },
  {
   "cell_type": "code",
   "execution_count": 16,
   "metadata": {},
   "outputs": [
    {
     "data": {
      "text/plain": [
       "[1, 4, 9, 16]"
      ]
     },
     "execution_count": 16,
     "metadata": {},
     "output_type": "execute_result"
    }
   ],
   "source": [
    "#list comprehension (포괄적인 리스트)\n",
    "\n",
    "#before\n",
    "numbers = [1,2,3,4]\n",
    "result = []\n",
    "for value in numbers:\n",
    "    result.append(value **2)\n",
    "\n",
    "result    \n",
    "    "
   ]
  },
  {
   "cell_type": "code",
   "execution_count": 18,
   "metadata": {},
   "outputs": [
    {
     "data": {
      "text/plain": [
       "[1, 4, 9, 16]"
      ]
     },
     "execution_count": 18,
     "metadata": {},
     "output_type": "execute_result"
    }
   ],
   "source": [
    "#after\n",
    "result2 = [val ** 2 for val in numbers]\n",
    "result2"
   ]
  },
  {
   "cell_type": "code",
   "execution_count": 22,
   "metadata": {},
   "outputs": [
    {
     "data": {
      "text/plain": [
       "[0, 2, 4, 6, 8, 10, 12, 14, 16, 18]"
      ]
     },
     "execution_count": 22,
     "metadata": {},
     "output_type": "execute_result"
    }
   ],
   "source": [
    "#before\n",
    "even_list = []\n",
    "for val in range(20):\n",
    "    if val %2 ==0:\n",
    "       # print(val)\n",
    "        even_list.append(val)\n",
    "\n",
    "even_list\n"
   ]
  },
  {
   "cell_type": "code",
   "execution_count": 1,
   "metadata": {},
   "outputs": [
    {
     "data": {
      "text/plain": [
       "[0, 2, 4, 6, 8, 10, 12, 14, 16, 18]"
      ]
     },
     "execution_count": 1,
     "metadata": {},
     "output_type": "execute_result"
    }
   ],
   "source": [
    "even_list2=[val for val in range(20) if val %2==0 ]\n",
    "even_list2"
   ]
  },
  {
   "cell_type": "code",
   "execution_count": 7,
   "metadata": {},
   "outputs": [
    {
     "data": {
      "text/plain": [
       "[{'seq': 0, 'title': 'Dynamite'},\n",
       " {'seq': 1, 'title': 'Dynamite'},\n",
       " {'seq': 2, 'title': 'Dynamite'},\n",
       " {'seq': 3, 'title': 'Dynamite'},\n",
       " {'seq': 4, 'title': 'Dynamite'}]"
      ]
     },
     "execution_count": 7,
     "metadata": {},
     "output_type": "execute_result"
    }
   ],
   "source": [
    "#dict , list\n",
    "song_list = []\n",
    "for val in range(5):\n",
    "    song_dict = {}\n",
    "    song_dict['seq'] = val\n",
    "    song_dict['title'] = 'Dynamite'\n",
    "    #print(song_dict)\n",
    "    song_list.append(song_dict)\n",
    "    \n",
    "song_list    "
   ]
  },
  {
   "cell_type": "code",
   "execution_count": 15,
   "metadata": {},
   "outputs": [
    {
     "name": "stdout",
     "output_type": "stream",
     "text": [
      "a\n",
      "b\r",
      "c\tda\n",
      "b\r",
      "c\tda\n",
      "b\r",
      "c\td\n",
      "<class 're.Pattern'> re.compile('[\\\\n\\\\r\\\\t]')\n",
      "abcdabcdabcd\n"
     ]
    }
   ],
   "source": [
    "import re\n",
    "\n",
    "my_str = 'a\\nb\\rc\\td' * 3\n",
    "print(my_str)\n",
    "\n",
    "#정규표현식 패턴(pattern)객체 생성\n",
    "regexp = re.compile(r'[\\n\\r\\t]')\n",
    "print(type(regexp),regexp)\n",
    "#patten과 매칭되는 문자열 찾아서 다른 문자열로 치환\n",
    "result = regexp.sub(\" \",my_str)\n",
    "#str의 replace 함수로 중간 공백을 제거 \n",
    "result = result.replace(\" \",\"\")\n",
    "print(result)"
   ]
  },
  {
   "cell_type": "code",
   "execution_count": 3,
   "metadata": {},
   "outputs": [
    {
     "name": "stdout",
     "output_type": "stream",
     "text": [
      "<class 'int'>\n",
      "<class 'tuple'>\n"
     ]
    }
   ],
   "source": [
    "my_tuple = (1)\n",
    "print(type(my_tuple))\n",
    "\n",
    "my_tuple2 = ( 1,)\n",
    "print(type(my_tuple2))"
   ]
  },
  {
   "cell_type": "code",
   "execution_count": 1,
   "metadata": {},
   "outputs": [
    {
     "name": "stdout",
     "output_type": "stream",
     "text": [
      "(20대,21대)\n",
      "재선\n"
     ]
    }
   ],
   "source": [
    "temp = '재선(20대,21대)'\n",
    "print(temp[2:])\n",
    "print(temp[:2])"
   ]
  },
  {
   "cell_type": "code",
   "execution_count": null,
   "metadata": {},
   "outputs": [],
   "source": [
    "from datetime import date\n",
    "\n",
    "def calc_age(birth):\n",
    "    #현재날짜\n",
    "    today = date.today()\n",
    "    print(today,birth)\n",
    "    print('year',today.year - birth.year)\n",
    "    print('month day', ((today.month, today.day)) < (birth.month, birth.day) )\n",
    "    age = (today.year - birth.year) - ((today.month, today.day) < (birth.month, birth.day))\n",
    "    print(age)\n",
    "    return age"
   ]
  },
  {
   "cell_type": "code",
   "execution_count": null,
   "metadata": {},
   "outputs": [],
   "source": [
    "age = today.year - birth.year - ((today.month, today.day) < (birth.month, birth.day))"
   ]
  },
  {
   "cell_type": "code",
   "execution_count": null,
   "metadata": {},
   "outputs": [],
   "source": [
    "calc_age(date(1992,6,4))"
   ]
  },
  {
   "cell_type": "code",
   "execution_count": 1,
   "metadata": {},
   "outputs": [
    {
     "ename": "NameError",
     "evalue": "name 'calc_age' is not defined",
     "output_type": "error",
     "traceback": [
      "\u001b[1;31m---------------------------------------------------------------------------\u001b[0m",
      "\u001b[1;31mNameError\u001b[0m                                 Traceback (most recent call last)",
      "\u001b[1;32m<ipython-input-1-1c7938782ec5>\u001b[0m in \u001b[0;36m<module>\u001b[1;34m\u001b[0m\n\u001b[1;32m----> 1\u001b[1;33m \u001b[0mcalc_age\u001b[0m\u001b[1;33m(\u001b[0m\u001b[0mdate\u001b[0m\u001b[1;33m(\u001b[0m\u001b[1;36m1992\u001b[0m\u001b[1;33m,\u001b[0m\u001b[1;36m12\u001b[0m\u001b[1;33m,\u001b[0m\u001b[1;36m4\u001b[0m\u001b[1;33m)\u001b[0m\u001b[1;33m)\u001b[0m\u001b[1;33m\u001b[0m\u001b[1;33m\u001b[0m\u001b[0m\n\u001b[0m",
      "\u001b[1;31mNameError\u001b[0m: name 'calc_age' is not defined"
     ]
    }
   ],
   "source": [
    "calc_age(date(1992,12,4))\n"
   ]
  },
  {
   "cell_type": "code",
   "execution_count": null,
   "metadata": {},
   "outputs": [],
   "source": [
    "my_list = [10,20,40,0,90]\n",
    "from itertools import count\n",
    "\n",
    "for val in count(0):\n",
    "    pass"
   ]
  },
  {
   "cell_type": "code",
   "execution_count": 2,
   "metadata": {},
   "outputs": [
    {
     "name": "stdout",
     "output_type": "stream",
     "text": [
      "Hello\n",
      "welcom\n",
      "to\n",
      "geeksforgeeks\n"
     ]
    }
   ],
   "source": [
    "#함수의 아규먼트갯수가 가변적인경우\n",
    "def myFun(*argv):\n",
    "    for arg in argv:\n",
    "        print(arg)\n",
    "        \n",
    "myFun('Hello','welcom','to','geeksforgeeks')        "
   ]
  },
  {
   "cell_type": "code",
   "execution_count": 3,
   "metadata": {},
   "outputs": [
    {
     "name": "stdout",
     "output_type": "stream",
     "text": [
      "{'fist': 'Geeks', 'mid': 'for', 'last': 'Geeks'} {'fist': 'Geeks', 'mid': 'for', 'last': 'Geeks'}\n",
      "fist==Geeks\n",
      "mid==for\n",
      "last==Geeks\n"
     ]
    }
   ],
   "source": [
    "def myFun(**kwargs):\n",
    "    print(kwargs,kwargs)\n",
    "    for key,value in kwargs.items():\n",
    "        print(\"%s==%s\"%(key,value))\n",
    "\n",
    "#driver code\n",
    "myFun(fist='Geeks',mid='for',last='Geeks')"
   ]
  },
  {
   "cell_type": "code",
   "execution_count": 6,
   "metadata": {},
   "outputs": [
    {
     "data": {
      "text/plain": [
       "0    20200-10-31\n",
       "1     2020-10-29\n",
       "dtype: object"
      ]
     },
     "execution_count": 6,
     "metadata": {},
     "output_type": "execute_result"
    }
   ],
   "source": [
    "import pandas as pd\n",
    "\n",
    "series = pd.Series(['20200-10-31','2020-10-29'])\n",
    "series"
   ]
  },
  {
   "cell_type": "code",
   "execution_count": 7,
   "metadata": {},
   "outputs": [
    {
     "ename": "NameError",
     "evalue": "name 'day_count' is not defined",
     "output_type": "error",
     "traceback": [
      "\u001b[1;31m---------------------------------------------------------------------------\u001b[0m",
      "\u001b[1;31mNameError\u001b[0m                                 Traceback (most recent call last)",
      "\u001b[1;32m<ipython-input-7-d4fbb63d2e7f>\u001b[0m in \u001b[0;36m<module>\u001b[1;34m\u001b[0m\n\u001b[1;32m----> 1\u001b[1;33m \u001b[0mplot\u001b[0m \u001b[1;33m=\u001b[0m \u001b[0mday_count\u001b[0m\u001b[1;33m.\u001b[0m\u001b[0mplot\u001b[0m\u001b[1;33m(\u001b[0m\u001b[0mfigsize\u001b[0m\u001b[1;33m=\u001b[0m\u001b[1;33m(\u001b[0m\u001b[1;36m15\u001b[0m\u001b[1;33m,\u001b[0m\u001b[1;36m4\u001b[0m\u001b[1;33m)\u001b[0m\u001b[1;33m)\u001b[0m\u001b[1;33m\u001b[0m\u001b[1;33m\u001b[0m\u001b[0m\n\u001b[0m",
      "\u001b[1;31mNameError\u001b[0m: name 'day_count' is not defined"
     ]
    }
   ],
   "source": []
  },
  {
   "cell_type": "code",
   "execution_count": null,
   "metadata": {},
   "outputs": [],
   "source": []
  },
  {
   "cell_type": "code",
   "execution_count": null,
   "metadata": {},
   "outputs": [],
   "source": []
  },
  {
   "cell_type": "code",
   "execution_count": null,
   "metadata": {},
   "outputs": [],
   "source": []
  }
 ],
 "metadata": {
  "kernelspec": {
   "display_name": "Python 3",
   "language": "python",
   "name": "python3"
  },
  "language_info": {
   "codemirror_mode": {
    "name": "ipython",
    "version": 3
   },
   "file_extension": ".py",
   "mimetype": "text/x-python",
   "name": "python",
   "nbconvert_exporter": "python",
   "pygments_lexer": "ipython3",
   "version": "3.8.3"
  }
 },
 "nbformat": 4,
 "nbformat_minor": 4
}
