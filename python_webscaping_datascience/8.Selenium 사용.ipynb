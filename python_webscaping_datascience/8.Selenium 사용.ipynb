{
 "cells": [
  {
   "cell_type": "code",
   "execution_count": 1,
   "metadata": {},
   "outputs": [
    {
     "name": "stdout",
     "output_type": "stream",
     "text": [
      "Name: selenium\n",
      "Version: 3.141.0\n",
      "Summary: Python bindings for Selenium\n",
      "Home-page: https://github.com/SeleniumHQ/selenium/\n",
      "Author: UNKNOWN\n",
      "Author-email: UNKNOWN\n",
      "License: Apache 2.0\n",
      "Location: c:\\programdata\\anaconda3\\lib\\site-packages\n",
      "Requires: urllib3\n",
      "Required-by: \n",
      "Note: you may need to restart the kernel to use updated packages.\n"
     ]
    }
   ],
   "source": [
    "pip show selenium"
   ]
  },
  {
   "cell_type": "markdown",
   "metadata": {},
   "source": [
    "### WebDriver의 Chrome 객체생성\n",
    "* python.org 웹사이트로 요처을 보내기\n",
    "* pypi 메뉴를 클릭해서 pypi.org 웹사이트로 이동하기"
   ]
  },
  {
   "cell_type": "code",
   "execution_count": 26,
   "metadata": {},
   "outputs": [
    {
     "name": "stdout",
     "output_type": "stream",
     "text": [
      "Python\n",
      "PSF\n",
      "Docs\n",
      "PyPI\n",
      "Jobs\n",
      "Community\n"
     ]
    }
   ],
   "source": [
    "from selenium import webdriver\n",
    "import time\n",
    "\n",
    "#webdriver에 포함된 크롬 객체생성 - chromedriver.exe 사용해서 객체 생성\n",
    "driver = webdriver.Chrome('./chromedriver.exe')\n",
    "#python.org 사이트로 요청 보내기\n",
    "driver.get('https://www.python.org/')\n",
    "\n",
    "#li 엘리먼트 선택해서 가져오기\n",
    "li_tags = driver.find_elements_by_css_selector('div#top ul.menu li')\n",
    "#print(li_tags)\n",
    "#해당 pypi엘리먼트를 찾아서 저장할 변수 선언\n",
    "pypi = None\n",
    "for li_tag in li_tags:\n",
    "    print(li_tag.text)\n",
    "    if li_tag.text == 'PyPI':\n",
    "        pypi=li_tag\n",
    "time.sleep(3)        \n",
    "#pypi 엘리먼트의 click()함수 호출\n",
    "pypi.click()\n",
    "\n",
    "time.sleep(3)\n",
    "#driver 종료\n",
    "driver.quit()"
   ]
  },
  {
   "cell_type": "markdown",
   "metadata": {},
   "source": [
    "### 네이버 포탈의 image를 save 해보기"
   ]
  },
  {
   "cell_type": "code",
   "execution_count": 15,
   "metadata": {},
   "outputs": [],
   "source": [
    "from selenium import webdriver\n",
    "import time\n",
    "\n",
    "driver = webdriver.Chrome('./chromedriver.exe')\n",
    "driver.get('https://www.naver.com/')\n",
    "driver.save_screenshot('img/naver.png')\n",
    "\n",
    "\n",
    "time.sleep(3)\n",
    "driver.quit()"
   ]
  },
  {
   "cell_type": "markdown",
   "metadata": {},
   "source": [
    "### 네이버 포털에 파이썬 검색어를 입력하\n",
    "* 검색어를 입력하고 엔터를 치고\n",
    "* 검색된 결과중에서 지식인에 검색된 링크 클릭"
   ]
  },
  {
   "cell_type": "code",
   "execution_count": 25,
   "metadata": {},
   "outputs": [],
   "source": [
    "from selenium import webdriver\n",
    "from selenium.webdriver.common.keys import Keys\n",
    "import time\n",
    "\n",
    "#webdriver에 포함된 Chrome 객체 생성 - chromedriver.exe를 사용\n",
    "driver = webdriver.Chrome('./chromedriver.exe')\n",
    "\n",
    "search = driver.get('https://www.naver.com/')\n",
    "time.sleep(2)\n",
    "\n",
    "#검색어 엘리먼트 가져오기\n",
    "search_tag = driver.find_element_by_css_selector('#query')\n",
    "#print(search_tag)\n",
    "\n",
    "#검색창에 '파이썬' 입력\n",
    "search_tag.send_keys('파이썬')\n",
    "#엔터를입력\n",
    "search_tag.send_keys(Keys.ENTER)\n",
    "time.sleep(2)\n",
    "\n",
    "#검색된 결과 중에서 a tag 가져오기 < a class='tit'>\n",
    "a_tags = driver.find_elements_by_css_selector('a.tit')\n",
    "#첫번째 a tag 선택하고, click()함수 호출\n",
    "a_tags[0].click()\n",
    "\n",
    "\n",
    "\n",
    "\n",
    "#지연 시간 부여\n",
    "time.sleep(5)\n",
    "#driver 종료\n",
    "driver.quit()"
   ]
  },
  {
   "cell_type": "markdown",
   "metadata": {},
   "source": [
    "### Daum 포털 로그인/로그아웃\n",
    "* id와 password 입력하고 패스워드 필드에서 엔터 or 로그인버튼 눌러서 로그인\n",
    "* 로그인 후 이름과 메일건수 알아내기\n",
    "* 로그아웃 버튼 클릭해서 로그아웃"
   ]
  },
  {
   "cell_type": "code",
   "execution_count": 43,
   "metadata": {},
   "outputs": [
    {
     "name": "stdout",
     "output_type": "stream",
     "text": [
      "이름: 응슷응님\n",
      "메일건수: 11\n"
     ]
    }
   ],
   "source": [
    "from selenium import webdriver\n",
    "from selenium.webdriver.common.keys import Keys\n",
    "import time\n",
    "\n",
    "url = 'https://logins.daum.net/accounts/signinform.do'\n",
    "driver = webdriver.Chrome('./chromedriver.exe')\n",
    "#웹 리소스 로드를 위해 2초 대기\n",
    "driver.implicitly_wait(2)\n",
    "#요청보내기\n",
    "driver.get(url)\n",
    "time.sleep(3)\n",
    "#id와 password를 입력하기 위해 send_keys()호출\n",
    "driver.find_element_by_css_selector('#id').send_keys('ayasaky')\n",
    "driver.find_element_by_css_selector('#inputPwd').send_keys('vqwe2458')\n",
    "#driver.find_elements_by_css_selector('button#loginBtn').click()\n",
    "\n",
    "driver.find_element_by_css_selector('#inputPwd').send_keys(Keys.RETURN)\n",
    "\n",
    "name = driver.find_element_by_css_selector('a.name_user').text\n",
    "print('이름:',name)\n",
    "\n",
    "mail = driver.find_element_by_css_selector('a.link_num').text\n",
    "print('메일건수:',mail)\n",
    "\n",
    "time.sleep(3)\n",
    "logout = driver.find_element_by_css_selector('a.btn_logout')\n",
    "logout.click()\n",
    "\n",
    "time.sleep(5)\n",
    "driver.quit()\n",
    "\n"
   ]
  },
  {
   "cell_type": "code",
   "execution_count": null,
   "metadata": {},
   "outputs": [],
   "source": []
  },
  {
   "cell_type": "code",
   "execution_count": null,
   "metadata": {},
   "outputs": [],
   "source": []
  },
  {
   "cell_type": "code",
   "execution_count": null,
   "metadata": {},
   "outputs": [],
   "source": []
  },
  {
   "cell_type": "code",
   "execution_count": null,
   "metadata": {},
   "outputs": [],
   "source": []
  }
 ],
 "metadata": {
  "kernelspec": {
   "display_name": "Python 3",
   "language": "python",
   "name": "python3"
  },
  "language_info": {
   "codemirror_mode": {
    "name": "ipython",
    "version": 3
   },
   "file_extension": ".py",
   "mimetype": "text/x-python",
   "name": "python",
   "nbconvert_exporter": "python",
   "pygments_lexer": "ipython3",
   "version": "3.8.3"
  }
 },
 "nbformat": 4,
 "nbformat_minor": 4
}
