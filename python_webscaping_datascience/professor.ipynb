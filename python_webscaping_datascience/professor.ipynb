{
 "cells": [
  {
   "cell_type": "markdown",
   "metadata": {},
   "source": [
    "### 네이버 Papago 서비스 사용\n",
    "* 파이썬 기본 urllib 라이브러리 사용"
   ]
  },
  {
   "cell_type": "code",
   "execution_count": 1,
   "metadata": {},
   "outputs": [
    {
     "name": "stdout",
     "output_type": "stream",
     "text": [
      "{\"message\":{\"@type\":\"response\",\"@service\":\"naverservice.nmt.proxy\",\"@version\":\"1.0.0\",\"result\":{\"srcLangType\":\"en\",\"tarLangType\":\"ko\",\"translatedText\":\"어제 나의 모든 고민들은 너무나 멀리 떨어져 있는 것 같았다.\",\"engineType\":\"N2MT\",\"pivot\":null}}}\n"
     ]
    }
   ],
   "source": [
    "# 네이버 Papago NMT API 예제\n",
    "import os\n",
    "import sys\n",
    "import urllib.request\n",
    "\n",
    "client_id = \"mJAaMfhD3hNaYk6MgyV2\"\n",
    "client_secret = \"Gt4J1hqbYU\"\n",
    "encText = urllib.parse.quote(\"Yesterday all my troubles seemed so far away.\")\n",
    "data = \"source=en&target=ko&text=\" + encText\n",
    "url = \"https://openapi.naver.com/v1/papago/n2mt\"\n",
    "request = urllib.request.Request(url)\n",
    "request.add_header(\"X-Naver-Client-Id\",client_id)\n",
    "request.add_header(\"X-Naver-Client-Secret\",client_secret)\n",
    "response = urllib.request.urlopen(request, data=data.encode(\"utf-8\"))\n",
    "rescode = response.getcode()\n",
    "if(rescode==200):\n",
    "    response_body = response.read()\n",
    "    print(response_body.decode('utf-8'))\n",
    "else:\n",
    "    print(\"Error Code:\" + rescode)"
   ]
  },
  {
   "cell_type": "markdown",
   "metadata": {},
   "source": [
    "* requests 라이브러리를 사용"
   ]
  },
  {
   "cell_type": "code",
   "execution_count": 19,
   "metadata": {},
   "outputs": [
    {
     "name": "stdout",
     "output_type": "stream",
     "text": [
      "<class 'requests.models.Response'>\n",
      "200 True\n",
      "응답헤더 {'Server': 'nginx', 'Date': 'Thu, 15 Oct 2020 06:03:11 GMT', 'Content-Type': 'application/json; charset=UTF-8', 'Content-Length': '221', 'Connection': 'keep-alive', 'Keep-Alive': 'timeout=5', 'X-QUOTA': '45', 'Content-Encoding': 'gzip'}\n",
      "요청헤더 {'User-Agent': 'python-requests/2.24.0', 'Accept-Encoding': 'gzip, deflate', 'Accept': '*/*', 'Connection': 'keep-alive', 'X-Naver-Client-Id': 'mJAaMfhD3hNaYk6MgyV2', 'X-Naver-Client-Secret': 'Gt4J1hqbYU', 'Content-Length': '73', 'Content-Type': 'application/x-www-form-urlencoded'}\n"
     ]
    }
   ],
   "source": [
    "import requests\n",
    "\n",
    "client_id = \"mJAaMfhD3hNaYk6MgyV2\"\n",
    "client_secret = \"Gt4J1hqbYU\"\n",
    "enc_text = \"Yesterday all my troubles seemed so far away.\"\n",
    "url = \"https://openapi.naver.com/v1/papago/n2mt\"\n",
    "\n",
    "#request header 값 선언\n",
    "req_header = {\n",
    "    \"X-Naver-Client-Id\":client_id,\n",
    "    \"X-Naver-Client-Secret\":client_secret\n",
    "}\n",
    "#request form data 값 선언\n",
    "req_data = {\n",
    "    \"source\":\"en\",\n",
    "    \"target\":\"zh-CN\",\n",
    "    \"text\":enc_text\n",
    "}\n",
    "\n",
    "#request 보내기 ,post() 함수 호출\n",
    "res = requests.post(url, data=req_data, headers=req_header)\n",
    "print(type(res))\n",
    "print(res.status_code, res.ok)\n",
    "print('응답헤더',res.headers)\n",
    "print('요청헤더',res.request.headers)\n"
   ]
  },
  {
   "cell_type": "code",
   "execution_count": 20,
   "metadata": {},
   "outputs": [
    {
     "name": "stdout",
     "output_type": "stream",
     "text": [
      "<class 'str'>\n",
      "응답 Text  {\"message\":{\"@type\":\"response\",\"@service\":\"naverservice.nmt.proxy\",\"@version\":\"1.0.0\",\"result\":{\"srcLangType\":\"en\",\"tarLangType\":\"zh-CN\",\"translatedText\":\"昨天,我所有的烦恼似乎都离我太远了。\",\"engineType\":\"N2MT\",\"pivot\":null}}}\n"
     ]
    }
   ],
   "source": [
    "if res.ok:\n",
    "    print(type(res.text))\n",
    "    print('응답 Text ', res.text)\n",
    "else:\n",
    "    print('Status Code :', res.status_code)"
   ]
  },
  {
   "cell_type": "code",
   "execution_count": 21,
   "metadata": {},
   "outputs": [
    {
     "name": "stdout",
     "output_type": "stream",
     "text": [
      "<class 'dict'>\n",
      "{'message': {'@type': 'response', '@service': 'naverservice.nmt.proxy', '@version': '1.0.0', 'result': {'srcLangType': 'en', 'tarLangType': 'zh-CN', 'translatedText': '昨天,我所有的烦恼似乎都离我太远了。', 'engineType': 'N2MT', 'pivot': None}}}\n"
     ]
    }
   ],
   "source": [
    "if res.ok:\n",
    "    result_json = res.json()\n",
    "    print(type(result_json))\n",
    "    print(result_json)"
   ]
  },
  {
   "cell_type": "code",
   "execution_count": 22,
   "metadata": {},
   "outputs": [
    {
     "name": "stdout",
     "output_type": "stream",
     "text": [
      "昨天,我所有的烦恼似乎都离我太远了。\n"
     ]
    }
   ],
   "source": [
    "print(result_json['message']['result']['translatedText'])"
   ]
  },
  {
   "cell_type": "markdown",
   "metadata": {},
   "source": [
    "### 네이버 검색 서비스\n",
    "* urllib 사용"
   ]
  },
  {
   "cell_type": "code",
   "execution_count": 26,
   "metadata": {},
   "outputs": [],
   "source": [
    "import os\n",
    "import sys\n",
    "import urllib.request\n",
    "\n",
    "client_id = \"mJAaMfhD3hNaYk6MgyV2\"\n",
    "client_secret = \"Gt4J1hqbYU\"\n",
    "\n",
    "encText = urllib.parse.quote(\"파이썬\")\n",
    "url = \"https://openapi.naver.com/v1/search/blog?query=\" + encText # json 결과\n",
    "# url = \"https://openapi.naver.com/v1/search/blog.xml?query=\" + encText # xml 결과\n",
    "request = urllib.request.Request(url)\n",
    "request.add_header(\"X-Naver-Client-Id\",client_id)\n",
    "request.add_header(\"X-Naver-Client-Secret\",client_secret)\n",
    "response = urllib.request.urlopen(request)\n",
    "rescode = response.getcode()\n",
    "if(rescode==200):\n",
    "    response_body = response.read()\n",
    "    #print(response_body.decode('utf-8'))\n",
    "else:\n",
    "    print(\"Error Code:\" + rescode)"
   ]
  },
  {
   "cell_type": "markdown",
   "metadata": {},
   "source": [
    "* 검색 서비스를 requests 사용하는 것으로 변경"
   ]
  },
  {
   "cell_type": "code",
   "execution_count": 30,
   "metadata": {},
   "outputs": [
    {
     "name": "stdout",
     "output_type": "stream",
     "text": [
      "200 True\n",
      "{\n",
      "\"lastBuildDate\": \"Thu, 15 Oct 2020 15:53:19 +0900\",\n",
      "\"total\": 176920,\n",
      "\"start\": 1,\n",
      "\"display\": 10,\n",
      "\"items\": [\n",
      "{\n",
      "\"title\": \"<b>파이썬</b>(Phython)이 스타트업에게 인기있는 이유 7가지\",\n",
      "\"link\": \"http://blog.wishket.com/%ED%8C%8C%EC%9D%B4%EC%8D%ACpython%EC%9D%B4-%EC%8A%A4%ED%83%80%ED%8A%B8%EC%97%85%EC%97%90%EA%B2%8C-%EC%9D%B8%EA%B8%B0%EC%9E%88%EB%8A%94-%EC%9D%B4%EC%9C%A0-7%EA%B0%80%EC%A7%80/\",\n",
      "\"description\": \"<b>파이썬</b>(Python)이 스타트업에게 인기있는 이유 7가지 Facebook Twitter 안녕하세요. 위시켓입니다.... 그렇기 때문에 <b>파이썬</b>(Python)과 같은 강력하면서도 기반이 튼튼한 기술을 사용하는 것이 가장 좋습니다.... \",\n",
      "\"bloggername\": \"그린 클라이언트 – Wishket\",\n",
      "\"bloggerlink\": \"http://blog.wishket.com/\",\n",
      "\"postdate\": \"20200831\"\n",
      "\n",
      "},\n",
      "{\n",
      "\"title\": \"<b>파이썬</b> 학원 확연히 다른 스킬 강좌!\",\n",
      "\"link\": \"https:\\/\\/blog.naver.com\\/hmiya00?Redirect=Log&logNo=222114719683\",\n",
      "\"description\": \"오늘은 <b>파이썬</b> 학원을 소개해 드릴까 합니다. 저는 어렸을 때부터 기계나 컴퓨터에 관심이 많았어요.... 다행히 제가 다녔던 <b>파이썬</b> 학원은 국비 지원을 통해 금전적인 부담을 조금 덜고 수업을 들을 수 있어서... \",\n",
      "\"bloggername\": \"한시라도 빨리 떠나시게\",\n",
      "\"bloggerlink\": \"https://blog.naver.com/hmiya00\",\n",
      "\"postdate\": \"20201013\"\n",
      "\n",
      "},\n",
      "{\n",
      "\"title\": \"<b>파이썬</b> 학원 비교와 선택의 기준!\",\n",
      "\"link\": \"https:\\/\\/blog.naver.com\\/likedelma?Redirect=Log&logNo=222043548217\",\n",
      "\"description\": \"이미 기본 사무 업무에 종사를 하는 직장인, 이직을 목적으로 퇴사를 결정한 분들이 <b>파이썬</b> 학원에... 기본적으로 <b>파이썬</b> 학원에 다니게 되면 가장 베이직한 과정으로 한 달간 수료를 할 수 있는데, 프로그래밍에... \",\n",
      "\"bloggername\": \"보리의 공부일지\",\n",
      "\"bloggerlink\": \"https://blog.naver.com/likedelma\",\n",
      "\"postdate\": \"20200728\"\n",
      "\n",
      "},\n",
      "{\n",
      "\"title\": \"[P056] <b>파이썬</b>의 정형화된 출력형식(Formatted Output... \",\n",
      "\"link\": \"https:\\/\\/blog.naver.com\\/choi_s_h?Redirect=Log&logNo=222103125184\",\n",
      "\"description\": \"<b>파이썬</b>의 형식지정자(숫자를 출력할 때의 자릿수)에 대해서는, [P008] https://blog.naver.com/choi_s_h/221259316543에서 간략하게 맛을 보았지만 <b>파이썬</b>에는 출력형식을 지정하는 많은 방법들이 있고, 이번... \",\n",
      "\"bloggername\": \"Common Sense, Science & Engineering\",\n",
      "\"bloggerlink\": \"https://blog.naver.com/choi_s_h\",\n",
      "\"postdate\": \"20200929\"\n",
      "\n",
      "},\n",
      "{\n",
      "\"title\": \"강남<b>파이썬</b>학원 입문이 어렵다고요?\",\n",
      "\"link\": \"https:\\/\\/blog.naver.com\\/kimbg20?Redirect=Log&logNo=222115621942\",\n",
      "\"description\": \"최근 기사에 따르면 프로그래밍 언어 순위에서 <b>파이썬</b>이 자바를 이기고 있다는 이야기가 나오고 있습니다 이 말은 즉 <b>파이썬</b>이 빠르게 성장하고 있고 많은 기업에서 이 언어를 사용하고 있다는 뜻이죠 자바는... \",\n",
      "\"bloggername\": \"아름다운 세상아 같이 빨려들자~~\",\n",
      "\"bloggerlink\": \"https://blog.naver.com/kimbg20\",\n",
      "\"postdate\": \"20201014\"\n",
      "\n",
      "},\n",
      "{\n",
      "\"title\": \"<b>파이썬</b>과 함께 한 지난 4주간 학습 내용 정리\",\n",
      "\"link\": \"https:\\/\\/blog.naver.com\\/annerheekim?Redirect=Log&logNo=222073420438\",\n",
      "\"description\": \"소논문을 제출한 다음 날인 7월 28일, <b>파이썬</b>을 설치하느라 고전하는 것으로 <b>파이썬</b>과의 인연이 시작되었고요. 8월 1일에 경사대 특강을 마친 후 8월 2일에 아나콘다와 주피터 노트북을 깔고 본격적인 공부를... \",\n",
      "\"bloggername\": \"길벗(Gilbert)의 앤(Anne) @ Wuxi & Shanghai\",\n",
      "\"bloggerlink\": \"https://blog.naver.com/annerheekim\",\n",
      "\"postdate\": \"20200828\"\n",
      "\n",
      "},\n",
      "{\n",
      "\"title\": \"<b>파이썬</b> 학원 더 늦기 전에 도전!\",\n",
      "\"link\": \"https:\\/\\/blog.naver.com\\/jcy0207?Redirect=Log&logNo=222038541815\",\n",
      "\"description\": \"그래서 <b>파이썬</b> 학원을 찾는 분들이 늘어가도 있습니다. 특히나 이전에 컴퓨터 쪽에서 공부를 하신... 다른 <b>파이썬</b> 학원에 찾아가 본다고 하더라도 이 곳 이상으로 좋은 환경인 곳을 찾기는 어려울 거라... \",\n",
      "\"bloggername\": \"모아의 교육정보 모아모아\",\n",
      "\"bloggerlink\": \"https://blog.naver.com/jcy0207\",\n",
      "\"postdate\": \"20200722\"\n",
      "\n",
      "},\n",
      "{\n",
      "\"title\": \"자바 <b>파이썬</b> 입문 언어 승자는?\",\n",
      "\"link\": \"https:\\/\\/blog.naver.com\\/skh556?Redirect=Log&logNo=222038807263\",\n",
      "\"description\": \"그중에서도 우선순위 1순위, 2순위를 다투는 자바 <b>파이썬</b> 비교 분석을 하는 포스팅을 하려고 합니다.... 다음은 최근 새롭게 뜨고 있는 <b>파이썬</b>에 대해서 알아볼까요? &lt; 출처 : <b>파이썬</b> 홈페이지 &gt; <b>파 이 썬</b> <b>파이썬</b>은... \",\n",
      "\"bloggername\": \"우렁찬한우의 힘찬 블로그\",\n",
      "\"bloggerlink\": \"https://blog.naver.com/skh556\",\n",
      "\"postdate\": \"20200723\"\n",
      "\n",
      "},\n",
      "{\n",
      "\"title\": \"<b>파이썬</b>마스터 자격증을 통한 첫 코딩공부!\",\n",
      "\"link\": \"https:\\/\\/blog.naver.com\\/yoonhan04?Redirect=Log&logNo=222070576532\",\n",
      "\"description\": \"여러분은 <b>파이썬</b>마스터 자격증을 들어보신적이 있으신가요? 아직모르시는 분들이 많기때문에 오늘은 <b>파이썬</b>자격증에 대해서 알아보겠습니다! 코딩자격증 <b>파이썬</b>마스터 TEAM STUDY 실무자 혹은 전공자 분들은... \",\n",
      "\"bloggername\": \"스터디팀♥\",\n",
      "\"bloggerlink\": \"https://blog.naver.com/yoonhan04\",\n",
      "\"postdate\": \"20200825\"\n",
      "\n",
      "},\n",
      "{\n",
      "\"title\": \"점프 투 <b>파이썬</b>으로 코딩 공부 시작하기\",\n",
      "\"link\": \"https:\\/\\/blog.naver.com\\/thkimnguy?Redirect=Log&logNo=222016218489\",\n",
      "\"description\": \"그중에서 요즘 핫한 것이 바로 <b>파이썬</b>이라고 합니다. 평소에 코딩에 좀 관심이 있는 터라 바로 인터넷에서 혼자 공부할 수 있는 책을 검색해보니 점프 투 <b>파이썬</b>이라는 책이 눈에 띄네요. 그래서 바로 결제해... \",\n",
      "\"bloggername\": \"테리의 일상\",\n",
      "\"bloggerlink\": \"https://blog.naver.com/thkimnguy\",\n",
      "\"postdate\": \"20200630\"\n",
      "\n",
      "}\n",
      "]\n",
      "}\n",
      "\n"
     ]
    }
   ],
   "source": [
    "import requests\n",
    "\n",
    "keyword = \"파이썬\"\n",
    "\n",
    "client_id = \"mJAaMfhD3hNaYk6MgyV2\"\n",
    "client_secret = \"Gt4J1hqbYU\"\n",
    "\n",
    "url = \"https://openapi.naver.com/v1/search/blog\"\n",
    "\n",
    "req_header = {\n",
    "    \"X-Naver-Client-Id\":client_id,\n",
    "    \"X-Naver-Client-Secret\":client_secret\n",
    "}\n",
    "\n",
    "req_data = {\n",
    "    \"query\":keyword\n",
    "}\n",
    "\n",
    "res = requests.get(url, params=req_data, headers=req_header)\n",
    "print(res.status_code, res.ok)\n",
    "print(res.text)"
   ]
  },
  {
   "cell_type": "code",
   "execution_count": 64,
   "metadata": {},
   "outputs": [],
   "source": [
    "def search_service(kind,keyword,display_count):\n",
    "    import requests\n",
    "\n",
    "    client_id = \"mJAaMfhD3hNaYk6MgyV2\"\n",
    "    client_secret = \"Gt4J1hqbYU\"\n",
    "\n",
    "    url = f\"https://openapi.naver.com/v1/search/{kind}.json\"\n",
    "\n",
    "    req_header = {\n",
    "        \"X-Naver-Client-Id\":client_id,\n",
    "        \"X-Naver-Client-Secret\":client_secret\n",
    "    }\n",
    "\n",
    "    req_data = {\n",
    "        \"query\":keyword,\n",
    "        \"display\":display_count\n",
    "    }\n",
    "\n",
    "    res = requests.get(url, params=req_data, headers=req_header)\n",
    "    #print(res.status_code, res.ok)\n",
    "    #print(res.text)\n",
    "    json_data = res.json()\n",
    "    #print(type(json_data['items']))\n",
    "    item_list = json_data['items']\n",
    "    #print(len(item_list))\n",
    "    \n",
    "    result_list = []\n",
    "    for item in item_list:\n",
    "        #print(type(item))\n",
    "        #print(item)\n",
    "        result_list.append(item)\n",
    "    return result_list\n",
    "\n",
    "#search_service(\"자바\",2)    "
   ]
  },
  {
   "cell_type": "code",
   "execution_count": 57,
   "metadata": {},
   "outputs": [
    {
     "name": "stdout",
     "output_type": "stream",
     "text": [
      "200 True\n",
      "<class 'list'>\n",
      "3\n",
      "[{'title': '이것이 취업을 위한 코딩 테스트다 with <b>파이썬</b> (취업과 이직을 결정하는 알고리즘 인터뷰 완벽 가이드, C/C++, 자바 코드 제공)', 'link': 'http://book.naver.com/bookdb/book_detail.php?bid=16439154', 'image': 'https://bookthumb-phinf.pstatic.net/cover/164/391/16439154.jpg?type=m1&udate=20200928', 'author': '나동빈', 'price': '34000', 'discount': '30600', 'publisher': '한빛미디어', 'pubdate': '20200805', 'isbn': '1162243074 9791162243077', 'description': '8가지 핵심 알고리즘 이론을 쉽게 설명하고, 관련 실전 문제를 풀이했다. 출제 유형 분석, 이론 설명, 기출문제 풀이까지! 어떤 코딩 테스트도 이 책 한 권으로 대비할 수 있을 것이다. 코딩 테스트에서 주로 선택하는 <b>파이썬</b>을 기반으로 설명되어 있으며, <b>파이썬</b> 코드 외에도 C/C++, 자바 코드를 추가로 제공한다.'}, {'title': '<b>파이썬</b> 알고리즘 인터뷰 (95가지 알고리즘 문제 풀이로 완성하는 코딩 테스트)', 'link': 'http://book.naver.com/bookdb/book_detail.php?bid=16406247', 'image': 'https://bookthumb-phinf.pstatic.net/cover/164/062/16406247.jpg?type=m1&udate=20200915', 'author': '박상길', 'price': '38000', 'discount': '34200', 'publisher': '책만', 'pubdate': '20200715', 'isbn': '1189909170 9791189909178', 'description': '물론, <b>파이썬</b>으로 구현하는 코드 풀이를 통해 성능 최적화 기법, <b>파이썬</b>의 핵심 문법과 다양한 실용 테크닉까지 배울 수 있는, 초보 개발자와 숙련 개발자... 이 책은 현업과 실무에 유용한 주요 알고리즘 이론을 깊숙이 이해하고, <b>파이썬</b>의 핵심 기능과 문법까지 상세하게 이해할 수 있는 취업용 코딩 테스트를... '}, {'title': '혼자 공부하는 <b>파이썬</b> (<b>파이썬</b> 최신 버전 반영)', 'link': 'http://book.naver.com/bookdb/book_detail.php?bid=15028688', 'image': 'https://bookthumb-phinf.pstatic.net/cover/150/286/15028688.jpg?type=m1&udate=20200915', 'author': '윤인성', 'price': '18000', 'discount': '16200', 'publisher': '한빛미디어', 'pubdate': '20190610', 'isbn': '1162241888 9791162241882', 'description': '1:1 과외하듯 배우는 <b>파이썬</b> 프로그래밍 자습서(<b>파이썬</b> 최신 버전 반영)\\n이 책은 독학으로 프로그래밍 언어를 처음 배우려는 입문자가, 혹은 <b>파이썬</b>을 배우려는 입문자가 ‘꼭 필요한 내용을 제대로’ 학습할 수 있도록 구성했다. ‘무엇을’, ‘어떻게’ 학습해야 할지조차 모르는 입문자의 막연한 마음을 살펴... '}]\n"
     ]
    }
   ],
   "source": [
    "my_list = search_service(\"book\",\"파이썬\",3)\n",
    "print(my_list)"
   ]
  },
  {
   "cell_type": "code",
   "execution_count": 65,
   "metadata": {},
   "outputs": [
    {
     "name": "stdout",
     "output_type": "stream",
     "text": [
      "{'title': '핸즈온 <b>머신러닝</b>(2판) (사이킷런, 케라스, 텐서플로 2를 활용한 <b>머신러닝</b>, 딥러닝 완벽 실무)', 'link': 'http://book.naver.com/bookdb/book_detail.php?bid=16328592', 'image': 'https://bookthumb-phinf.pstatic.net/cover/163/285/16328592.jpg?type=m1&udate=20201005', 'author': '오렐리앙 제롱', 'price': '55000', 'discount': '49500', 'publisher': '한빛미디어', 'pubdate': '20200504', 'isbn': '1162242965 9791162242964', 'description': '컬러판으로 돌아온 아마존 인공지능 분야 부동의 1위 도서\\n이 책은 지능형 시스템을 구축하려면 반드시 알아야 할 <b>머신러닝</b>, 딥러닝 분야 핵심 개념과 이론을 이해하기 쉽게 설명한다. 사이킷런, 케라스, 텐서플로를 이용해 실전에서 바로 활용 가능한 예제로 모델을 훈련하고 신경망을 구축하는 방법을... '}\n",
      "{'title': '파이썬 <b>머신러닝</b> 완벽 가이드 (다양한 캐글 예제와 함께 기초 알고리즘부터 최신 기법까지 배우는)', 'link': 'http://book.naver.com/bookdb/book_detail.php?bid=16238302', 'image': 'https://bookthumb-phinf.pstatic.net/cover/162/383/16238302.jpg?type=m1&udate=20200423', 'author': '권철민', 'price': '38000', 'discount': '34200', 'publisher': '위키북스', 'pubdate': '20200207', 'isbn': '1158391927 9791158391928', 'description': '자세한 이론 설명과 파이썬 실습을 통해 <b>머신러닝</b>을 완벽하게 배울 수 있습니다!《파이썬 <b>머신러닝</b> 완벽 가이드》는 이론 위주의 <b>머신러닝</b> 책에서 탈피해 다양한 실전 예제를 직접 구현해 보면서 <b>머신러닝</b>을 체득할 수 있도록 만들었습니다.  캐글과 UCI <b>머신러닝</b> 리포지토리에서 난이도가 있는 실습... '}\n",
      "{'title': '<b>머신 러닝</b> 교과서 with 파이썬, 사이킷런, 텐서플로', 'link': 'http://book.naver.com/bookdb/book_detail.php?bid=14922892', 'image': 'https://bookthumb-phinf.pstatic.net/cover/149/228/14922892.jpg?type=m1&udate=20200423', 'author': '세바스찬 라시카|바히드 미자리리', 'price': '33000', 'discount': '29700', 'publisher': '길벗', 'pubdate': '20190524', 'isbn': '1160507961 9791160507966', 'description': '아마존 <b>머신 러닝</b> 분야 베스트셀러!\\n기본기에 충실한 <b>머신 러닝</b> 입문서코드 실행만으로는 <b>머신 러닝</b>을 충분히 이해할 수 없다. <b>머신 러닝</b>을 제대로 이해하고 싶다면 코드 외에도 <b>머신 러닝</b> 이론과 <b>머신 러닝</b> 알고리즘의 뒤편에 있는 수학 개념을 알아야 한다. 이 책은 이해를 돕는 개념 설명, <b>머신 러닝</b>... '}\n"
     ]
    }
   ],
   "source": [
    "result_list = search_service('book','머신러닝',3)\n",
    "for result in result_list:\n",
    "    print(result)"
   ]
  },
  {
   "cell_type": "code",
   "execution_count": 66,
   "metadata": {},
   "outputs": [
    {
     "name": "stdout",
     "output_type": "stream",
     "text": [
      ">>> 분야 : blog\n",
      "{'title': '인공지능(<b>딥러닝</b>)의 정의와 사례', 'link': 'https://blog.naver.com/infopub?Redirect=Log&logNo=222114155013', 'description': '이에는 머신러닝, <b>딥러닝</b>이 모두 포함돼 있습니다. 그중에서도 우리는 인공지능의 획기적인 발전을 이끈 <b>딥러닝</b>에 대해 자세히 알아보겠습니다. 또한 <b>딥러닝</b>은 무엇이고 그 종류에는 어떤 것이... ', 'bloggername': 'IT 서적의 명가', 'bloggerlink': 'https://blog.naver.com/infopub', 'postdate': '20201013'}\n",
      "{'title': '이해 #1 – 주요 역사와 개념 정리(feat. 머신러닝, <b>딥러닝</b>)', 'link': 'https://blog.naver.com/skinfosec2000?Redirect=Log&logNo=222029239340', 'description': '오늘은 4차 산업혁명 시대의 핵심 기술이라 불리는 인공지능의 주요 역사와 특징 그리고 머신러닝과 <b>딥러닝</b>의 차이에 대해 알아보겠습니다. ‘인공지능(AI, Artificial Intelligence)’이란? 인공지능은... ', 'bloggername': 'SK인포섹(주) 공식블로그', 'bloggerlink': 'https://blog.naver.com/skinfosec2000', 'postdate': '20200713'}\n",
      ">>> 분야 : book\n",
      "{'title': '모두의 <b>딥러닝</b>(개정판 2판) (자연어 처리, GAN, 오토인코더, 전이 학습 등으로 나만의 모델을 만든다 with 텐서플로2.0 & 케라스)', 'link': 'http://book.naver.com/bookdb/book_detail.php?bid=16215446', 'image': 'https://bookthumb-phinf.pstatic.net/cover/162/154/16215446.jpg?type=m1&udate=20200825', 'author': '조태호', 'price': '24000', 'discount': '21600', 'publisher': '길벗', 'pubdate': '20200127', 'isbn': '1165210398 9791165210397', 'description': '<b>딥러닝</b> 기초부터 최신 트렌드까지 한 권으로 공부하자\\n그동안 <b>딥러닝</b> 입문서로 제 역할을 톡톡히 해낸 『모두의 <b>딥러닝</b>』이 최근 주목받는 주제들을 담아 기존 내용을 보강하여 개정 2판으로 돌아왔다. 초판에서 다루지 않았던 GAN, 오토인코더, 자연어 처리, 전이 학습 등 새로운 내용을 수록하였고, <b>딥러닝</b>을... '}\n",
      "{'title': '밑바닥부터 시작하는 <b>딥러닝</b> 2 (파이썬으로 직접 구현하며 배우는 순환 신경망과 자연어 처리)', 'link': 'http://book.naver.com/bookdb/book_detail.php?bid=14797086', 'image': 'https://bookthumb-phinf.pstatic.net/cover/147/970/14797086.jpg?type=m1&udate=20200423', 'author': '사이토 고키', 'price': '29000', 'discount': '26100', 'publisher': '한빛미디어', 'pubdate': '20190501', 'isbn': '1162241748 9791162241745', 'description': '직접 구현하면서 배우는 본격 <b>딥러닝</b> 입문서\\n이번에는 순환 신경망과 자연어 처리다!이 책은 『밑바닥부터 시작하는 <b>딥러닝</b>』에서 다루지 못했던 순환 신경망(RNN)을 자연어 처리와 시계열 데이터 처리에 사용하는 <b>딥러닝</b> 기술에 초점을 맞춰 살펴본다. 8장 구성으로 전체를 하나의 이야기처럼 순서대로 읽도록... '}\n",
      ">>> 분야 : news\n",
      "{'title': 'KT, 4대 ‘융합 AI 엔진’ 공개…“산업 AI 시장 정조준”', 'originallink': 'http://www.itworld.co.kr/news/168090', 'link': 'http://www.itworld.co.kr/news/168090', 'description': '<b>딥러닝</b>이 설비들의 상호관계를 학습하고 설비의 가동·정지 시점과 설정 값 등을 빌딩 자동화 시스템에 전달해 에너지 절감 효과를 극대화한다. 이 AI 엔진은 다양한 설비(냉난방설비, 전력설비, 생산설비... ', 'pubDate': 'Thu, 15 Oct 2020 17:10:00 +0900'}\n",
      "{'title': '기업들, 블록체인·AI 등 혁신기술 미리 써보고 산다', 'originallink': 'http://www.fnnews.com/news/202010151331230051', 'link': 'https://news.naver.com/main/read.nhn?mode=LSD&mid=sec&sid1=105&oid=014&aid=0004511321', 'description': '블록체인, 5G, AI <b>딥러닝</b> 등과 관련한 SK㈜ C&amp;C의 기술과 사용사례를 아큐애셋을 통해 확인할 수 있다. 블록체인과 관련해서는 기부 플랫폼, 지역화폐 등 서비스를 살펴볼 수 있다. 아큐애셋은 단순 포털을 넘어 디지털... ', 'pubDate': 'Thu, 15 Oct 2020 17:00:00 +0900'}\n"
     ]
    }
   ],
   "source": [
    "kind_list = ['blog','book','news']\n",
    "for kind in kind_list:\n",
    "    print(f'>>> 분야 : {kind}')\n",
    "    for item in search_service(kind,'딥러닝',2):\n",
    "        print(item)"
   ]
  }
 ],
 "metadata": {
  "kernelspec": {
   "display_name": "Python 3",
   "language": "python",
   "name": "python3"
  },
  "language_info": {
   "codemirror_mode": {
    "name": "ipython",
    "version": 3
   },
   "file_extension": ".py",
   "mimetype": "text/x-python",
   "name": "python",
   "nbconvert_exporter": "python",
   "pygments_lexer": "ipython3",
   "version": "3.8.3"
  }
 },
 "nbformat": 4,
 "nbformat_minor": 4
}
