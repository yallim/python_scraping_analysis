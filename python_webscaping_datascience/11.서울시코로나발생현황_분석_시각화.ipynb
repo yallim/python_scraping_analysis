{
 "cells": [
  {
   "cell_type": "code",
   "execution_count": 2,
   "metadata": {},
   "outputs": [
    {
     "name": "stdout",
     "output_type": "stream",
     "text": [
      "data/seoul_covid_10_31_.csv\n"
     ]
    }
   ],
   "source": [
    "import pandas as pd\n",
    "\n",
    "file_name = 'data/seoul_covid_10_31_.csv'\n",
    "print(file_name)"
   ]
  },
  {
   "cell_type": "code",
   "execution_count": 4,
   "metadata": {},
   "outputs": [
    {
     "name": "stdout",
     "output_type": "stream",
     "text": [
      "(6056, 7)\n",
      "<class 'pandas.core.frame.DataFrame'>\n",
      "RangeIndex: 6056 entries, 0 to 6055\n",
      "Data columns (total 7 columns):\n",
      " #   Column  Non-Null Count  Dtype \n",
      "---  ------  --------------  ----- \n",
      " 0   연번      6056 non-null   int64 \n",
      " 1   환자      6056 non-null   int64 \n",
      " 2   확진일     6056 non-null   object\n",
      " 3   거주지     6056 non-null   object\n",
      " 4   여행력     6056 non-null   object\n",
      " 5   접촉력     6056 non-null   object\n",
      " 6   퇴원현황    5574 non-null   object\n",
      "dtypes: int64(2), object(5)\n",
      "memory usage: 331.3+ KB\n"
     ]
    }
   ],
   "source": [
    "data = pd.read_csv(file_name,encoding='utf-8')\n",
    "print(data.shape)\n",
    "data.info()\n"
   ]
  },
  {
   "cell_type": "code",
   "execution_count": 6,
   "metadata": {},
   "outputs": [
    {
     "data": {
      "text/html": [
       "<div>\n",
       "<style scoped>\n",
       "    .dataframe tbody tr th:only-of-type {\n",
       "        vertical-align: middle;\n",
       "    }\n",
       "\n",
       "    .dataframe tbody tr th {\n",
       "        vertical-align: top;\n",
       "    }\n",
       "\n",
       "    .dataframe thead th {\n",
       "        text-align: right;\n",
       "    }\n",
       "</style>\n",
       "<table border=\"1\" class=\"dataframe\">\n",
       "  <thead>\n",
       "    <tr style=\"text-align: right;\">\n",
       "      <th></th>\n",
       "      <th>연번</th>\n",
       "      <th>환자</th>\n",
       "      <th>확진일</th>\n",
       "      <th>거주지</th>\n",
       "      <th>여행력</th>\n",
       "      <th>접촉력</th>\n",
       "      <th>퇴원현황</th>\n",
       "    </tr>\n",
       "  </thead>\n",
       "  <tbody>\n",
       "    <tr>\n",
       "      <th>0</th>\n",
       "      <td>6056</td>\n",
       "      <td>26629</td>\n",
       "      <td>10.31.</td>\n",
       "      <td>서초구</td>\n",
       "      <td>-</td>\n",
       "      <td>기타확진자 접촉</td>\n",
       "      <td>NaN</td>\n",
       "    </tr>\n",
       "    <tr>\n",
       "      <th>1</th>\n",
       "      <td>6055</td>\n",
       "      <td>26618</td>\n",
       "      <td>10.31.</td>\n",
       "      <td>구로구</td>\n",
       "      <td>-</td>\n",
       "      <td>강남구 헬스장 관련</td>\n",
       "      <td>NaN</td>\n",
       "    </tr>\n",
       "    <tr>\n",
       "      <th>2</th>\n",
       "      <td>6054</td>\n",
       "      <td>26616</td>\n",
       "      <td>10.31.</td>\n",
       "      <td>서초구</td>\n",
       "      <td>-</td>\n",
       "      <td>종로구 고등학교 관련</td>\n",
       "      <td>NaN</td>\n",
       "    </tr>\n",
       "    <tr>\n",
       "      <th>3</th>\n",
       "      <td>6053</td>\n",
       "      <td>26617</td>\n",
       "      <td>10.31.</td>\n",
       "      <td>용산구</td>\n",
       "      <td>-</td>\n",
       "      <td>종로구 고등학교 관련</td>\n",
       "      <td>NaN</td>\n",
       "    </tr>\n",
       "    <tr>\n",
       "      <th>4</th>\n",
       "      <td>6052</td>\n",
       "      <td>26613</td>\n",
       "      <td>10.31.</td>\n",
       "      <td>은평구</td>\n",
       "      <td>-</td>\n",
       "      <td>기타확진자 접촉</td>\n",
       "      <td>NaN</td>\n",
       "    </tr>\n",
       "  </tbody>\n",
       "</table>\n",
       "</div>"
      ],
      "text/plain": [
       "     연번     환자     확진일  거주지 여행력          접촉력 퇴원현황\n",
       "0  6056  26629  10.31.  서초구   -     기타확진자 접촉  NaN\n",
       "1  6055  26618  10.31.  구로구   -   강남구 헬스장 관련  NaN\n",
       "2  6054  26616  10.31.  서초구   -  종로구 고등학교 관련  NaN\n",
       "3  6053  26617  10.31.  용산구   -  종로구 고등학교 관련  NaN\n",
       "4  6052  26613  10.31.  은평구   -     기타확진자 접촉  NaN"
      ]
     },
     "execution_count": 6,
     "metadata": {},
     "output_type": "execute_result"
    }
   ],
   "source": [
    "data.head()"
   ]
  },
  {
   "cell_type": "code",
   "execution_count": 118,
   "metadata": {},
   "outputs": [
    {
     "ename": "TypeError",
     "evalue": "sort_values() got an unexpected keyword argument 'color'",
     "output_type": "error",
     "traceback": [
      "\u001b[1;31m---------------------------------------------------------------------------\u001b[0m",
      "\u001b[1;31mTypeError\u001b[0m                                 Traceback (most recent call last)",
      "\u001b[1;32m<ipython-input-118-6db213627883>\u001b[0m in \u001b[0;36m<module>\u001b[1;34m\u001b[0m\n\u001b[0;32m      1\u001b[0m \u001b[1;31m#연번순으로 내림차순\u001b[0m\u001b[1;33m\u001b[0m\u001b[1;33m\u001b[0m\u001b[1;33m\u001b[0m\u001b[0m\n\u001b[1;32m----> 2\u001b[1;33m \u001b[0mdata\u001b[0m \u001b[1;33m=\u001b[0m \u001b[0mdata\u001b[0m\u001b[1;33m.\u001b[0m\u001b[0msort_values\u001b[0m\u001b[1;33m(\u001b[0m\u001b[0mby\u001b[0m\u001b[1;33m=\u001b[0m\u001b[1;34m'연번'\u001b[0m\u001b[1;33m,\u001b[0m\u001b[0mascending\u001b[0m\u001b[1;33m=\u001b[0m\u001b[1;32mFalse\u001b[0m\u001b[1;33m,\u001b[0m\u001b[0mcolor\u001b[0m\u001b[1;33m=\u001b[0m\u001b[1;34m'black'\u001b[0m\u001b[1;33m)\u001b[0m\u001b[1;33m\u001b[0m\u001b[1;33m\u001b[0m\u001b[0m\n\u001b[0m\u001b[0;32m      3\u001b[0m \u001b[0mdata\u001b[0m\u001b[1;33m.\u001b[0m\u001b[0mhead\u001b[0m\u001b[1;33m(\u001b[0m\u001b[1;33m)\u001b[0m\u001b[1;33m\u001b[0m\u001b[1;33m\u001b[0m\u001b[0m\n",
      "\u001b[1;31mTypeError\u001b[0m: sort_values() got an unexpected keyword argument 'color'"
     ]
    }
   ],
   "source": [
    "#연번순으로 내림차순\n",
    "data = data.sort_values(by='연번',ascending=False)\n",
    "data.head()"
   ]
  },
  {
   "cell_type": "markdown",
   "metadata": {},
   "source": [
    "### 시각화 관련 설정\n"
   ]
  },
  {
   "cell_type": "code",
   "execution_count": 223,
   "metadata": {},
   "outputs": [
    {
     "ename": "KeyError",
     "evalue": "'Unrecognized key \"axes.color\" for group \"axes\" and name \"color\"'",
     "output_type": "error",
     "traceback": [
      "\u001b[1;31m---------------------------------------------------------------------------\u001b[0m",
      "\u001b[1;31mKeyError\u001b[0m                                  Traceback (most recent call last)",
      "\u001b[1;32mC:\\ProgramData\\Anaconda3\\lib\\site-packages\\matplotlib\\__init__.py\u001b[0m in \u001b[0;36m__setitem__\u001b[1;34m(self, key, val)\u001b[0m\n\u001b[0;32m    805\u001b[0m             \u001b[1;32mtry\u001b[0m\u001b[1;33m:\u001b[0m\u001b[1;33m\u001b[0m\u001b[1;33m\u001b[0m\u001b[0m\n\u001b[1;32m--> 806\u001b[1;33m                 \u001b[0mcval\u001b[0m \u001b[1;33m=\u001b[0m \u001b[0mself\u001b[0m\u001b[1;33m.\u001b[0m\u001b[0mvalidate\u001b[0m\u001b[1;33m[\u001b[0m\u001b[0mkey\u001b[0m\u001b[1;33m]\u001b[0m\u001b[1;33m(\u001b[0m\u001b[0mval\u001b[0m\u001b[1;33m)\u001b[0m\u001b[1;33m\u001b[0m\u001b[1;33m\u001b[0m\u001b[0m\n\u001b[0m\u001b[0;32m    807\u001b[0m             \u001b[1;32mexcept\u001b[0m \u001b[0mValueError\u001b[0m \u001b[1;32mas\u001b[0m \u001b[0mve\u001b[0m\u001b[1;33m:\u001b[0m\u001b[1;33m\u001b[0m\u001b[1;33m\u001b[0m\u001b[0m\n",
      "\u001b[1;31mKeyError\u001b[0m: 'axes.color'",
      "\nDuring handling of the above exception, another exception occurred:\n",
      "\u001b[1;31mKeyError\u001b[0m                                  Traceback (most recent call last)",
      "\u001b[1;32mC:\\ProgramData\\Anaconda3\\lib\\site-packages\\matplotlib\\__init__.py\u001b[0m in \u001b[0;36mrc\u001b[1;34m(group, **kwargs)\u001b[0m\n\u001b[0;32m   1097\u001b[0m             \u001b[1;32mtry\u001b[0m\u001b[1;33m:\u001b[0m\u001b[1;33m\u001b[0m\u001b[1;33m\u001b[0m\u001b[0m\n\u001b[1;32m-> 1098\u001b[1;33m                 \u001b[0mrcParams\u001b[0m\u001b[1;33m[\u001b[0m\u001b[0mkey\u001b[0m\u001b[1;33m]\u001b[0m \u001b[1;33m=\u001b[0m \u001b[0mv\u001b[0m\u001b[1;33m\u001b[0m\u001b[1;33m\u001b[0m\u001b[0m\n\u001b[0m\u001b[0;32m   1099\u001b[0m             \u001b[1;32mexcept\u001b[0m \u001b[0mKeyError\u001b[0m\u001b[1;33m:\u001b[0m\u001b[1;33m\u001b[0m\u001b[1;33m\u001b[0m\u001b[0m\n",
      "\u001b[1;32mC:\\ProgramData\\Anaconda3\\lib\\site-packages\\matplotlib\\__init__.py\u001b[0m in \u001b[0;36m__setitem__\u001b[1;34m(self, key, val)\u001b[0m\n\u001b[0;32m    810\u001b[0m         \u001b[1;32mexcept\u001b[0m \u001b[0mKeyError\u001b[0m\u001b[1;33m:\u001b[0m\u001b[1;33m\u001b[0m\u001b[1;33m\u001b[0m\u001b[0m\n\u001b[1;32m--> 811\u001b[1;33m             raise KeyError(\n\u001b[0m\u001b[0;32m    812\u001b[0m                 \u001b[1;34mf\"{key} is not a valid rc parameter (see rcParams.keys() for \"\u001b[0m\u001b[1;33m\u001b[0m\u001b[1;33m\u001b[0m\u001b[0m\n",
      "\u001b[1;31mKeyError\u001b[0m: 'axes.color is not a valid rc parameter (see rcParams.keys() for a list of valid parameters)'",
      "\nDuring handling of the above exception, another exception occurred:\n",
      "\u001b[1;31mKeyError\u001b[0m                                  Traceback (most recent call last)",
      "\u001b[1;32m<ipython-input-223-57add9ca18d9>\u001b[0m in \u001b[0;36m<module>\u001b[1;34m\u001b[0m\n\u001b[0;32m      6\u001b[0m \u001b[0mplt\u001b[0m\u001b[1;33m.\u001b[0m\u001b[0mrc\u001b[0m\u001b[1;33m(\u001b[0m\u001b[1;34m'font'\u001b[0m\u001b[1;33m,\u001b[0m\u001b[0mfamily\u001b[0m\u001b[1;33m=\u001b[0m\u001b[1;34m'Malgun Gothic'\u001b[0m\u001b[1;33m)\u001b[0m \u001b[1;31m#AppleGothic\u001b[0m\u001b[1;33m\u001b[0m\u001b[1;33m\u001b[0m\u001b[0m\n\u001b[0;32m      7\u001b[0m \u001b[1;31m#마이너스 값 출력\u001b[0m\u001b[1;33m\u001b[0m\u001b[1;33m\u001b[0m\u001b[1;33m\u001b[0m\u001b[0m\n\u001b[1;32m----> 8\u001b[1;33m \u001b[0mplt\u001b[0m\u001b[1;33m.\u001b[0m\u001b[0mrc\u001b[0m\u001b[1;33m(\u001b[0m\u001b[1;34m'axes'\u001b[0m\u001b[1;33m,\u001b[0m\u001b[0municode_minus\u001b[0m\u001b[1;33m=\u001b[0m\u001b[1;32mFalse\u001b[0m\u001b[1;33m,\u001b[0m\u001b[0mcolor\u001b[0m\u001b[1;33m=\u001b[0m\u001b[1;34m'black'\u001b[0m\u001b[1;33m)\u001b[0m\u001b[1;33m\u001b[0m\u001b[1;33m\u001b[0m\u001b[0m\n\u001b[0m\u001b[0;32m      9\u001b[0m \u001b[1;33m\u001b[0m\u001b[0m\n\u001b[0;32m     10\u001b[0m \u001b[1;31m#그래프 style설정 fivethirtyeight,ggplot,dark_background\u001b[0m\u001b[1;33m\u001b[0m\u001b[1;33m\u001b[0m\u001b[1;33m\u001b[0m\u001b[0m\n",
      "\u001b[1;32mC:\\ProgramData\\Anaconda3\\lib\\site-packages\\matplotlib\\pyplot.py\u001b[0m in \u001b[0;36mrc\u001b[1;34m(group, **kwargs)\u001b[0m\n\u001b[0;32m    318\u001b[0m \u001b[1;33m@\u001b[0m\u001b[0mdocstring\u001b[0m\u001b[1;33m.\u001b[0m\u001b[0mcopy\u001b[0m\u001b[1;33m(\u001b[0m\u001b[0mmatplotlib\u001b[0m\u001b[1;33m.\u001b[0m\u001b[0mrc\u001b[0m\u001b[1;33m)\u001b[0m\u001b[1;33m\u001b[0m\u001b[1;33m\u001b[0m\u001b[0m\n\u001b[0;32m    319\u001b[0m \u001b[1;32mdef\u001b[0m \u001b[0mrc\u001b[0m\u001b[1;33m(\u001b[0m\u001b[0mgroup\u001b[0m\u001b[1;33m,\u001b[0m \u001b[1;33m**\u001b[0m\u001b[0mkwargs\u001b[0m\u001b[1;33m)\u001b[0m\u001b[1;33m:\u001b[0m\u001b[1;33m\u001b[0m\u001b[1;33m\u001b[0m\u001b[0m\n\u001b[1;32m--> 320\u001b[1;33m     \u001b[0mmatplotlib\u001b[0m\u001b[1;33m.\u001b[0m\u001b[0mrc\u001b[0m\u001b[1;33m(\u001b[0m\u001b[0mgroup\u001b[0m\u001b[1;33m,\u001b[0m \u001b[1;33m**\u001b[0m\u001b[0mkwargs\u001b[0m\u001b[1;33m)\u001b[0m\u001b[1;33m\u001b[0m\u001b[1;33m\u001b[0m\u001b[0m\n\u001b[0m\u001b[0;32m    321\u001b[0m \u001b[1;33m\u001b[0m\u001b[0m\n\u001b[0;32m    322\u001b[0m \u001b[1;33m\u001b[0m\u001b[0m\n",
      "\u001b[1;32mC:\\ProgramData\\Anaconda3\\lib\\site-packages\\matplotlib\\__init__.py\u001b[0m in \u001b[0;36mrc\u001b[1;34m(group, **kwargs)\u001b[0m\n\u001b[0;32m   1098\u001b[0m                 \u001b[0mrcParams\u001b[0m\u001b[1;33m[\u001b[0m\u001b[0mkey\u001b[0m\u001b[1;33m]\u001b[0m \u001b[1;33m=\u001b[0m \u001b[0mv\u001b[0m\u001b[1;33m\u001b[0m\u001b[1;33m\u001b[0m\u001b[0m\n\u001b[0;32m   1099\u001b[0m             \u001b[1;32mexcept\u001b[0m \u001b[0mKeyError\u001b[0m\u001b[1;33m:\u001b[0m\u001b[1;33m\u001b[0m\u001b[1;33m\u001b[0m\u001b[0m\n\u001b[1;32m-> 1100\u001b[1;33m                 raise KeyError(('Unrecognized key \"%s\" for group \"%s\" and '\n\u001b[0m\u001b[0;32m   1101\u001b[0m                                 'name \"%s\"') % (key, g, name))\n\u001b[0;32m   1102\u001b[0m \u001b[1;33m\u001b[0m\u001b[0m\n",
      "\u001b[1;31mKeyError\u001b[0m: 'Unrecognized key \"axes.color\" for group \"axes\" and name \"color\"'"
     ]
    }
   ],
   "source": [
    "%matplotlib inline\n",
    "\n",
    "import matplotlib.pyplot as plt\n",
    "\n",
    "#한글 폰트 설정 \n",
    "plt.rc('font',family='Malgun Gothic') #AppleGothic\n",
    "#마이너스 값 출력\n",
    "plt.rc('axes',unicode_minus=False)\n",
    "\n",
    "#그래프 style설정 fivethirtyeight,ggplot,dark_background\n",
    "plt.style.use('fivethirtyeight')\n",
    "\n",
    "#간단한 bar plot 그래프 그리기\n",
    "pd.Series([1,3,5,-7,9]).plot.bar(title='한글 제목',color='black')\n",
    "\n",
    "#시각화 할때 폰트가 좀 더 선명하게\n",
    "#retina 디스플레이가 지원되는 환경에서만 가능 \n",
    "from IPython.display import set_matplotlib_formats\n",
    "\n",
    "set_matplotlib_formats('retina')"
   ]
  },
  {
   "cell_type": "markdown",
   "metadata": {},
   "source": [
    "### 1.확진일\n",
    "* 확진일 컬럼의 object를 datetime 으로변환하기 to_datetime()함수 사용\n",
    "* 확진일자 컬럼의 값에서 dt.month와 dt.week를 사용해서 월 과 주 컬럼 사용\n",
    "* 확진일자별로 시각화\n"
   ]
  },
  {
   "cell_type": "code",
   "execution_count": 46,
   "metadata": {},
   "outputs": [
    {
     "data": {
      "text/plain": [
       "8.29.    167\n",
       "8.27.    160\n",
       "8.26.    157\n",
       "8.18.    151\n",
       "8.15.    146\n",
       "Name: 확진일, dtype: int64"
      ]
     },
     "execution_count": 46,
     "metadata": {},
     "output_type": "execute_result"
    }
   ],
   "source": [
    "data['확진일'].value_counts().head()"
   ]
  },
  {
   "cell_type": "code",
   "execution_count": 124,
   "metadata": {},
   "outputs": [
    {
     "name": "stdout",
     "output_type": "stream",
     "text": [
      "object\n"
     ]
    },
    {
     "ename": "TypeError",
     "evalue": "'color' is an invalid keyword argument for print()",
     "output_type": "error",
     "traceback": [
      "\u001b[1;31m---------------------------------------------------------------------------\u001b[0m",
      "\u001b[1;31mTypeError\u001b[0m                                 Traceback (most recent call last)",
      "\u001b[1;32m<ipython-input-124-da4f68668a1f>\u001b[0m in \u001b[0;36m<module>\u001b[1;34m\u001b[0m\n\u001b[0;32m      4\u001b[0m \u001b[1;31m#새로운 확진일자 컬럼 추가\u001b[0m\u001b[1;33m\u001b[0m\u001b[1;33m\u001b[0m\u001b[1;33m\u001b[0m\u001b[0m\n\u001b[0;32m      5\u001b[0m \u001b[0mdata\u001b[0m\u001b[1;33m[\u001b[0m\u001b[1;34m'확진일자'\u001b[0m\u001b[1;33m]\u001b[0m \u001b[1;33m=\u001b[0m \u001b[0mpd\u001b[0m\u001b[1;33m.\u001b[0m\u001b[0mto_datetime\u001b[0m\u001b[1;33m(\u001b[0m\u001b[1;34m\"2020-\"\u001b[0m\u001b[1;33m+\u001b[0m\u001b[0mdata\u001b[0m\u001b[1;33m[\u001b[0m\u001b[1;34m'확진일'\u001b[0m\u001b[1;33m]\u001b[0m\u001b[1;33m.\u001b[0m\u001b[0mstr\u001b[0m\u001b[1;33m.\u001b[0m\u001b[0mreplace\u001b[0m\u001b[1;33m(\u001b[0m\u001b[1;34m'.'\u001b[0m\u001b[1;33m,\u001b[0m\u001b[1;34m'-'\u001b[0m\u001b[1;33m)\u001b[0m\u001b[1;33m)\u001b[0m\u001b[1;33m\u001b[0m\u001b[1;33m\u001b[0m\u001b[0m\n\u001b[1;32m----> 6\u001b[1;33m \u001b[0mprint\u001b[0m\u001b[1;33m(\u001b[0m\u001b[0mdata\u001b[0m\u001b[1;33m[\u001b[0m\u001b[1;34m'확진일자'\u001b[0m\u001b[1;33m]\u001b[0m\u001b[1;33m.\u001b[0m\u001b[0mdtypes\u001b[0m\u001b[1;33m,\u001b[0m\u001b[0mcolor\u001b[0m\u001b[1;33m=\u001b[0m\u001b[1;34m'black'\u001b[0m\u001b[1;33m)\u001b[0m\u001b[1;33m\u001b[0m\u001b[1;33m\u001b[0m\u001b[0m\n\u001b[0m",
      "\u001b[1;31mTypeError\u001b[0m: 'color' is an invalid keyword argument for print()"
     ]
    }
   ],
   "source": [
    "#확진일 컬럼값의 타입확인\n",
    "print(data['확진일'].dtypes)\n",
    "#pandas의 to_datetime()함수를 사용해서 날짜타입으로 변경하기\n",
    "#새로운 확진일자 컬럼 추가\n",
    "data['확진일자'] = pd.to_datetime(\"2020-\"+data['확진일'].str.replace('.','-'))\n",
    "print(data['확진일자'].dtypes)\n"
   ]
  },
  {
   "cell_type": "code",
   "execution_count": 48,
   "metadata": {},
   "outputs": [
    {
     "data": {
      "text/html": [
       "<div>\n",
       "<style scoped>\n",
       "    .dataframe tbody tr th:only-of-type {\n",
       "        vertical-align: middle;\n",
       "    }\n",
       "\n",
       "    .dataframe tbody tr th {\n",
       "        vertical-align: top;\n",
       "    }\n",
       "\n",
       "    .dataframe thead th {\n",
       "        text-align: right;\n",
       "    }\n",
       "</style>\n",
       "<table border=\"1\" class=\"dataframe\">\n",
       "  <thead>\n",
       "    <tr style=\"text-align: right;\">\n",
       "      <th></th>\n",
       "      <th>확진일</th>\n",
       "      <th>확진일자</th>\n",
       "    </tr>\n",
       "  </thead>\n",
       "  <tbody>\n",
       "    <tr>\n",
       "      <th>0</th>\n",
       "      <td>10.31.</td>\n",
       "      <td>2020-10-31</td>\n",
       "    </tr>\n",
       "    <tr>\n",
       "      <th>1</th>\n",
       "      <td>10.31.</td>\n",
       "      <td>2020-10-31</td>\n",
       "    </tr>\n",
       "    <tr>\n",
       "      <th>2</th>\n",
       "      <td>10.31.</td>\n",
       "      <td>2020-10-31</td>\n",
       "    </tr>\n",
       "    <tr>\n",
       "      <th>3</th>\n",
       "      <td>10.31.</td>\n",
       "      <td>2020-10-31</td>\n",
       "    </tr>\n",
       "    <tr>\n",
       "      <th>4</th>\n",
       "      <td>10.31.</td>\n",
       "      <td>2020-10-31</td>\n",
       "    </tr>\n",
       "  </tbody>\n",
       "</table>\n",
       "</div>"
      ],
      "text/plain": [
       "      확진일       확진일자\n",
       "0  10.31. 2020-10-31\n",
       "1  10.31. 2020-10-31\n",
       "2  10.31. 2020-10-31\n",
       "3  10.31. 2020-10-31\n",
       "4  10.31. 2020-10-31"
      ]
     },
     "execution_count": 48,
     "metadata": {},
     "output_type": "execute_result"
    }
   ],
   "source": [
    "data[['확진일','확진일자']].head()"
   ]
  },
  {
   "cell_type": "code",
   "execution_count": 49,
   "metadata": {},
   "outputs": [
    {
     "data": {
      "text/html": [
       "<div>\n",
       "<style scoped>\n",
       "    .dataframe tbody tr th:only-of-type {\n",
       "        vertical-align: middle;\n",
       "    }\n",
       "\n",
       "    .dataframe tbody tr th {\n",
       "        vertical-align: top;\n",
       "    }\n",
       "\n",
       "    .dataframe thead th {\n",
       "        text-align: right;\n",
       "    }\n",
       "</style>\n",
       "<table border=\"1\" class=\"dataframe\">\n",
       "  <thead>\n",
       "    <tr style=\"text-align: right;\">\n",
       "      <th></th>\n",
       "      <th>확진일</th>\n",
       "      <th>확진일자</th>\n",
       "      <th>월</th>\n",
       "    </tr>\n",
       "  </thead>\n",
       "  <tbody>\n",
       "    <tr>\n",
       "      <th>0</th>\n",
       "      <td>10.31.</td>\n",
       "      <td>2020-10-31</td>\n",
       "      <td>10</td>\n",
       "    </tr>\n",
       "    <tr>\n",
       "      <th>1</th>\n",
       "      <td>10.31.</td>\n",
       "      <td>2020-10-31</td>\n",
       "      <td>10</td>\n",
       "    </tr>\n",
       "    <tr>\n",
       "      <th>2</th>\n",
       "      <td>10.31.</td>\n",
       "      <td>2020-10-31</td>\n",
       "      <td>10</td>\n",
       "    </tr>\n",
       "    <tr>\n",
       "      <th>3</th>\n",
       "      <td>10.31.</td>\n",
       "      <td>2020-10-31</td>\n",
       "      <td>10</td>\n",
       "    </tr>\n",
       "    <tr>\n",
       "      <th>4</th>\n",
       "      <td>10.31.</td>\n",
       "      <td>2020-10-31</td>\n",
       "      <td>10</td>\n",
       "    </tr>\n",
       "  </tbody>\n",
       "</table>\n",
       "</div>"
      ],
      "text/plain": [
       "      확진일       확진일자   월\n",
       "0  10.31. 2020-10-31  10\n",
       "1  10.31. 2020-10-31  10\n",
       "2  10.31. 2020-10-31  10\n",
       "3  10.31. 2020-10-31  10\n",
       "4  10.31. 2020-10-31  10"
      ]
     },
     "execution_count": 49,
     "metadata": {},
     "output_type": "execute_result"
    }
   ],
   "source": [
    "#확진일자 컬럼에서 월만 추출하고, 월 컬럼을 추가하기\n",
    "data['월'] = data['확진일자'].dt.month\n",
    "data[['확진일','확진일자','월']].head()"
   ]
  },
  {
   "cell_type": "code",
   "execution_count": 51,
   "metadata": {},
   "outputs": [
    {
     "data": {
      "text/html": [
       "<div>\n",
       "<style scoped>\n",
       "    .dataframe tbody tr th:only-of-type {\n",
       "        vertical-align: middle;\n",
       "    }\n",
       "\n",
       "    .dataframe tbody tr th {\n",
       "        vertical-align: top;\n",
       "    }\n",
       "\n",
       "    .dataframe thead th {\n",
       "        text-align: right;\n",
       "    }\n",
       "</style>\n",
       "<table border=\"1\" class=\"dataframe\">\n",
       "  <thead>\n",
       "    <tr style=\"text-align: right;\">\n",
       "      <th></th>\n",
       "      <th>확진일</th>\n",
       "      <th>확진일자</th>\n",
       "      <th>월</th>\n",
       "      <th>주</th>\n",
       "    </tr>\n",
       "  </thead>\n",
       "  <tbody>\n",
       "    <tr>\n",
       "      <th>6051</th>\n",
       "      <td>1.31.</td>\n",
       "      <td>2020-01-31</td>\n",
       "      <td>1</td>\n",
       "      <td>5</td>\n",
       "    </tr>\n",
       "    <tr>\n",
       "      <th>6052</th>\n",
       "      <td>1.30.</td>\n",
       "      <td>2020-01-30</td>\n",
       "      <td>1</td>\n",
       "      <td>5</td>\n",
       "    </tr>\n",
       "    <tr>\n",
       "      <th>6053</th>\n",
       "      <td>1.30.</td>\n",
       "      <td>2020-01-30</td>\n",
       "      <td>1</td>\n",
       "      <td>5</td>\n",
       "    </tr>\n",
       "    <tr>\n",
       "      <th>6054</th>\n",
       "      <td>1.30.</td>\n",
       "      <td>2020-01-30</td>\n",
       "      <td>1</td>\n",
       "      <td>5</td>\n",
       "    </tr>\n",
       "    <tr>\n",
       "      <th>6055</th>\n",
       "      <td>1.24.</td>\n",
       "      <td>2020-01-24</td>\n",
       "      <td>1</td>\n",
       "      <td>4</td>\n",
       "    </tr>\n",
       "  </tbody>\n",
       "</table>\n",
       "</div>"
      ],
      "text/plain": [
       "        확진일       확진일자  월  주\n",
       "6051  1.31. 2020-01-31  1  5\n",
       "6052  1.30. 2020-01-30  1  5\n",
       "6053  1.30. 2020-01-30  1  5\n",
       "6054  1.30. 2020-01-30  1  5\n",
       "6055  1.24. 2020-01-24  1  4"
      ]
     },
     "execution_count": 51,
     "metadata": {},
     "output_type": "execute_result"
    }
   ],
   "source": [
    "#해당 연도에서 몇번째 \"주\"인지 추출하기\n",
    "data['주'] = data['확진일자'].dt.week\n",
    "data[['확진일','확진일자','월','주']].tail()"
   ]
  },
  {
   "cell_type": "code",
   "execution_count": 57,
   "metadata": {},
   "outputs": [
    {
     "data": {
      "text/plain": [
       "<matplotlib.lines.Line2D at 0x21eac8eacd0>"
      ]
     },
     "execution_count": 57,
     "metadata": {},
     "output_type": "execute_result"
    },
    {
     "data": {
      "image/png": "[encoded data removed]",
      "text/plain": [
       "<Figure size 1080x288 with 1 Axes>"
      ]
     },
     "metadata": {
      "image/png": {
       "height": 252,
       "width": 980
      }
     },
     "output_type": "display_data"
    }
   ],
   "source": [
    "#확진일자로 line plt(선그래프) 그리기\n",
    "data['확진일자'].value_counts().sort_index().plot(figsize=(15,4))\n",
    "#수평선표시하기\n",
    "plt.axhline(30,color='red', linestyle=':')\n"
   ]
  },
  {
   "cell_type": "code",
   "execution_count": 59,
   "metadata": {},
   "outputs": [
    {
     "data": {
      "text/plain": [
       "'10-31'"
      ]
     },
     "execution_count": 59,
     "metadata": {},
     "output_type": "execute_result"
    }
   ],
   "source": [
    "'2020-10-31'[-5:]"
   ]
  },
  {
   "cell_type": "code",
   "execution_count": 60,
   "metadata": {},
   "outputs": [
    {
     "data": {
      "text/plain": [
       "0       10-31\n",
       "1       10-31\n",
       "2       10-31\n",
       "3       10-31\n",
       "4       10-31\n",
       "        ...  \n",
       "6051    01-31\n",
       "6052    01-30\n",
       "6053    01-30\n",
       "6054    01-30\n",
       "6055    01-24\n",
       "Name: 확진일자, Length: 6056, dtype: object"
      ]
     },
     "execution_count": 60,
     "metadata": {},
     "output_type": "execute_result"
    }
   ],
   "source": [
    "#serise 객체를 str타입으로 변경하고,map()인자에 lambda 식을 인자로 전달한다.\n",
    "data['확진일자'].astype(str).map(lambda x : x[-5:]) "
   ]
  },
  {
   "cell_type": "code",
   "execution_count": 62,
   "metadata": {},
   "outputs": [
    {
     "data": {
      "text/html": [
       "<div>\n",
       "<style scoped>\n",
       "    .dataframe tbody tr th:only-of-type {\n",
       "        vertical-align: middle;\n",
       "    }\n",
       "\n",
       "    .dataframe tbody tr th {\n",
       "        vertical-align: top;\n",
       "    }\n",
       "\n",
       "    .dataframe thead th {\n",
       "        text-align: right;\n",
       "    }\n",
       "</style>\n",
       "<table border=\"1\" class=\"dataframe\">\n",
       "  <thead>\n",
       "    <tr style=\"text-align: right;\">\n",
       "      <th></th>\n",
       "      <th>확진일자</th>\n",
       "      <th>월일</th>\n",
       "    </tr>\n",
       "  </thead>\n",
       "  <tbody>\n",
       "    <tr>\n",
       "      <th>0</th>\n",
       "      <td>2020-10-31</td>\n",
       "      <td>10-31</td>\n",
       "    </tr>\n",
       "    <tr>\n",
       "      <th>1</th>\n",
       "      <td>2020-10-31</td>\n",
       "      <td>10-31</td>\n",
       "    </tr>\n",
       "    <tr>\n",
       "      <th>2</th>\n",
       "      <td>2020-10-31</td>\n",
       "      <td>10-31</td>\n",
       "    </tr>\n",
       "    <tr>\n",
       "      <th>3</th>\n",
       "      <td>2020-10-31</td>\n",
       "      <td>10-31</td>\n",
       "    </tr>\n",
       "    <tr>\n",
       "      <th>4</th>\n",
       "      <td>2020-10-31</td>\n",
       "      <td>10-31</td>\n",
       "    </tr>\n",
       "  </tbody>\n",
       "</table>\n",
       "</div>"
      ],
      "text/plain": [
       "        확진일자     월일\n",
       "0 2020-10-31  10-31\n",
       "1 2020-10-31  10-31\n",
       "2 2020-10-31  10-31\n",
       "3 2020-10-31  10-31\n",
       "4 2020-10-31  10-31"
      ]
     },
     "execution_count": 62,
     "metadata": {},
     "output_type": "execute_result"
    }
   ],
   "source": [
    "#월일 컬럼 추가\n",
    "data['월일']  = data['확진일자'].astype(str).map(lambda x : x[-5:]) \n",
    "data[['확진일자','월일']].head()"
   ]
  },
  {
   "cell_type": "code",
   "execution_count": 73,
   "metadata": {},
   "outputs": [
    {
     "name": "stdout",
     "output_type": "stream",
     "text": [
      "253\n"
     ]
    },
    {
     "data": {
      "text/plain": [
       "01-24    1\n",
       "01-30    3\n",
       "01-31    3\n",
       "02-02    1\n",
       "02-05    2\n",
       "Name: 월일, dtype: int64"
      ]
     },
     "execution_count": 73,
     "metadata": {},
     "output_type": "execute_result"
    }
   ],
   "source": [
    "day_count = data['월일'].value_counts().sort_index()\n",
    "print(len(day_count))\n",
    "day_count.head()"
   ]
  },
  {
   "cell_type": "code",
   "execution_count": 72,
   "metadata": {},
   "outputs": [
    {
     "data": {
      "text/plain": [
       "3"
      ]
     },
     "execution_count": 72,
     "metadata": {},
     "output_type": "execute_result"
    }
   ],
   "source": [
    "#iloc 을 사용해서 특정행의 값을 가져오기\n",
    "day_count.iloc[2]"
   ]
  },
  {
   "cell_type": "code",
   "execution_count": 76,
   "metadata": {},
   "outputs": [
    {
     "name": "stdout",
     "output_type": "stream",
     "text": [
      "28 46\n",
      "173 33\n",
      "174 73\n",
      "175 146\n",
      "176 91\n",
      "177 132\n",
      "178 151\n",
      "179 135\n",
      "180 126\n",
      "181 128\n",
      "182 143\n",
      "183 98\n",
      "184 136\n",
      "185 116\n",
      "186 157\n",
      "187 160\n",
      "188 118\n",
      "189 167\n",
      "190 70\n",
      "191 104\n",
      "192 87\n",
      "193 64\n",
      "194 46\n",
      "195 55\n",
      "196 58\n",
      "197 44\n",
      "198 76\n",
      "200 47\n",
      "201 64\n",
      "202 49\n",
      "203 34\n",
      "204 41\n",
      "205 36\n",
      "206 49\n",
      "207 62\n",
      "208 43\n",
      "209 40\n",
      "212 39\n",
      "213 40\n",
      "215 54\n",
      "217 35\n",
      "220 36\n",
      "232 31\n",
      "248 31\n",
      "249 31\n",
      "250 52\n",
      "251 46\n",
      "252 45\n"
     ]
    }
   ],
   "source": [
    "for i in range(len(day_count)):\n",
    "    case_count = day_count.iloc[i]\n",
    "    if case_count > 30:\n",
    "        print(i,case_count)"
   ]
  },
  {
   "cell_type": "code",
   "execution_count": 83,
   "metadata": {},
   "outputs": [
    {
     "data": {
      "image/png": "[encoded data removed]",
      "text/plain": [
       "<Figure size 1080x288 with 1 Axes>"
      ]
     },
     "metadata": {
      "image/png": {
       "height": 270,
       "width": 980
      }
     },
     "output_type": "display_data"
    }
   ],
   "source": [
    "plot = day_count.plot(figsize=(15,4))\n",
    "for i in range(len(day_count)):\n",
    "    case_count = day_count.iloc[i]\n",
    "    if case_count > 30:\n",
    "        plot.text(x=i,y=case_count,s=case_count)"
   ]
  },
  {
   "cell_type": "markdown",
   "metadata": {},
   "source": [
    "### 1.2확진자가 가장많이 나온날"
   ]
  },
  {
   "cell_type": "code",
   "execution_count": 85,
   "metadata": {},
   "outputs": [
    {
     "data": {
      "text/plain": [
       "count    253.000000\n",
       "mean      23.936759\n",
       "std       32.280700\n",
       "min        1.000000\n",
       "25%        6.000000\n",
       "50%       14.000000\n",
       "75%       25.000000\n",
       "max      167.000000\n",
       "Name: 월일, dtype: float64"
      ]
     },
     "execution_count": 85,
     "metadata": {},
     "output_type": "execute_result"
    }
   ],
   "source": [
    "day_count.describe()"
   ]
  },
  {
   "cell_type": "code",
   "execution_count": 88,
   "metadata": {},
   "outputs": [
    {
     "data": {
      "text/plain": [
       "08-29    167\n",
       "Name: 월일, dtype: int64"
      ]
     },
     "execution_count": 88,
     "metadata": {},
     "output_type": "execute_result"
    }
   ],
   "source": [
    "#확진자가 가장 많았던 날을 찾기\n",
    "day_count[day_count == day_count.max()]"
   ]
  },
  {
   "cell_type": "code",
   "execution_count": 89,
   "metadata": {},
   "outputs": [
    {
     "data": {
      "text/html": [
       "<div>\n",
       "<style scoped>\n",
       "    .dataframe tbody tr th:only-of-type {\n",
       "        vertical-align: middle;\n",
       "    }\n",
       "\n",
       "    .dataframe tbody tr th {\n",
       "        vertical-align: top;\n",
       "    }\n",
       "\n",
       "    .dataframe thead th {\n",
       "        text-align: right;\n",
       "    }\n",
       "</style>\n",
       "<table border=\"1\" class=\"dataframe\">\n",
       "  <thead>\n",
       "    <tr style=\"text-align: right;\">\n",
       "      <th></th>\n",
       "      <th>연번</th>\n",
       "      <th>환자</th>\n",
       "      <th>확진일</th>\n",
       "      <th>거주지</th>\n",
       "      <th>여행력</th>\n",
       "      <th>접촉력</th>\n",
       "      <th>퇴원현황</th>\n",
       "      <th>확진일자</th>\n",
       "      <th>월</th>\n",
       "      <th>주</th>\n",
       "      <th>월일</th>\n",
       "    </tr>\n",
       "  </thead>\n",
       "  <tbody>\n",
       "    <tr>\n",
       "      <th>2143</th>\n",
       "      <td>3913</td>\n",
       "      <td>20100</td>\n",
       "      <td>8.29.</td>\n",
       "      <td>관악구</td>\n",
       "      <td>-</td>\n",
       "      <td>타시도 확진자 접촉</td>\n",
       "      <td>퇴원</td>\n",
       "      <td>2020-08-29</td>\n",
       "      <td>8</td>\n",
       "      <td>35</td>\n",
       "      <td>08-29</td>\n",
       "    </tr>\n",
       "    <tr>\n",
       "      <th>2178</th>\n",
       "      <td>3878</td>\n",
       "      <td>19716</td>\n",
       "      <td>8.29.</td>\n",
       "      <td>동작구</td>\n",
       "      <td>-</td>\n",
       "      <td>성북구 사랑제일교회 관련</td>\n",
       "      <td>퇴원</td>\n",
       "      <td>2020-08-29</td>\n",
       "      <td>8</td>\n",
       "      <td>35</td>\n",
       "      <td>08-29</td>\n",
       "    </tr>\n",
       "    <tr>\n",
       "      <th>2205</th>\n",
       "      <td>3851</td>\n",
       "      <td>19830</td>\n",
       "      <td>8.29.</td>\n",
       "      <td>구로구</td>\n",
       "      <td>-</td>\n",
       "      <td>영등포구 권능교회</td>\n",
       "      <td>퇴원</td>\n",
       "      <td>2020-08-29</td>\n",
       "      <td>8</td>\n",
       "      <td>35</td>\n",
       "      <td>08-29</td>\n",
       "    </tr>\n",
       "    <tr>\n",
       "      <th>2206</th>\n",
       "      <td>3850</td>\n",
       "      <td>19849</td>\n",
       "      <td>8.29.</td>\n",
       "      <td>노원구</td>\n",
       "      <td>-</td>\n",
       "      <td>노원구 빛가온교회 관련</td>\n",
       "      <td>퇴원</td>\n",
       "      <td>2020-08-29</td>\n",
       "      <td>8</td>\n",
       "      <td>35</td>\n",
       "      <td>08-29</td>\n",
       "    </tr>\n",
       "    <tr>\n",
       "      <th>2207</th>\n",
       "      <td>3849</td>\n",
       "      <td>19898</td>\n",
       "      <td>8.29.</td>\n",
       "      <td>금천구</td>\n",
       "      <td>-</td>\n",
       "      <td>타시도 확진자 접촉</td>\n",
       "      <td>퇴원</td>\n",
       "      <td>2020-08-29</td>\n",
       "      <td>8</td>\n",
       "      <td>35</td>\n",
       "      <td>08-29</td>\n",
       "    </tr>\n",
       "  </tbody>\n",
       "</table>\n",
       "</div>"
      ],
      "text/plain": [
       "        연번     환자    확진일  거주지 여행력            접촉력 퇴원현황       확진일자  월   주     월일\n",
       "2143  3913  20100  8.29.  관악구   -     타시도 확진자 접촉   퇴원 2020-08-29  8  35  08-29\n",
       "2178  3878  19716  8.29.  동작구   -  성북구 사랑제일교회 관련   퇴원 2020-08-29  8  35  08-29\n",
       "2205  3851  19830  8.29.  구로구   -      영등포구 권능교회   퇴원 2020-08-29  8  35  08-29\n",
       "2206  3850  19849  8.29.  노원구   -   노원구 빛가온교회 관련   퇴원 2020-08-29  8  35  08-29\n",
       "2207  3849  19898  8.29.  금천구   -     타시도 확진자 접촉   퇴원 2020-08-29  8  35  08-29"
      ]
     },
     "execution_count": 89,
     "metadata": {},
     "output_type": "execute_result"
    }
   ],
   "source": [
    "#확진자가 가장 많았던 날의 발생 이력을 찾기\n",
    "data.loc[data['월일'] == '08-29'].head()"
   ]
  },
  {
   "cell_type": "markdown",
   "metadata": {},
   "source": [
    "### 1.3 line plot(선그래프)를 bar plot으로 그리기\n"
   ]
  },
  {
   "cell_type": "code",
   "execution_count": 92,
   "metadata": {},
   "outputs": [
    {
     "data": {
      "text/plain": [
       "<matplotlib.axes._subplots.AxesSubplot at 0x21eb0750820>"
      ]
     },
     "execution_count": 92,
     "metadata": {},
     "output_type": "execute_result"
    },
    {
     "data": {
      "image/png": "[encoded data removed]",
      "text/plain": [
       "<Figure size 2160x288 with 1 Axes>"
      ]
     },
     "metadata": {
      "image/png": {
       "height": 292,
       "width": 1923
      }
     },
     "output_type": "display_data"
    }
   ],
   "source": [
    "day_count.plot.bar(figsize=(30,4))"
   ]
  },
  {
   "cell_type": "code",
   "execution_count": 102,
   "metadata": {},
   "outputs": [
    {
     "name": "stdout",
     "output_type": "stream",
     "text": [
      "중간값: 25.0\n"
     ]
    },
    {
     "data": {
      "image/png": "[encoded data removed]",
      "text/plain": [
       "<Figure size 1080x288 with 1 Axes>"
      ]
     },
     "metadata": {
      "image/png": {
       "height": 287,
       "width": 978
      }
     },
     "output_type": "display_data"
    }
   ],
   "source": [
    "#중간값 \n",
    "print('중간값:',day_count[-50:].median())\n",
    "#슬라이싱으로 최신데이터만 그려보기\n",
    "bar_plot = day_count[-50:].plot.bar(figsize=(15,4))\n",
    "bar_plot.axhline(day_count.median(),linestyle=\":\",color='red')\n",
    "for i in range(50):\n",
    "    case_count = day_count[-50:].iloc[i]\n",
    "    if case_count > 10:\n",
    "        bar_plot.text(x=i,y=case_count,s=case_count,color='black')"
   ]
  },
  {
   "cell_type": "code",
   "execution_count": 103,
   "metadata": {},
   "outputs": [],
   "source": [
    "### 1.4월별 확진자 수 그리기"
   ]
  },
  {
   "cell_type": "code",
   "execution_count": 109,
   "metadata": {},
   "outputs": [
    {
     "data": {
      "image/png": "[encoded data removed]",
      "text/plain": [
       "<Figure size 432x288 with 1 Axes>"
      ]
     },
     "metadata": {
      "image/png": {
       "height": 267,
       "width": 428
      }
     },
     "output_type": "display_data"
    }
   ],
   "source": [
    "#\n",
    "month_case = data['월'].value_counts().sort_index()\n",
    "month_case\n",
    "bar_plot = month_case.plot.bar(rot=0,color='black')\n",
    "for i in range(len(month_case)):\n",
    "    bar_plot.text(x=i,y=month_case.iloc[i],s=month_case.iloc[i],color='black')"
   ]
  },
  {
   "cell_type": "markdown",
   "metadata": {},
   "source": [
    "### 2.모든 날짜를 행에 만들어 주기\n",
    "* 확진자가 없는 날의 데이터도 만들어 주기 "
   ]
  },
  {
   "cell_type": "code",
   "execution_count": 126,
   "metadata": {},
   "outputs": [
    {
     "data": {
      "text/plain": [
       "2020-08-29    167\n",
       "2020-08-27    160\n",
       "2020-08-26    157\n",
       "2020-08-18    151\n",
       "2020-08-15    146\n",
       "             ... \n",
       "2020-04-15      1\n",
       "2020-01-24      1\n",
       "2020-04-20      1\n",
       "2020-02-02      1\n",
       "2020-02-06      1\n",
       "Name: 확진일자, Length: 253, dtype: int64"
      ]
     },
     "execution_count": 126,
     "metadata": {},
     "output_type": "execute_result"
    }
   ],
   "source": [
    "data['확진일자'].value_counts()"
   ]
  },
  {
   "cell_type": "code",
   "execution_count": 128,
   "metadata": {},
   "outputs": [
    {
     "data": {
      "text/html": [
       "<div>\n",
       "<style scoped>\n",
       "    .dataframe tbody tr th:only-of-type {\n",
       "        vertical-align: middle;\n",
       "    }\n",
       "\n",
       "    .dataframe tbody tr th {\n",
       "        vertical-align: top;\n",
       "    }\n",
       "\n",
       "    .dataframe thead th {\n",
       "        text-align: right;\n",
       "    }\n",
       "</style>\n",
       "<table border=\"1\" class=\"dataframe\">\n",
       "  <thead>\n",
       "    <tr style=\"text-align: right;\">\n",
       "      <th></th>\n",
       "      <th>연번</th>\n",
       "      <th>환자</th>\n",
       "      <th>확진일</th>\n",
       "      <th>거주지</th>\n",
       "      <th>여행력</th>\n",
       "      <th>접촉력</th>\n",
       "      <th>퇴원현황</th>\n",
       "      <th>확진일자</th>\n",
       "      <th>월</th>\n",
       "      <th>주</th>\n",
       "      <th>월일</th>\n",
       "    </tr>\n",
       "  </thead>\n",
       "  <tbody>\n",
       "    <tr>\n",
       "      <th>0</th>\n",
       "      <td>6056</td>\n",
       "      <td>26629</td>\n",
       "      <td>10.31.</td>\n",
       "      <td>서초구</td>\n",
       "      <td>-</td>\n",
       "      <td>기타확진자 접촉</td>\n",
       "      <td>NaN</td>\n",
       "      <td>2020-10-31</td>\n",
       "      <td>10</td>\n",
       "      <td>44</td>\n",
       "      <td>10-31</td>\n",
       "    </tr>\n",
       "    <tr>\n",
       "      <th>1</th>\n",
       "      <td>6055</td>\n",
       "      <td>26618</td>\n",
       "      <td>10.31.</td>\n",
       "      <td>구로구</td>\n",
       "      <td>-</td>\n",
       "      <td>강남구 헬스장 관련</td>\n",
       "      <td>NaN</td>\n",
       "      <td>2020-10-31</td>\n",
       "      <td>10</td>\n",
       "      <td>44</td>\n",
       "      <td>10-31</td>\n",
       "    </tr>\n",
       "  </tbody>\n",
       "</table>\n",
       "</div>"
      ],
      "text/plain": [
       "     연번     환자     확진일  거주지 여행력         접촉력 퇴원현황       확진일자   월   주     월일\n",
       "0  6056  26629  10.31.  서초구   -    기타확진자 접촉  NaN 2020-10-31  10  44  10-31\n",
       "1  6055  26618  10.31.  구로구   -  강남구 헬스장 관련  NaN 2020-10-31  10  44  10-31"
      ]
     },
     "execution_count": 128,
     "metadata": {},
     "output_type": "execute_result"
    }
   ],
   "source": [
    "data.head(2)"
   ]
  },
  {
   "cell_type": "code",
   "execution_count": 137,
   "metadata": {},
   "outputs": [],
   "source": [
    "#가장 마지막 행을 선택하기(실제로는 가장 최초확진일자)\n",
    "first_day = data.iloc[-1,7]"
   ]
  },
  {
   "cell_type": "code",
   "execution_count": 139,
   "metadata": {},
   "outputs": [
    {
     "data": {
      "text/plain": [
       "Timestamp('2020-10-31 00:00:00')"
      ]
     },
     "execution_count": 139,
     "metadata": {},
     "output_type": "execute_result"
    }
   ],
   "source": [
    "#가장 최근 확진일\n",
    "last_day = data.iloc[0,7]\n",
    "last_day"
   ]
  },
  {
   "cell_type": "code",
   "execution_count": 140,
   "metadata": {},
   "outputs": [
    {
     "name": "stdout",
     "output_type": "stream",
     "text": [
      "<class 'pandas.core.indexes.datetimes.DatetimeIndex'>\n"
     ]
    },
    {
     "data": {
      "text/plain": [
       "DatetimeIndex(['2020-01-24', '2020-01-25', '2020-01-26', '2020-01-27',\n",
       "               '2020-01-28', '2020-01-29', '2020-01-30', '2020-01-31',\n",
       "               '2020-02-01', '2020-02-02',\n",
       "               ...\n",
       "               '2020-10-22', '2020-10-23', '2020-10-24', '2020-10-25',\n",
       "               '2020-10-26', '2020-10-27', '2020-10-28', '2020-10-29',\n",
       "               '2020-10-30', '2020-10-31'],\n",
       "              dtype='datetime64[ns]', length=282, freq='D')"
      ]
     },
     "execution_count": 140,
     "metadata": {},
     "output_type": "execute_result"
    }
   ],
   "source": [
    "#pd.data_range()함수 통해서 시작날짜~마지막날짜까지의 Datetimeindex 객체 생성\n",
    "days = pd.date_range(first_day,last_day)\n",
    "print(type(days))\n",
    "days"
   ]
  },
  {
   "cell_type": "code",
   "execution_count": 145,
   "metadata": {},
   "outputs": [
    {
     "data": {
      "text/plain": [
       "2020-08-29    167\n",
       "2020-08-27    160\n",
       "2020-08-26    157\n",
       "2020-08-18    151\n",
       "2020-08-15    146\n",
       "Name: 확진일자, dtype: int64"
      ]
     },
     "execution_count": 145,
     "metadata": {},
     "output_type": "execute_result"
    }
   ],
   "source": [
    "#확진자별로 빈도수 구하기\n",
    "daliy_case = data['확진일자'].value_counts()\n",
    "daliy_case.head()"
   ]
  },
  {
   "cell_type": "code",
   "execution_count": 146,
   "metadata": {},
   "outputs": [
    {
     "name": "stdout",
     "output_type": "stream",
     "text": [
      "(282, 1)\n"
     ]
    },
    {
     "data": {
      "text/html": [
       "<div>\n",
       "<style scoped>\n",
       "    .dataframe tbody tr th:only-of-type {\n",
       "        vertical-align: middle;\n",
       "    }\n",
       "\n",
       "    .dataframe tbody tr th {\n",
       "        vertical-align: top;\n",
       "    }\n",
       "\n",
       "    .dataframe thead th {\n",
       "        text-align: right;\n",
       "    }\n",
       "</style>\n",
       "<table border=\"1\" class=\"dataframe\">\n",
       "  <thead>\n",
       "    <tr style=\"text-align: right;\">\n",
       "      <th></th>\n",
       "      <th>확진일자</th>\n",
       "    </tr>\n",
       "  </thead>\n",
       "  <tbody>\n",
       "    <tr>\n",
       "      <th>0</th>\n",
       "      <td>2020-01-24</td>\n",
       "    </tr>\n",
       "    <tr>\n",
       "      <th>1</th>\n",
       "      <td>2020-01-25</td>\n",
       "    </tr>\n",
       "    <tr>\n",
       "      <th>2</th>\n",
       "      <td>2020-01-26</td>\n",
       "    </tr>\n",
       "    <tr>\n",
       "      <th>3</th>\n",
       "      <td>2020-01-27</td>\n",
       "    </tr>\n",
       "    <tr>\n",
       "      <th>4</th>\n",
       "      <td>2020-01-28</td>\n",
       "    </tr>\n",
       "  </tbody>\n",
       "</table>\n",
       "</div>"
      ],
      "text/plain": [
       "        확진일자\n",
       "0 2020-01-24\n",
       "1 2020-01-25\n",
       "2 2020-01-26\n",
       "3 2020-01-27\n",
       "4 2020-01-28"
      ]
     },
     "execution_count": 146,
     "metadata": {},
     "output_type": "execute_result"
    }
   ],
   "source": [
    "#Datetimeindex 객체인 days를 DateFrame으로 생성\n",
    "df_days = pd.DataFrame({'확진일자':days})\n",
    "print(df_days.shape)\n",
    "df_days.head()"
   ]
  },
  {
   "cell_type": "code",
   "execution_count": 159,
   "metadata": {},
   "outputs": [
    {
     "name": "stdout",
     "output_type": "stream",
     "text": [
      "(253, 1)\n"
     ]
    },
    {
     "data": {
      "text/html": [
       "<div>\n",
       "<style scoped>\n",
       "    .dataframe tbody tr th:only-of-type {\n",
       "        vertical-align: middle;\n",
       "    }\n",
       "\n",
       "    .dataframe tbody tr th {\n",
       "        vertical-align: top;\n",
       "    }\n",
       "\n",
       "    .dataframe thead th {\n",
       "        text-align: right;\n",
       "    }\n",
       "</style>\n",
       "<table border=\"1\" class=\"dataframe\">\n",
       "  <thead>\n",
       "    <tr style=\"text-align: right;\">\n",
       "      <th></th>\n",
       "      <th>확진일자</th>\n",
       "    </tr>\n",
       "  </thead>\n",
       "  <tbody>\n",
       "    <tr>\n",
       "      <th>2020-08-29</th>\n",
       "      <td>167</td>\n",
       "    </tr>\n",
       "    <tr>\n",
       "      <th>2020-08-27</th>\n",
       "      <td>160</td>\n",
       "    </tr>\n",
       "    <tr>\n",
       "      <th>2020-08-26</th>\n",
       "      <td>157</td>\n",
       "    </tr>\n",
       "    <tr>\n",
       "      <th>2020-08-18</th>\n",
       "      <td>151</td>\n",
       "    </tr>\n",
       "    <tr>\n",
       "      <th>2020-08-15</th>\n",
       "      <td>146</td>\n",
       "    </tr>\n",
       "  </tbody>\n",
       "</table>\n",
       "</div>"
      ],
      "text/plain": [
       "            확진일자\n",
       "2020-08-29   167\n",
       "2020-08-27   160\n",
       "2020-08-26   157\n",
       "2020-08-18   151\n",
       "2020-08-15   146"
      ]
     },
     "execution_count": 159,
     "metadata": {},
     "output_type": "execute_result"
    }
   ],
   "source": [
    "#확진자별로 빈도수구한 Series객체를 Datafream으로변환\n",
    "df_daliy_case = daliy_case.to_frame()\n",
    "print(df_daliy_case.shape)\n",
    "df_daliy_case.head()"
   ]
  },
  {
   "cell_type": "code",
   "execution_count": 160,
   "metadata": {},
   "outputs": [
    {
     "data": {
      "text/html": [
       "<div>\n",
       "<style scoped>\n",
       "    .dataframe tbody tr th:only-of-type {\n",
       "        vertical-align: middle;\n",
       "    }\n",
       "\n",
       "    .dataframe tbody tr th {\n",
       "        vertical-align: top;\n",
       "    }\n",
       "\n",
       "    .dataframe thead th {\n",
       "        text-align: right;\n",
       "    }\n",
       "</style>\n",
       "<table border=\"1\" class=\"dataframe\">\n",
       "  <thead>\n",
       "    <tr style=\"text-align: right;\">\n",
       "      <th></th>\n",
       "      <th>확진자수</th>\n",
       "    </tr>\n",
       "  </thead>\n",
       "  <tbody>\n",
       "    <tr>\n",
       "      <th>2020-08-29</th>\n",
       "      <td>167</td>\n",
       "    </tr>\n",
       "    <tr>\n",
       "      <th>2020-08-27</th>\n",
       "      <td>160</td>\n",
       "    </tr>\n",
       "    <tr>\n",
       "      <th>2020-08-26</th>\n",
       "      <td>157</td>\n",
       "    </tr>\n",
       "    <tr>\n",
       "      <th>2020-08-18</th>\n",
       "      <td>151</td>\n",
       "    </tr>\n",
       "    <tr>\n",
       "      <th>2020-08-15</th>\n",
       "      <td>146</td>\n",
       "    </tr>\n",
       "  </tbody>\n",
       "</table>\n",
       "</div>"
      ],
      "text/plain": [
       "            확진자수\n",
       "2020-08-29   167\n",
       "2020-08-27   160\n",
       "2020-08-26   157\n",
       "2020-08-18   151\n",
       "2020-08-15   146"
      ]
     },
     "execution_count": 160,
     "metadata": {},
     "output_type": "execute_result"
    }
   ],
   "source": [
    "df_daliy_case.columns = ['확진자수']\n",
    "df_daliy_case.head()"
   ]
  },
  {
   "cell_type": "code",
   "execution_count": 162,
   "metadata": {},
   "outputs": [
    {
     "data": {
      "text/html": [
       "<div>\n",
       "<style scoped>\n",
       "    .dataframe tbody tr th:only-of-type {\n",
       "        vertical-align: middle;\n",
       "    }\n",
       "\n",
       "    .dataframe tbody tr th {\n",
       "        vertical-align: top;\n",
       "    }\n",
       "\n",
       "    .dataframe thead th {\n",
       "        text-align: right;\n",
       "    }\n",
       "</style>\n",
       "<table border=\"1\" class=\"dataframe\">\n",
       "  <thead>\n",
       "    <tr style=\"text-align: right;\">\n",
       "      <th></th>\n",
       "      <th>확진일자</th>\n",
       "    </tr>\n",
       "  </thead>\n",
       "  <tbody>\n",
       "    <tr>\n",
       "      <th>0</th>\n",
       "      <td>2020-01-24</td>\n",
       "    </tr>\n",
       "    <tr>\n",
       "      <th>1</th>\n",
       "      <td>2020-01-25</td>\n",
       "    </tr>\n",
       "    <tr>\n",
       "      <th>2</th>\n",
       "      <td>2020-01-26</td>\n",
       "    </tr>\n",
       "    <tr>\n",
       "      <th>3</th>\n",
       "      <td>2020-01-27</td>\n",
       "    </tr>\n",
       "    <tr>\n",
       "      <th>4</th>\n",
       "      <td>2020-01-28</td>\n",
       "    </tr>\n",
       "  </tbody>\n",
       "</table>\n",
       "</div>"
      ],
      "text/plain": [
       "        확진일자\n",
       "0 2020-01-24\n",
       "1 2020-01-25\n",
       "2 2020-01-26\n",
       "3 2020-01-27\n",
       "4 2020-01-28"
      ]
     },
     "execution_count": 162,
     "metadata": {},
     "output_type": "execute_result"
    }
   ],
   "source": [
    "df_days.head()"
   ]
  },
  {
   "cell_type": "code",
   "execution_count": 183,
   "metadata": {},
   "outputs": [
    {
     "name": "stdout",
     "output_type": "stream",
     "text": [
      "(282, 2)\n"
     ]
    },
    {
     "data": {
      "text/html": [
       "<div>\n",
       "<style scoped>\n",
       "    .dataframe tbody tr th:only-of-type {\n",
       "        vertical-align: middle;\n",
       "    }\n",
       "\n",
       "    .dataframe tbody tr th {\n",
       "        vertical-align: top;\n",
       "    }\n",
       "\n",
       "    .dataframe thead th {\n",
       "        text-align: right;\n",
       "    }\n",
       "</style>\n",
       "<table border=\"1\" class=\"dataframe\">\n",
       "  <thead>\n",
       "    <tr style=\"text-align: right;\">\n",
       "      <th></th>\n",
       "      <th>확진일자</th>\n",
       "      <th>확진자수</th>\n",
       "    </tr>\n",
       "  </thead>\n",
       "  <tbody>\n",
       "    <tr>\n",
       "      <th>277</th>\n",
       "      <td>2020-10-27</td>\n",
       "      <td>31.0</td>\n",
       "    </tr>\n",
       "    <tr>\n",
       "      <th>278</th>\n",
       "      <td>2020-10-28</td>\n",
       "      <td>31.0</td>\n",
       "    </tr>\n",
       "    <tr>\n",
       "      <th>279</th>\n",
       "      <td>2020-10-29</td>\n",
       "      <td>52.0</td>\n",
       "    </tr>\n",
       "    <tr>\n",
       "      <th>280</th>\n",
       "      <td>2020-10-30</td>\n",
       "      <td>46.0</td>\n",
       "    </tr>\n",
       "    <tr>\n",
       "      <th>281</th>\n",
       "      <td>2020-10-31</td>\n",
       "      <td>45.0</td>\n",
       "    </tr>\n",
       "  </tbody>\n",
       "</table>\n",
       "</div>"
      ],
      "text/plain": [
       "          확진일자  확진자수\n",
       "277 2020-10-27  31.0\n",
       "278 2020-10-28  31.0\n",
       "279 2020-10-29  52.0\n",
       "280 2020-10-30  46.0\n",
       "281 2020-10-31  45.0"
      ]
     },
     "execution_count": 183,
     "metadata": {},
     "output_type": "execute_result"
    }
   ],
   "source": [
    "#확진자가 없는 날도 일자에 표현이 되도록 전체일자와 확진일자 데이터를 merge()로 합친다.\n",
    "all_day = df_days.merge(df_daliy_case,left_on='확진일자',right_on=df_daliy_case.index,how='left')\n",
    "print(all_day.shape)\n",
    "all_day.tail()"
   ]
  },
  {
   "cell_type": "code",
   "execution_count": 187,
   "metadata": {},
   "outputs": [
    {
     "data": {
      "text/html": [
       "<div>\n",
       "<style scoped>\n",
       "    .dataframe tbody tr th:only-of-type {\n",
       "        vertical-align: middle;\n",
       "    }\n",
       "\n",
       "    .dataframe tbody tr th {\n",
       "        vertical-align: top;\n",
       "    }\n",
       "\n",
       "    .dataframe thead th {\n",
       "        text-align: right;\n",
       "    }\n",
       "</style>\n",
       "<table border=\"1\" class=\"dataframe\">\n",
       "  <thead>\n",
       "    <tr style=\"text-align: right;\">\n",
       "      <th></th>\n",
       "      <th>확진일자</th>\n",
       "      <th>확진자수</th>\n",
       "      <th>누적확진</th>\n",
       "    </tr>\n",
       "  </thead>\n",
       "  <tbody>\n",
       "    <tr>\n",
       "      <th>277</th>\n",
       "      <td>2020-10-27</td>\n",
       "      <td>31.0</td>\n",
       "      <td>5882.0</td>\n",
       "    </tr>\n",
       "    <tr>\n",
       "      <th>278</th>\n",
       "      <td>2020-10-28</td>\n",
       "      <td>31.0</td>\n",
       "      <td>5913.0</td>\n",
       "    </tr>\n",
       "    <tr>\n",
       "      <th>279</th>\n",
       "      <td>2020-10-29</td>\n",
       "      <td>52.0</td>\n",
       "      <td>5965.0</td>\n",
       "    </tr>\n",
       "    <tr>\n",
       "      <th>280</th>\n",
       "      <td>2020-10-30</td>\n",
       "      <td>46.0</td>\n",
       "      <td>6011.0</td>\n",
       "    </tr>\n",
       "    <tr>\n",
       "      <th>281</th>\n",
       "      <td>2020-10-31</td>\n",
       "      <td>45.0</td>\n",
       "      <td>6056.0</td>\n",
       "    </tr>\n",
       "  </tbody>\n",
       "</table>\n",
       "</div>"
      ],
      "text/plain": [
       "          확진일자  확진자수    누적확진\n",
       "277 2020-10-27  31.0  5882.0\n",
       "278 2020-10-28  31.0  5913.0\n",
       "279 2020-10-29  52.0  5965.0\n",
       "280 2020-10-30  46.0  6011.0\n",
       "281 2020-10-31  45.0  6056.0"
      ]
     },
     "execution_count": 187,
     "metadata": {},
     "output_type": "execute_result"
    }
   ],
   "source": [
    "#확진자수 결측치(outlier)값은 0으로 채우고 값을 누적해서 더하기\n",
    "#fillna() 함수는 결측치 값을 다른값으로 채워줄때 사용하는 함수\n",
    "#누적확진 컬럼 추가,누적된 값 할당\n",
    "all_day['누적확진'] = all_day['확진자수'].fillna(0).cumsum()\n",
    "all_day.tail()"
   ]
  },
  {
   "cell_type": "code",
   "execution_count": 188,
   "metadata": {},
   "outputs": [
    {
     "data": {
      "text/html": [
       "<div>\n",
       "<style scoped>\n",
       "    .dataframe tbody tr th:only-of-type {\n",
       "        vertical-align: middle;\n",
       "    }\n",
       "\n",
       "    .dataframe tbody tr th {\n",
       "        vertical-align: top;\n",
       "    }\n",
       "\n",
       "    .dataframe thead th {\n",
       "        text-align: right;\n",
       "    }\n",
       "</style>\n",
       "<table border=\"1\" class=\"dataframe\">\n",
       "  <thead>\n",
       "    <tr style=\"text-align: right;\">\n",
       "      <th></th>\n",
       "      <th>확진일자</th>\n",
       "      <th>확진자수</th>\n",
       "      <th>누적확진</th>\n",
       "    </tr>\n",
       "  </thead>\n",
       "  <tbody>\n",
       "    <tr>\n",
       "      <th>0</th>\n",
       "      <td>2020-01-24</td>\n",
       "      <td>1.0</td>\n",
       "      <td>1.0</td>\n",
       "    </tr>\n",
       "    <tr>\n",
       "      <th>1</th>\n",
       "      <td>2020-01-25</td>\n",
       "      <td>NaN</td>\n",
       "      <td>1.0</td>\n",
       "    </tr>\n",
       "    <tr>\n",
       "      <th>2</th>\n",
       "      <td>2020-01-26</td>\n",
       "      <td>NaN</td>\n",
       "      <td>1.0</td>\n",
       "    </tr>\n",
       "    <tr>\n",
       "      <th>3</th>\n",
       "      <td>2020-01-27</td>\n",
       "      <td>NaN</td>\n",
       "      <td>1.0</td>\n",
       "    </tr>\n",
       "    <tr>\n",
       "      <th>4</th>\n",
       "      <td>2020-01-28</td>\n",
       "      <td>NaN</td>\n",
       "      <td>1.0</td>\n",
       "    </tr>\n",
       "  </tbody>\n",
       "</table>\n",
       "</div>"
      ],
      "text/plain": [
       "        확진일자  확진자수  누적확진\n",
       "0 2020-01-24   1.0   1.0\n",
       "1 2020-01-25   NaN   1.0\n",
       "2 2020-01-26   NaN   1.0\n",
       "3 2020-01-27   NaN   1.0\n",
       "4 2020-01-28   NaN   1.0"
      ]
     },
     "execution_count": 188,
     "metadata": {},
     "output_type": "execute_result"
    }
   ],
   "source": [
    "all_day.head()"
   ]
  },
  {
   "cell_type": "code",
   "execution_count": 190,
   "metadata": {},
   "outputs": [
    {
     "data": {
      "text/html": [
       "<div>\n",
       "<style scoped>\n",
       "    .dataframe tbody tr th:only-of-type {\n",
       "        vertical-align: middle;\n",
       "    }\n",
       "\n",
       "    .dataframe tbody tr th {\n",
       "        vertical-align: top;\n",
       "    }\n",
       "\n",
       "    .dataframe thead th {\n",
       "        text-align: right;\n",
       "    }\n",
       "</style>\n",
       "<table border=\"1\" class=\"dataframe\">\n",
       "  <thead>\n",
       "    <tr style=\"text-align: right;\">\n",
       "      <th></th>\n",
       "      <th>확진일자</th>\n",
       "      <th>확진자수</th>\n",
       "      <th>누적확진</th>\n",
       "      <th>일자</th>\n",
       "    </tr>\n",
       "  </thead>\n",
       "  <tbody>\n",
       "    <tr>\n",
       "      <th>0</th>\n",
       "      <td>2020-01-24</td>\n",
       "      <td>1.0</td>\n",
       "      <td>1.0</td>\n",
       "      <td>01-24</td>\n",
       "    </tr>\n",
       "    <tr>\n",
       "      <th>1</th>\n",
       "      <td>2020-01-25</td>\n",
       "      <td>NaN</td>\n",
       "      <td>1.0</td>\n",
       "      <td>01-25</td>\n",
       "    </tr>\n",
       "    <tr>\n",
       "      <th>2</th>\n",
       "      <td>2020-01-26</td>\n",
       "      <td>NaN</td>\n",
       "      <td>1.0</td>\n",
       "      <td>01-26</td>\n",
       "    </tr>\n",
       "    <tr>\n",
       "      <th>3</th>\n",
       "      <td>2020-01-27</td>\n",
       "      <td>NaN</td>\n",
       "      <td>1.0</td>\n",
       "      <td>01-27</td>\n",
       "    </tr>\n",
       "    <tr>\n",
       "      <th>4</th>\n",
       "      <td>2020-01-28</td>\n",
       "      <td>NaN</td>\n",
       "      <td>1.0</td>\n",
       "      <td>01-28</td>\n",
       "    </tr>\n",
       "  </tbody>\n",
       "</table>\n",
       "</div>"
      ],
      "text/plain": [
       "        확진일자  확진자수  누적확진     일자\n",
       "0 2020-01-24   1.0   1.0  01-24\n",
       "1 2020-01-25   NaN   1.0  01-25\n",
       "2 2020-01-26   NaN   1.0  01-26\n",
       "3 2020-01-27   NaN   1.0  01-27\n",
       "4 2020-01-28   NaN   1.0  01-28"
      ]
     },
     "execution_count": 190,
     "metadata": {},
     "output_type": "execute_result"
    }
   ],
   "source": [
    "#확진일자에서 연도는 제외하고 월-일로 '일자'컬럼 만들기\n",
    "all_day['일자'] = all_day['확진일자'].astype(str).map(lambda x:x[-5:])\n",
    "all_day.head()"
   ]
  },
  {
   "cell_type": "code",
   "execution_count": 209,
   "metadata": {},
   "outputs": [
    {
     "data": {
      "text/html": [
       "<div>\n",
       "<style scoped>\n",
       "    .dataframe tbody tr th:only-of-type {\n",
       "        vertical-align: middle;\n",
       "    }\n",
       "\n",
       "    .dataframe tbody tr th {\n",
       "        vertical-align: top;\n",
       "    }\n",
       "\n",
       "    .dataframe thead th {\n",
       "        text-align: right;\n",
       "    }\n",
       "</style>\n",
       "<table border=\"1\" class=\"dataframe\">\n",
       "  <thead>\n",
       "    <tr style=\"text-align: right;\">\n",
       "      <th></th>\n",
       "      <th>확진자수</th>\n",
       "      <th>누적확진</th>\n",
       "    </tr>\n",
       "    <tr>\n",
       "      <th>일자</th>\n",
       "      <th></th>\n",
       "      <th></th>\n",
       "    </tr>\n",
       "  </thead>\n",
       "  <tbody>\n",
       "    <tr>\n",
       "      <th>01-24</th>\n",
       "      <td>1.0</td>\n",
       "      <td>1.0</td>\n",
       "    </tr>\n",
       "    <tr>\n",
       "      <th>01-25</th>\n",
       "      <td>NaN</td>\n",
       "      <td>1.0</td>\n",
       "    </tr>\n",
       "    <tr>\n",
       "      <th>01-26</th>\n",
       "      <td>NaN</td>\n",
       "      <td>1.0</td>\n",
       "    </tr>\n",
       "    <tr>\n",
       "      <th>01-27</th>\n",
       "      <td>NaN</td>\n",
       "      <td>1.0</td>\n",
       "    </tr>\n",
       "    <tr>\n",
       "      <th>01-28</th>\n",
       "      <td>NaN</td>\n",
       "      <td>1.0</td>\n",
       "    </tr>\n",
       "    <tr>\n",
       "      <th>...</th>\n",
       "      <td>...</td>\n",
       "      <td>...</td>\n",
       "    </tr>\n",
       "    <tr>\n",
       "      <th>10-27</th>\n",
       "      <td>31.0</td>\n",
       "      <td>5882.0</td>\n",
       "    </tr>\n",
       "    <tr>\n",
       "      <th>10-28</th>\n",
       "      <td>31.0</td>\n",
       "      <td>5913.0</td>\n",
       "    </tr>\n",
       "    <tr>\n",
       "      <th>10-29</th>\n",
       "      <td>52.0</td>\n",
       "      <td>5965.0</td>\n",
       "    </tr>\n",
       "    <tr>\n",
       "      <th>10-30</th>\n",
       "      <td>46.0</td>\n",
       "      <td>6011.0</td>\n",
       "    </tr>\n",
       "    <tr>\n",
       "      <th>10-31</th>\n",
       "      <td>45.0</td>\n",
       "      <td>6056.0</td>\n",
       "    </tr>\n",
       "  </tbody>\n",
       "</table>\n",
       "<p>282 rows × 2 columns</p>\n",
       "</div>"
      ],
      "text/plain": [
       "       확진자수    누적확진\n",
       "일자                 \n",
       "01-24   1.0     1.0\n",
       "01-25   NaN     1.0\n",
       "01-26   NaN     1.0\n",
       "01-27   NaN     1.0\n",
       "01-28   NaN     1.0\n",
       "...     ...     ...\n",
       "10-27  31.0  5882.0\n",
       "10-28  31.0  5913.0\n",
       "10-29  52.0  5965.0\n",
       "10-30  46.0  6011.0\n",
       "10-31  45.0  6056.0\n",
       "\n",
       "[282 rows x 2 columns]"
      ]
     },
     "execution_count": 209,
     "metadata": {},
     "output_type": "execute_result"
    }
   ],
   "source": [
    "#확진자수,누적확진,일자컬럼선택해서 새로운 DataFrame생성\n",
    "cum_day = all_day[['일자','확진자수','누적확진']]\n",
    "#일자 컬럼을 index로 설정\n",
    "cum_day = cum_day.set_index('일자')\n",
    "cum_day"
   ]
  },
  {
   "cell_type": "code",
   "execution_count": 213,
   "metadata": {},
   "outputs": [
    {
     "data": {
      "text/plain": [
       "<matplotlib.axes._subplots.AxesSubplot at 0x21eadcfd970>"
      ]
     },
     "execution_count": 213,
     "metadata": {},
     "output_type": "execute_result"
    },
    {
     "data": {
      "image/png": "[encoded data removed]",
      "text/plain": [
       "<Figure size 1080x288 with 1 Axes>"
      ]
     },
     "metadata": {
      "image/png": {
       "height": 286,
       "width": 988
      }
     },
     "output_type": "display_data"
    }
   ],
   "source": [
    "#확진자수와 누적확진을 line plot 그리기\n",
    "cum_day.plot(figsize=(15,4))"
   ]
  },
  {
   "cell_type": "code",
   "execution_count": 219,
   "metadata": {},
   "outputs": [
    {
     "data": {
      "text/plain": [
       "<matplotlib.axes._subplots.AxesSubplot at 0x21eae371eb0>"
      ]
     },
     "execution_count": 219,
     "metadata": {},
     "output_type": "execute_result"
    },
    {
     "data": {
      "image/png": "[encoded data removed]",
      "text/plain": [
       "<Figure size 1080x288 with 1 Axes>"
      ]
     },
     "metadata": {
      "image/png": {
       "height": 286,
       "width": 988
      }
     },
     "output_type": "display_data"
    }
   ],
   "source": [
    "cum_day['확진자수'].plot()\n",
    "cum_day['누적확진'].plot(figsize=(15,4))"
   ]
  },
  {
   "cell_type": "markdown",
   "metadata": {},
   "source": [
    "### 로그스케일\n",
    "* 누적확진자수와 확진자수 차이가 커서 그래프가 자세히보이지않을 때 로그스케일로 표현함.\n",
    "* numpy의 log()함수 이용 "
   ]
  },
  {
   "cell_type": "code",
   "execution_count": 220,
   "metadata": {},
   "outputs": [
    {
     "data": {
      "text/plain": [
       "일자\n",
       "01-24    0.000000\n",
       "01-25    0.000000\n",
       "01-26    0.000000\n",
       "01-27    0.000000\n",
       "01-28    0.000000\n",
       "           ...   \n",
       "10-27    8.679652\n",
       "10-28    8.684909\n",
       "10-29    8.693664\n",
       "10-30    8.701346\n",
       "10-31    8.708805\n",
       "Name: 누적확진, Length: 282, dtype: float64"
      ]
     },
     "execution_count": 220,
     "metadata": {},
     "output_type": "execute_result"
    }
   ],
   "source": [
    "import numpy as np\n",
    "\n",
    "np.log(cum_day['누적확진'])"
   ]
  },
  {
   "cell_type": "code",
   "execution_count": 226,
   "metadata": {},
   "outputs": [
    {
     "data": {
      "text/html": [
       "<div>\n",
       "<style scoped>\n",
       "    .dataframe tbody tr th:only-of-type {\n",
       "        vertical-align: middle;\n",
       "    }\n",
       "\n",
       "    .dataframe tbody tr th {\n",
       "        vertical-align: top;\n",
       "    }\n",
       "\n",
       "    .dataframe thead th {\n",
       "        text-align: right;\n",
       "    }\n",
       "</style>\n",
       "<table border=\"1\" class=\"dataframe\">\n",
       "  <thead>\n",
       "    <tr style=\"text-align: right;\">\n",
       "      <th></th>\n",
       "      <th>확진일자</th>\n",
       "      <th>확진자수</th>\n",
       "      <th>누적확진</th>\n",
       "      <th>일자</th>\n",
       "      <th>확진일</th>\n",
       "      <th>확진요일</th>\n",
       "      <th>확진월</th>\n",
       "    </tr>\n",
       "  </thead>\n",
       "  <tbody>\n",
       "    <tr>\n",
       "      <th>280</th>\n",
       "      <td>2020-10-30</td>\n",
       "      <td>46.0</td>\n",
       "      <td>6011.0</td>\n",
       "      <td>10-30</td>\n",
       "      <td>10</td>\n",
       "      <td>4</td>\n",
       "      <td>10</td>\n",
       "    </tr>\n",
       "    <tr>\n",
       "      <th>281</th>\n",
       "      <td>2020-10-31</td>\n",
       "      <td>45.0</td>\n",
       "      <td>6056.0</td>\n",
       "      <td>10-31</td>\n",
       "      <td>10</td>\n",
       "      <td>5</td>\n",
       "      <td>10</td>\n",
       "    </tr>\n",
       "  </tbody>\n",
       "</table>\n",
       "</div>"
      ],
      "text/plain": [
       "          확진일자  확진자수    누적확진     일자  확진일  확진요일  확진월\n",
       "280 2020-10-30  46.0  6011.0  10-30   10     4   10\n",
       "281 2020-10-31  45.0  6056.0  10-31   10     5   10"
      ]
     },
     "execution_count": 226,
     "metadata": {},
     "output_type": "execute_result"
    }
   ],
   "source": [
    "#확진일\n",
    "all_day['확진월'] = all_day['확진일자'].dt.month\n",
    "#확진요일\n",
    "all_day['확진요일']=all_day['확진일자'].dt.dayofweek\n",
    "all_day.tail(2)"
   ]
  },
  {
   "cell_type": "code",
   "execution_count": 238,
   "metadata": {},
   "outputs": [
    {
     "data": {
      "text/plain": [
       "확진월  확진요일\n",
       "1    0         0.0\n",
       "     1         0.0\n",
       "     2         0.0\n",
       "     3         3.0\n",
       "     4         4.0\n",
       "             ...  \n",
       "10   2        94.0\n",
       "     3       123.0\n",
       "     4       137.0\n",
       "     5       122.0\n",
       "     6        88.0\n",
       "Name: 확진자수, Length: 70, dtype: float64"
      ]
     },
     "execution_count": 238,
     "metadata": {},
     "output_type": "execute_result"
    }
   ],
   "source": [
    "#월별,요일별 확진자수를 groupby로 구하기\n",
    "all_day_week = all_day.groupby(['확진월','확진요일'])['확진자수'].sum()\n",
    "all_day_week"
   ]
  },
  {
   "cell_type": "code",
   "execution_count": 228,
   "metadata": {},
   "outputs": [
    {
     "data": {
      "text/html": [
       "<div>\n",
       "<style scoped>\n",
       "    .dataframe tbody tr th:only-of-type {\n",
       "        vertical-align: middle;\n",
       "    }\n",
       "\n",
       "    .dataframe tbody tr th {\n",
       "        vertical-align: top;\n",
       "    }\n",
       "\n",
       "    .dataframe thead th {\n",
       "        text-align: right;\n",
       "    }\n",
       "</style>\n",
       "<table border=\"1\" class=\"dataframe\">\n",
       "  <thead>\n",
       "    <tr style=\"text-align: right;\">\n",
       "      <th></th>\n",
       "      <th>확진일자</th>\n",
       "      <th>확진자수</th>\n",
       "      <th>누적확진</th>\n",
       "      <th>일자</th>\n",
       "      <th>확진일</th>\n",
       "      <th>확진요일</th>\n",
       "      <th>확진월</th>\n",
       "    </tr>\n",
       "  </thead>\n",
       "  <tbody>\n",
       "    <tr>\n",
       "      <th>280</th>\n",
       "      <td>2020-10-30</td>\n",
       "      <td>46.0</td>\n",
       "      <td>6011.0</td>\n",
       "      <td>10-30</td>\n",
       "      <td>10</td>\n",
       "      <td>4</td>\n",
       "      <td>10</td>\n",
       "    </tr>\n",
       "    <tr>\n",
       "      <th>281</th>\n",
       "      <td>2020-10-31</td>\n",
       "      <td>45.0</td>\n",
       "      <td>6056.0</td>\n",
       "      <td>10-31</td>\n",
       "      <td>10</td>\n",
       "      <td>5</td>\n",
       "      <td>10</td>\n",
       "    </tr>\n",
       "  </tbody>\n",
       "</table>\n",
       "</div>"
      ],
      "text/plain": [
       "          확진일자  확진자수    누적확진     일자  확진일  확진요일  확진월\n",
       "280 2020-10-30  46.0  6011.0  10-30   10     4   10\n",
       "281 2020-10-31  45.0  6056.0  10-31   10     5   10"
      ]
     },
     "execution_count": 228,
     "metadata": {},
     "output_type": "execute_result"
    }
   ],
   "source": [
    "all_day.tail(2)"
   ]
  },
  {
   "cell_type": "code",
   "execution_count": 239,
   "metadata": {},
   "outputs": [
    {
     "data": {
      "text/html": [
       "<div>\n",
       "<style scoped>\n",
       "    .dataframe tbody tr th:only-of-type {\n",
       "        vertical-align: middle;\n",
       "    }\n",
       "\n",
       "    .dataframe tbody tr th {\n",
       "        vertical-align: top;\n",
       "    }\n",
       "\n",
       "    .dataframe thead th {\n",
       "        text-align: right;\n",
       "    }\n",
       "</style>\n",
       "<table border=\"1\" class=\"dataframe\">\n",
       "  <thead>\n",
       "    <tr style=\"text-align: right;\">\n",
       "      <th>확진요일</th>\n",
       "      <th>0</th>\n",
       "      <th>1</th>\n",
       "      <th>2</th>\n",
       "      <th>3</th>\n",
       "      <th>4</th>\n",
       "      <th>5</th>\n",
       "      <th>6</th>\n",
       "    </tr>\n",
       "    <tr>\n",
       "      <th>확진월</th>\n",
       "      <th></th>\n",
       "      <th></th>\n",
       "      <th></th>\n",
       "      <th></th>\n",
       "      <th></th>\n",
       "      <th></th>\n",
       "      <th></th>\n",
       "    </tr>\n",
       "  </thead>\n",
       "  <tbody>\n",
       "    <tr>\n",
       "      <th>1</th>\n",
       "      <td>0</td>\n",
       "      <td>0</td>\n",
       "      <td>0</td>\n",
       "      <td>3</td>\n",
       "      <td>4</td>\n",
       "      <td>0</td>\n",
       "      <td>0</td>\n",
       "    </tr>\n",
       "    <tr>\n",
       "      <th>2</th>\n",
       "      <td>4</td>\n",
       "      <td>16</td>\n",
       "      <td>14</td>\n",
       "      <td>19</td>\n",
       "      <td>11</td>\n",
       "      <td>9</td>\n",
       "      <td>7</td>\n",
       "    </tr>\n",
       "    <tr>\n",
       "      <th>3</th>\n",
       "      <td>69</td>\n",
       "      <td>89</td>\n",
       "      <td>46</td>\n",
       "      <td>44</td>\n",
       "      <td>48</td>\n",
       "      <td>45</td>\n",
       "      <td>50</td>\n",
       "    </tr>\n",
       "    <tr>\n",
       "      <th>4</th>\n",
       "      <td>16</td>\n",
       "      <td>17</td>\n",
       "      <td>28</td>\n",
       "      <td>27</td>\n",
       "      <td>26</td>\n",
       "      <td>22</td>\n",
       "      <td>20</td>\n",
       "    </tr>\n",
       "    <tr>\n",
       "      <th>5</th>\n",
       "      <td>27</td>\n",
       "      <td>36</td>\n",
       "      <td>34</td>\n",
       "      <td>34</td>\n",
       "      <td>32</td>\n",
       "      <td>36</td>\n",
       "      <td>29</td>\n",
       "    </tr>\n",
       "    <tr>\n",
       "      <th>6</th>\n",
       "      <td>55</td>\n",
       "      <td>67</td>\n",
       "      <td>66</td>\n",
       "      <td>75</td>\n",
       "      <td>90</td>\n",
       "      <td>70</td>\n",
       "      <td>37</td>\n",
       "    </tr>\n",
       "    <tr>\n",
       "      <th>7</th>\n",
       "      <td>37</td>\n",
       "      <td>42</td>\n",
       "      <td>42</td>\n",
       "      <td>58</td>\n",
       "      <td>34</td>\n",
       "      <td>40</td>\n",
       "      <td>28</td>\n",
       "    </tr>\n",
       "    <tr>\n",
       "      <th>8</th>\n",
       "      <td>387</td>\n",
       "      <td>288</td>\n",
       "      <td>327</td>\n",
       "      <td>328</td>\n",
       "      <td>336</td>\n",
       "      <td>473</td>\n",
       "      <td>277</td>\n",
       "    </tr>\n",
       "    <tr>\n",
       "      <th>9</th>\n",
       "      <td>177</td>\n",
       "      <td>242</td>\n",
       "      <td>228</td>\n",
       "      <td>207</td>\n",
       "      <td>169</td>\n",
       "      <td>155</td>\n",
       "      <td>126</td>\n",
       "    </tr>\n",
       "    <tr>\n",
       "      <th>10</th>\n",
       "      <td>72</td>\n",
       "      <td>97</td>\n",
       "      <td>94</td>\n",
       "      <td>123</td>\n",
       "      <td>137</td>\n",
       "      <td>122</td>\n",
       "      <td>88</td>\n",
       "    </tr>\n",
       "  </tbody>\n",
       "</table>\n",
       "</div>"
      ],
      "text/plain": [
       "확진요일    0    1    2    3    4    5    6\n",
       "확진월                                    \n",
       "1       0    0    0    3    4    0    0\n",
       "2       4   16   14   19   11    9    7\n",
       "3      69   89   46   44   48   45   50\n",
       "4      16   17   28   27   26   22   20\n",
       "5      27   36   34   34   32   36   29\n",
       "6      55   67   66   75   90   70   37\n",
       "7      37   42   42   58   34   40   28\n",
       "8     387  288  327  328  336  473  277\n",
       "9     177  242  228  207  169  155  126\n",
       "10     72   97   94  123  137  122   88"
      ]
     },
     "execution_count": 239,
     "metadata": {},
     "output_type": "execute_result"
    }
   ],
   "source": [
    "#unstack()은 인덱스를 컬럼으로 변경해주는 함수\n",
    "#fillna(0)는 결측치(NaN)을 0으로 채워주는 함수\n",
    "#astype(int)는 float타입을 int 타입으로 변환해주는 함수\n",
    "all_day_week = all_day_week.unstack().fillna(0).astype(int)\n",
    "all_day_week"
   ]
  },
  {
   "cell_type": "code",
   "execution_count": 232,
   "metadata": {},
   "outputs": [
    {
     "name": "stdout",
     "output_type": "stream",
     "text": [
      "<class 'list'>\n"
     ]
    },
    {
     "data": {
      "text/plain": [
       "['월', '화', '수', '목', '금', '토', '일']"
      ]
     },
     "execution_count": 232,
     "metadata": {},
     "output_type": "execute_result"
    }
   ],
   "source": [
    "dayofweek = '월 화 수 목 금 토 일'\n",
    "dayofweek = dayofweek.split()\n",
    "print(type(dayofweek))\n",
    "dayofweek"
   ]
  },
  {
   "cell_type": "code",
   "execution_count": 234,
   "metadata": {},
   "outputs": [
    {
     "data": {
      "text/html": [
       "<div>\n",
       "<style scoped>\n",
       "    .dataframe tbody tr th:only-of-type {\n",
       "        vertical-align: middle;\n",
       "    }\n",
       "\n",
       "    .dataframe tbody tr th {\n",
       "        vertical-align: top;\n",
       "    }\n",
       "\n",
       "    .dataframe thead th {\n",
       "        text-align: right;\n",
       "    }\n",
       "</style>\n",
       "<table border=\"1\" class=\"dataframe\">\n",
       "  <thead>\n",
       "    <tr style=\"text-align: right;\">\n",
       "      <th></th>\n",
       "      <th>월</th>\n",
       "      <th>화</th>\n",
       "      <th>수</th>\n",
       "      <th>목</th>\n",
       "      <th>금</th>\n",
       "      <th>토</th>\n",
       "      <th>일</th>\n",
       "    </tr>\n",
       "    <tr>\n",
       "      <th>확진월</th>\n",
       "      <th></th>\n",
       "      <th></th>\n",
       "      <th></th>\n",
       "      <th></th>\n",
       "      <th></th>\n",
       "      <th></th>\n",
       "      <th></th>\n",
       "    </tr>\n",
       "  </thead>\n",
       "  <tbody>\n",
       "    <tr>\n",
       "      <th>1</th>\n",
       "      <td>0.0</td>\n",
       "      <td>0.0</td>\n",
       "      <td>0.0</td>\n",
       "      <td>3.0</td>\n",
       "      <td>4.0</td>\n",
       "      <td>0.0</td>\n",
       "      <td>0.0</td>\n",
       "    </tr>\n",
       "    <tr>\n",
       "      <th>2</th>\n",
       "      <td>4.0</td>\n",
       "      <td>16.0</td>\n",
       "      <td>14.0</td>\n",
       "      <td>19.0</td>\n",
       "      <td>11.0</td>\n",
       "      <td>9.0</td>\n",
       "      <td>7.0</td>\n",
       "    </tr>\n",
       "    <tr>\n",
       "      <th>3</th>\n",
       "      <td>69.0</td>\n",
       "      <td>89.0</td>\n",
       "      <td>46.0</td>\n",
       "      <td>44.0</td>\n",
       "      <td>48.0</td>\n",
       "      <td>45.0</td>\n",
       "      <td>50.0</td>\n",
       "    </tr>\n",
       "    <tr>\n",
       "      <th>4</th>\n",
       "      <td>16.0</td>\n",
       "      <td>17.0</td>\n",
       "      <td>28.0</td>\n",
       "      <td>27.0</td>\n",
       "      <td>26.0</td>\n",
       "      <td>22.0</td>\n",
       "      <td>20.0</td>\n",
       "    </tr>\n",
       "    <tr>\n",
       "      <th>5</th>\n",
       "      <td>27.0</td>\n",
       "      <td>36.0</td>\n",
       "      <td>34.0</td>\n",
       "      <td>34.0</td>\n",
       "      <td>32.0</td>\n",
       "      <td>36.0</td>\n",
       "      <td>29.0</td>\n",
       "    </tr>\n",
       "    <tr>\n",
       "      <th>6</th>\n",
       "      <td>55.0</td>\n",
       "      <td>67.0</td>\n",
       "      <td>66.0</td>\n",
       "      <td>75.0</td>\n",
       "      <td>90.0</td>\n",
       "      <td>70.0</td>\n",
       "      <td>37.0</td>\n",
       "    </tr>\n",
       "    <tr>\n",
       "      <th>7</th>\n",
       "      <td>37.0</td>\n",
       "      <td>42.0</td>\n",
       "      <td>42.0</td>\n",
       "      <td>58.0</td>\n",
       "      <td>34.0</td>\n",
       "      <td>40.0</td>\n",
       "      <td>28.0</td>\n",
       "    </tr>\n",
       "    <tr>\n",
       "      <th>8</th>\n",
       "      <td>387.0</td>\n",
       "      <td>288.0</td>\n",
       "      <td>327.0</td>\n",
       "      <td>328.0</td>\n",
       "      <td>336.0</td>\n",
       "      <td>473.0</td>\n",
       "      <td>277.0</td>\n",
       "    </tr>\n",
       "    <tr>\n",
       "      <th>9</th>\n",
       "      <td>177.0</td>\n",
       "      <td>242.0</td>\n",
       "      <td>228.0</td>\n",
       "      <td>207.0</td>\n",
       "      <td>169.0</td>\n",
       "      <td>155.0</td>\n",
       "      <td>126.0</td>\n",
       "    </tr>\n",
       "    <tr>\n",
       "      <th>10</th>\n",
       "      <td>72.0</td>\n",
       "      <td>97.0</td>\n",
       "      <td>94.0</td>\n",
       "      <td>123.0</td>\n",
       "      <td>137.0</td>\n",
       "      <td>122.0</td>\n",
       "      <td>88.0</td>\n",
       "    </tr>\n",
       "  </tbody>\n",
       "</table>\n",
       "</div>"
      ],
      "text/plain": [
       "         월      화      수      목      금      토      일\n",
       "확진월                                                 \n",
       "1      0.0    0.0    0.0    3.0    4.0    0.0    0.0\n",
       "2      4.0   16.0   14.0   19.0   11.0    9.0    7.0\n",
       "3     69.0   89.0   46.0   44.0   48.0   45.0   50.0\n",
       "4     16.0   17.0   28.0   27.0   26.0   22.0   20.0\n",
       "5     27.0   36.0   34.0   34.0   32.0   36.0   29.0\n",
       "6     55.0   67.0   66.0   75.0   90.0   70.0   37.0\n",
       "7     37.0   42.0   42.0   58.0   34.0   40.0   28.0\n",
       "8    387.0  288.0  327.0  328.0  336.0  473.0  277.0\n",
       "9    177.0  242.0  228.0  207.0  169.0  155.0  126.0\n",
       "10    72.0   97.0   94.0  123.0  137.0  122.0   88.0"
      ]
     },
     "execution_count": 234,
     "metadata": {},
     "output_type": "execute_result"
    }
   ],
   "source": [
    "all_day_week.columns=dayofweek\n",
    "all_day_week"
   ]
  },
  {
   "cell_type": "code",
   "execution_count": 242,
   "metadata": {},
   "outputs": [
    {
     "data": {
      "text/html": [
       "<style  type=\"text/css\" >\n",
       "    #T_3eea29cd_1cd7_11eb_89ca_18c04d34ff92row0_col0 {\n",
       "            background-color:  #f7fbff;\n",
       "            color:  #000000;\n",
       "        }    #T_3eea29cd_1cd7_11eb_89ca_18c04d34ff92row0_col1 {\n",
       "            background-color:  #f7fbff;\n",
       "            color:  #000000;\n",
       "        }    #T_3eea29cd_1cd7_11eb_89ca_18c04d34ff92row0_col2 {\n",
       "            background-color:  #f7fbff;\n",
       "            color:  #000000;\n",
       "        }    #T_3eea29cd_1cd7_11eb_89ca_18c04d34ff92row0_col3 {\n",
       "            background-color:  #f7fbff;\n",
       "            color:  #000000;\n",
       "        }    #T_3eea29cd_1cd7_11eb_89ca_18c04d34ff92row0_col4 {\n",
       "            background-color:  #f7fbff;\n",
       "            color:  #000000;\n",
       "        }    #T_3eea29cd_1cd7_11eb_89ca_18c04d34ff92row0_col5 {\n",
       "            background-color:  #f7fbff;\n",
       "            color:  #000000;\n",
       "        }    #T_3eea29cd_1cd7_11eb_89ca_18c04d34ff92row0_col6 {\n",
       "            background-color:  #f7fbff;\n",
       "            color:  #000000;\n",
       "        }    #T_3eea29cd_1cd7_11eb_89ca_18c04d34ff92row1_col0 {\n",
       "            background-color:  #f5fafe;\n",
       "            color:  #000000;\n",
       "        }    #T_3eea29cd_1cd7_11eb_89ca_18c04d34ff92row1_col1 {\n",
       "            background-color:  #ecf4fb;\n",
       "            color:  #000000;\n",
       "        }    #T_3eea29cd_1cd7_11eb_89ca_18c04d34ff92row1_col2 {\n",
       "            background-color:  #eff6fc;\n",
       "            color:  #000000;\n",
       "        }    #T_3eea29cd_1cd7_11eb_89ca_18c04d34ff92row1_col3 {\n",
       "            background-color:  #eef5fc;\n",
       "            color:  #000000;\n",
       "        }    #T_3eea29cd_1cd7_11eb_89ca_18c04d34ff92row1_col4 {\n",
       "            background-color:  #f3f8fe;\n",
       "            color:  #000000;\n",
       "        }    #T_3eea29cd_1cd7_11eb_89ca_18c04d34ff92row1_col5 {\n",
       "            background-color:  #f4f9fe;\n",
       "            color:  #000000;\n",
       "        }    #T_3eea29cd_1cd7_11eb_89ca_18c04d34ff92row1_col6 {\n",
       "            background-color:  #f2f8fd;\n",
       "            color:  #000000;\n",
       "        }    #T_3eea29cd_1cd7_11eb_89ca_18c04d34ff92row2_col0 {\n",
       "            background-color:  #d4e4f4;\n",
       "            color:  #000000;\n",
       "        }    #T_3eea29cd_1cd7_11eb_89ca_18c04d34ff92row2_col1 {\n",
       "            background-color:  #b3d3e8;\n",
       "            color:  #000000;\n",
       "        }    #T_3eea29cd_1cd7_11eb_89ca_18c04d34ff92row2_col2 {\n",
       "            background-color:  #dbe9f6;\n",
       "            color:  #000000;\n",
       "        }    #T_3eea29cd_1cd7_11eb_89ca_18c04d34ff92row2_col3 {\n",
       "            background-color:  #deebf7;\n",
       "            color:  #000000;\n",
       "        }    #T_3eea29cd_1cd7_11eb_89ca_18c04d34ff92row2_col4 {\n",
       "            background-color:  #ddeaf7;\n",
       "            color:  #000000;\n",
       "        }    #T_3eea29cd_1cd7_11eb_89ca_18c04d34ff92row2_col5 {\n",
       "            background-color:  #e4eff9;\n",
       "            color:  #000000;\n",
       "        }    #T_3eea29cd_1cd7_11eb_89ca_18c04d34ff92row2_col6 {\n",
       "            background-color:  #d3e4f3;\n",
       "            color:  #000000;\n",
       "        }    #T_3eea29cd_1cd7_11eb_89ca_18c04d34ff92row3_col0 {\n",
       "            background-color:  #eff6fc;\n",
       "            color:  #000000;\n",
       "        }    #T_3eea29cd_1cd7_11eb_89ca_18c04d34ff92row3_col1 {\n",
       "            background-color:  #ebf3fb;\n",
       "            color:  #000000;\n",
       "        }    #T_3eea29cd_1cd7_11eb_89ca_18c04d34ff92row3_col2 {\n",
       "            background-color:  #e7f0fa;\n",
       "            color:  #000000;\n",
       "        }    #T_3eea29cd_1cd7_11eb_89ca_18c04d34ff92row3_col3 {\n",
       "            background-color:  #e9f2fa;\n",
       "            color:  #000000;\n",
       "        }    #T_3eea29cd_1cd7_11eb_89ca_18c04d34ff92row3_col4 {\n",
       "            background-color:  #eaf3fb;\n",
       "            color:  #000000;\n",
       "        }    #T_3eea29cd_1cd7_11eb_89ca_18c04d34ff92row3_col5 {\n",
       "            background-color:  #eef5fc;\n",
       "            color:  #000000;\n",
       "        }    #T_3eea29cd_1cd7_11eb_89ca_18c04d34ff92row3_col6 {\n",
       "            background-color:  #e9f2fa;\n",
       "            color:  #000000;\n",
       "        }    #T_3eea29cd_1cd7_11eb_89ca_18c04d34ff92row4_col0 {\n",
       "            background-color:  #eaf2fb;\n",
       "            color:  #000000;\n",
       "        }    #T_3eea29cd_1cd7_11eb_89ca_18c04d34ff92row4_col1 {\n",
       "            background-color:  #deebf7;\n",
       "            color:  #000000;\n",
       "        }    #T_3eea29cd_1cd7_11eb_89ca_18c04d34ff92row4_col2 {\n",
       "            background-color:  #e3eef8;\n",
       "            color:  #000000;\n",
       "        }    #T_3eea29cd_1cd7_11eb_89ca_18c04d34ff92row4_col3 {\n",
       "            background-color:  #e4eff9;\n",
       "            color:  #000000;\n",
       "        }    #T_3eea29cd_1cd7_11eb_89ca_18c04d34ff92row4_col4 {\n",
       "            background-color:  #e7f0fa;\n",
       "            color:  #000000;\n",
       "        }    #T_3eea29cd_1cd7_11eb_89ca_18c04d34ff92row4_col5 {\n",
       "            background-color:  #e8f1fa;\n",
       "            color:  #000000;\n",
       "        }    #T_3eea29cd_1cd7_11eb_89ca_18c04d34ff92row4_col6 {\n",
       "            background-color:  #e3eef8;\n",
       "            color:  #000000;\n",
       "        }    #T_3eea29cd_1cd7_11eb_89ca_18c04d34ff92row5_col0 {\n",
       "            background-color:  #dbe9f6;\n",
       "            color:  #000000;\n",
       "        }    #T_3eea29cd_1cd7_11eb_89ca_18c04d34ff92row5_col1 {\n",
       "            background-color:  #caddf0;\n",
       "            color:  #000000;\n",
       "        }    #T_3eea29cd_1cd7_11eb_89ca_18c04d34ff92row5_col2 {\n",
       "            background-color:  #d0e1f2;\n",
       "            color:  #000000;\n",
       "        }    #T_3eea29cd_1cd7_11eb_89ca_18c04d34ff92row5_col3 {\n",
       "            background-color:  #ccdff1;\n",
       "            color:  #000000;\n",
       "        }    #T_3eea29cd_1cd7_11eb_89ca_18c04d34ff92row5_col4 {\n",
       "            background-color:  #c3daee;\n",
       "            color:  #000000;\n",
       "        }    #T_3eea29cd_1cd7_11eb_89ca_18c04d34ff92row5_col5 {\n",
       "            background-color:  #dae8f6;\n",
       "            color:  #000000;\n",
       "        }    #T_3eea29cd_1cd7_11eb_89ca_18c04d34ff92row5_col6 {\n",
       "            background-color:  #dceaf6;\n",
       "            color:  #000000;\n",
       "        }    #T_3eea29cd_1cd7_11eb_89ca_18c04d34ff92row6_col0 {\n",
       "            background-color:  #e4eff9;\n",
       "            color:  #000000;\n",
       "        }    #T_3eea29cd_1cd7_11eb_89ca_18c04d34ff92row6_col1 {\n",
       "            background-color:  #dae8f6;\n",
       "            color:  #000000;\n",
       "        }    #T_3eea29cd_1cd7_11eb_89ca_18c04d34ff92row6_col2 {\n",
       "            background-color:  #deebf7;\n",
       "            color:  #000000;\n",
       "        }    #T_3eea29cd_1cd7_11eb_89ca_18c04d34ff92row6_col3 {\n",
       "            background-color:  #d6e5f4;\n",
       "            color:  #000000;\n",
       "        }    #T_3eea29cd_1cd7_11eb_89ca_18c04d34ff92row6_col4 {\n",
       "            background-color:  #e5eff9;\n",
       "            color:  #000000;\n",
       "        }    #T_3eea29cd_1cd7_11eb_89ca_18c04d34ff92row6_col5 {\n",
       "            background-color:  #e7f0fa;\n",
       "            color:  #000000;\n",
       "        }    #T_3eea29cd_1cd7_11eb_89ca_18c04d34ff92row6_col6 {\n",
       "            background-color:  #e3eef9;\n",
       "            color:  #000000;\n",
       "        }    #T_3eea29cd_1cd7_11eb_89ca_18c04d34ff92row7_col0 {\n",
       "            background-color:  #08306b;\n",
       "            color:  #f1f1f1;\n",
       "        }    #T_3eea29cd_1cd7_11eb_89ca_18c04d34ff92row7_col1 {\n",
       "            background-color:  #08306b;\n",
       "            color:  #f1f1f1;\n",
       "        }    #T_3eea29cd_1cd7_11eb_89ca_18c04d34ff92row7_col2 {\n",
       "            background-color:  #08306b;\n",
       "            color:  #f1f1f1;\n",
       "        }    #T_3eea29cd_1cd7_11eb_89ca_18c04d34ff92row7_col3 {\n",
       "            background-color:  #08306b;\n",
       "            color:  #f1f1f1;\n",
       "        }    #T_3eea29cd_1cd7_11eb_89ca_18c04d34ff92row7_col4 {\n",
       "            background-color:  #08306b;\n",
       "            color:  #f1f1f1;\n",
       "        }    #T_3eea29cd_1cd7_11eb_89ca_18c04d34ff92row7_col5 {\n",
       "            background-color:  #08306b;\n",
       "            color:  #f1f1f1;\n",
       "        }    #T_3eea29cd_1cd7_11eb_89ca_18c04d34ff92row7_col6 {\n",
       "            background-color:  #08306b;\n",
       "            color:  #f1f1f1;\n",
       "        }    #T_3eea29cd_1cd7_11eb_89ca_18c04d34ff92row8_col0 {\n",
       "            background-color:  #7cb7da;\n",
       "            color:  #000000;\n",
       "        }    #T_3eea29cd_1cd7_11eb_89ca_18c04d34ff92row8_col1 {\n",
       "            background-color:  #0e59a2;\n",
       "            color:  #f1f1f1;\n",
       "        }    #T_3eea29cd_1cd7_11eb_89ca_18c04d34ff92row8_col2 {\n",
       "            background-color:  #2f7fbc;\n",
       "            color:  #000000;\n",
       "        }    #T_3eea29cd_1cd7_11eb_89ca_18c04d34ff92row8_col3 {\n",
       "            background-color:  #4191c6;\n",
       "            color:  #000000;\n",
       "        }    #T_3eea29cd_1cd7_11eb_89ca_18c04d34ff92row8_col4 {\n",
       "            background-color:  #6caed6;\n",
       "            color:  #000000;\n",
       "        }    #T_3eea29cd_1cd7_11eb_89ca_18c04d34ff92row8_col5 {\n",
       "            background-color:  #aed1e7;\n",
       "            color:  #000000;\n",
       "        }    #T_3eea29cd_1cd7_11eb_89ca_18c04d34ff92row8_col6 {\n",
       "            background-color:  #7db8da;\n",
       "            color:  #000000;\n",
       "        }    #T_3eea29cd_1cd7_11eb_89ca_18c04d34ff92row9_col0 {\n",
       "            background-color:  #d3e3f3;\n",
       "            color:  #000000;\n",
       "        }    #T_3eea29cd_1cd7_11eb_89ca_18c04d34ff92row9_col1 {\n",
       "            background-color:  #aacfe5;\n",
       "            color:  #000000;\n",
       "        }    #T_3eea29cd_1cd7_11eb_89ca_18c04d34ff92row9_col2 {\n",
       "            background-color:  #bad6eb;\n",
       "            color:  #000000;\n",
       "        }    #T_3eea29cd_1cd7_11eb_89ca_18c04d34ff92row9_col3 {\n",
       "            background-color:  #a0cbe2;\n",
       "            color:  #000000;\n",
       "        }    #T_3eea29cd_1cd7_11eb_89ca_18c04d34ff92row9_col4 {\n",
       "            background-color:  #94c4df;\n",
       "            color:  #000000;\n",
       "        }    #T_3eea29cd_1cd7_11eb_89ca_18c04d34ff92row9_col5 {\n",
       "            background-color:  #c3daee;\n",
       "            color:  #000000;\n",
       "        }    #T_3eea29cd_1cd7_11eb_89ca_18c04d34ff92row9_col6 {\n",
       "            background-color:  #b0d2e7;\n",
       "            color:  #000000;\n",
       "        }</style><table id=\"T_3eea29cd_1cd7_11eb_89ca_18c04d34ff92\" ><thead>    <tr>        <th class=\"index_name level0\" >확진요일</th>        <th class=\"col_heading level0 col0\" >0</th>        <th class=\"col_heading level0 col1\" >1</th>        <th class=\"col_heading level0 col2\" >2</th>        <th class=\"col_heading level0 col3\" >3</th>        <th class=\"col_heading level0 col4\" >4</th>        <th class=\"col_heading level0 col5\" >5</th>        <th class=\"col_heading level0 col6\" >6</th>    </tr>    <tr>        <th class=\"index_name level0\" >확진월</th>        <th class=\"blank\" ></th>        <th class=\"blank\" ></th>        <th class=\"blank\" ></th>        <th class=\"blank\" ></th>        <th class=\"blank\" ></th>        <th class=\"blank\" ></th>        <th class=\"blank\" ></th>    </tr></thead><tbody>\n",
       "                <tr>\n",
       "                        <th id=\"T_3eea29cd_1cd7_11eb_89ca_18c04d34ff92level0_row0\" class=\"row_heading level0 row0\" >1</th>\n",
       "                        <td id=\"T_3eea29cd_1cd7_11eb_89ca_18c04d34ff92row0_col0\" class=\"data row0 col0\" >0</td>\n",
       "                        <td id=\"T_3eea29cd_1cd7_11eb_89ca_18c04d34ff92row0_col1\" class=\"data row0 col1\" >0</td>\n",
       "                        <td id=\"T_3eea29cd_1cd7_11eb_89ca_18c04d34ff92row0_col2\" class=\"data row0 col2\" >0</td>\n",
       "                        <td id=\"T_3eea29cd_1cd7_11eb_89ca_18c04d34ff92row0_col3\" class=\"data row0 col3\" >3</td>\n",
       "                        <td id=\"T_3eea29cd_1cd7_11eb_89ca_18c04d34ff92row0_col4\" class=\"data row0 col4\" >4</td>\n",
       "                        <td id=\"T_3eea29cd_1cd7_11eb_89ca_18c04d34ff92row0_col5\" class=\"data row0 col5\" >0</td>\n",
       "                        <td id=\"T_3eea29cd_1cd7_11eb_89ca_18c04d34ff92row0_col6\" class=\"data row0 col6\" >0</td>\n",
       "            </tr>\n",
       "            <tr>\n",
       "                        <th id=\"T_3eea29cd_1cd7_11eb_89ca_18c04d34ff92level0_row1\" class=\"row_heading level0 row1\" >2</th>\n",
       "                        <td id=\"T_3eea29cd_1cd7_11eb_89ca_18c04d34ff92row1_col0\" class=\"data row1 col0\" >4</td>\n",
       "                        <td id=\"T_3eea29cd_1cd7_11eb_89ca_18c04d34ff92row1_col1\" class=\"data row1 col1\" >16</td>\n",
       "                        <td id=\"T_3eea29cd_1cd7_11eb_89ca_18c04d34ff92row1_col2\" class=\"data row1 col2\" >14</td>\n",
       "                        <td id=\"T_3eea29cd_1cd7_11eb_89ca_18c04d34ff92row1_col3\" class=\"data row1 col3\" >19</td>\n",
       "                        <td id=\"T_3eea29cd_1cd7_11eb_89ca_18c04d34ff92row1_col4\" class=\"data row1 col4\" >11</td>\n",
       "                        <td id=\"T_3eea29cd_1cd7_11eb_89ca_18c04d34ff92row1_col5\" class=\"data row1 col5\" >9</td>\n",
       "                        <td id=\"T_3eea29cd_1cd7_11eb_89ca_18c04d34ff92row1_col6\" class=\"data row1 col6\" >7</td>\n",
       "            </tr>\n",
       "            <tr>\n",
       "                        <th id=\"T_3eea29cd_1cd7_11eb_89ca_18c04d34ff92level0_row2\" class=\"row_heading level0 row2\" >3</th>\n",
       "                        <td id=\"T_3eea29cd_1cd7_11eb_89ca_18c04d34ff92row2_col0\" class=\"data row2 col0\" >69</td>\n",
       "                        <td id=\"T_3eea29cd_1cd7_11eb_89ca_18c04d34ff92row2_col1\" class=\"data row2 col1\" >89</td>\n",
       "                        <td id=\"T_3eea29cd_1cd7_11eb_89ca_18c04d34ff92row2_col2\" class=\"data row2 col2\" >46</td>\n",
       "                        <td id=\"T_3eea29cd_1cd7_11eb_89ca_18c04d34ff92row2_col3\" class=\"data row2 col3\" >44</td>\n",
       "                        <td id=\"T_3eea29cd_1cd7_11eb_89ca_18c04d34ff92row2_col4\" class=\"data row2 col4\" >48</td>\n",
       "                        <td id=\"T_3eea29cd_1cd7_11eb_89ca_18c04d34ff92row2_col5\" class=\"data row2 col5\" >45</td>\n",
       "                        <td id=\"T_3eea29cd_1cd7_11eb_89ca_18c04d34ff92row2_col6\" class=\"data row2 col6\" >50</td>\n",
       "            </tr>\n",
       "            <tr>\n",
       "                        <th id=\"T_3eea29cd_1cd7_11eb_89ca_18c04d34ff92level0_row3\" class=\"row_heading level0 row3\" >4</th>\n",
       "                        <td id=\"T_3eea29cd_1cd7_11eb_89ca_18c04d34ff92row3_col0\" class=\"data row3 col0\" >16</td>\n",
       "                        <td id=\"T_3eea29cd_1cd7_11eb_89ca_18c04d34ff92row3_col1\" class=\"data row3 col1\" >17</td>\n",
       "                        <td id=\"T_3eea29cd_1cd7_11eb_89ca_18c04d34ff92row3_col2\" class=\"data row3 col2\" >28</td>\n",
       "                        <td id=\"T_3eea29cd_1cd7_11eb_89ca_18c04d34ff92row3_col3\" class=\"data row3 col3\" >27</td>\n",
       "                        <td id=\"T_3eea29cd_1cd7_11eb_89ca_18c04d34ff92row3_col4\" class=\"data row3 col4\" >26</td>\n",
       "                        <td id=\"T_3eea29cd_1cd7_11eb_89ca_18c04d34ff92row3_col5\" class=\"data row3 col5\" >22</td>\n",
       "                        <td id=\"T_3eea29cd_1cd7_11eb_89ca_18c04d34ff92row3_col6\" class=\"data row3 col6\" >20</td>\n",
       "            </tr>\n",
       "            <tr>\n",
       "                        <th id=\"T_3eea29cd_1cd7_11eb_89ca_18c04d34ff92level0_row4\" class=\"row_heading level0 row4\" >5</th>\n",
       "                        <td id=\"T_3eea29cd_1cd7_11eb_89ca_18c04d34ff92row4_col0\" class=\"data row4 col0\" >27</td>\n",
       "                        <td id=\"T_3eea29cd_1cd7_11eb_89ca_18c04d34ff92row4_col1\" class=\"data row4 col1\" >36</td>\n",
       "                        <td id=\"T_3eea29cd_1cd7_11eb_89ca_18c04d34ff92row4_col2\" class=\"data row4 col2\" >34</td>\n",
       "                        <td id=\"T_3eea29cd_1cd7_11eb_89ca_18c04d34ff92row4_col3\" class=\"data row4 col3\" >34</td>\n",
       "                        <td id=\"T_3eea29cd_1cd7_11eb_89ca_18c04d34ff92row4_col4\" class=\"data row4 col4\" >32</td>\n",
       "                        <td id=\"T_3eea29cd_1cd7_11eb_89ca_18c04d34ff92row4_col5\" class=\"data row4 col5\" >36</td>\n",
       "                        <td id=\"T_3eea29cd_1cd7_11eb_89ca_18c04d34ff92row4_col6\" class=\"data row4 col6\" >29</td>\n",
       "            </tr>\n",
       "            <tr>\n",
       "                        <th id=\"T_3eea29cd_1cd7_11eb_89ca_18c04d34ff92level0_row5\" class=\"row_heading level0 row5\" >6</th>\n",
       "                        <td id=\"T_3eea29cd_1cd7_11eb_89ca_18c04d34ff92row5_col0\" class=\"data row5 col0\" >55</td>\n",
       "                        <td id=\"T_3eea29cd_1cd7_11eb_89ca_18c04d34ff92row5_col1\" class=\"data row5 col1\" >67</td>\n",
       "                        <td id=\"T_3eea29cd_1cd7_11eb_89ca_18c04d34ff92row5_col2\" class=\"data row5 col2\" >66</td>\n",
       "                        <td id=\"T_3eea29cd_1cd7_11eb_89ca_18c04d34ff92row5_col3\" class=\"data row5 col3\" >75</td>\n",
       "                        <td id=\"T_3eea29cd_1cd7_11eb_89ca_18c04d34ff92row5_col4\" class=\"data row5 col4\" >90</td>\n",
       "                        <td id=\"T_3eea29cd_1cd7_11eb_89ca_18c04d34ff92row5_col5\" class=\"data row5 col5\" >70</td>\n",
       "                        <td id=\"T_3eea29cd_1cd7_11eb_89ca_18c04d34ff92row5_col6\" class=\"data row5 col6\" >37</td>\n",
       "            </tr>\n",
       "            <tr>\n",
       "                        <th id=\"T_3eea29cd_1cd7_11eb_89ca_18c04d34ff92level0_row6\" class=\"row_heading level0 row6\" >7</th>\n",
       "                        <td id=\"T_3eea29cd_1cd7_11eb_89ca_18c04d34ff92row6_col0\" class=\"data row6 col0\" >37</td>\n",
       "                        <td id=\"T_3eea29cd_1cd7_11eb_89ca_18c04d34ff92row6_col1\" class=\"data row6 col1\" >42</td>\n",
       "                        <td id=\"T_3eea29cd_1cd7_11eb_89ca_18c04d34ff92row6_col2\" class=\"data row6 col2\" >42</td>\n",
       "                        <td id=\"T_3eea29cd_1cd7_11eb_89ca_18c04d34ff92row6_col3\" class=\"data row6 col3\" >58</td>\n",
       "                        <td id=\"T_3eea29cd_1cd7_11eb_89ca_18c04d34ff92row6_col4\" class=\"data row6 col4\" >34</td>\n",
       "                        <td id=\"T_3eea29cd_1cd7_11eb_89ca_18c04d34ff92row6_col5\" class=\"data row6 col5\" >40</td>\n",
       "                        <td id=\"T_3eea29cd_1cd7_11eb_89ca_18c04d34ff92row6_col6\" class=\"data row6 col6\" >28</td>\n",
       "            </tr>\n",
       "            <tr>\n",
       "                        <th id=\"T_3eea29cd_1cd7_11eb_89ca_18c04d34ff92level0_row7\" class=\"row_heading level0 row7\" >8</th>\n",
       "                        <td id=\"T_3eea29cd_1cd7_11eb_89ca_18c04d34ff92row7_col0\" class=\"data row7 col0\" >387</td>\n",
       "                        <td id=\"T_3eea29cd_1cd7_11eb_89ca_18c04d34ff92row7_col1\" class=\"data row7 col1\" >288</td>\n",
       "                        <td id=\"T_3eea29cd_1cd7_11eb_89ca_18c04d34ff92row7_col2\" class=\"data row7 col2\" >327</td>\n",
       "                        <td id=\"T_3eea29cd_1cd7_11eb_89ca_18c04d34ff92row7_col3\" class=\"data row7 col3\" >328</td>\n",
       "                        <td id=\"T_3eea29cd_1cd7_11eb_89ca_18c04d34ff92row7_col4\" class=\"data row7 col4\" >336</td>\n",
       "                        <td id=\"T_3eea29cd_1cd7_11eb_89ca_18c04d34ff92row7_col5\" class=\"data row7 col5\" >473</td>\n",
       "                        <td id=\"T_3eea29cd_1cd7_11eb_89ca_18c04d34ff92row7_col6\" class=\"data row7 col6\" >277</td>\n",
       "            </tr>\n",
       "            <tr>\n",
       "                        <th id=\"T_3eea29cd_1cd7_11eb_89ca_18c04d34ff92level0_row8\" class=\"row_heading level0 row8\" >9</th>\n",
       "                        <td id=\"T_3eea29cd_1cd7_11eb_89ca_18c04d34ff92row8_col0\" class=\"data row8 col0\" >177</td>\n",
       "                        <td id=\"T_3eea29cd_1cd7_11eb_89ca_18c04d34ff92row8_col1\" class=\"data row8 col1\" >242</td>\n",
       "                        <td id=\"T_3eea29cd_1cd7_11eb_89ca_18c04d34ff92row8_col2\" class=\"data row8 col2\" >228</td>\n",
       "                        <td id=\"T_3eea29cd_1cd7_11eb_89ca_18c04d34ff92row8_col3\" class=\"data row8 col3\" >207</td>\n",
       "                        <td id=\"T_3eea29cd_1cd7_11eb_89ca_18c04d34ff92row8_col4\" class=\"data row8 col4\" >169</td>\n",
       "                        <td id=\"T_3eea29cd_1cd7_11eb_89ca_18c04d34ff92row8_col5\" class=\"data row8 col5\" >155</td>\n",
       "                        <td id=\"T_3eea29cd_1cd7_11eb_89ca_18c04d34ff92row8_col6\" class=\"data row8 col6\" >126</td>\n",
       "            </tr>\n",
       "            <tr>\n",
       "                        <th id=\"T_3eea29cd_1cd7_11eb_89ca_18c04d34ff92level0_row9\" class=\"row_heading level0 row9\" >10</th>\n",
       "                        <td id=\"T_3eea29cd_1cd7_11eb_89ca_18c04d34ff92row9_col0\" class=\"data row9 col0\" >72</td>\n",
       "                        <td id=\"T_3eea29cd_1cd7_11eb_89ca_18c04d34ff92row9_col1\" class=\"data row9 col1\" >97</td>\n",
       "                        <td id=\"T_3eea29cd_1cd7_11eb_89ca_18c04d34ff92row9_col2\" class=\"data row9 col2\" >94</td>\n",
       "                        <td id=\"T_3eea29cd_1cd7_11eb_89ca_18c04d34ff92row9_col3\" class=\"data row9 col3\" >123</td>\n",
       "                        <td id=\"T_3eea29cd_1cd7_11eb_89ca_18c04d34ff92row9_col4\" class=\"data row9 col4\" >137</td>\n",
       "                        <td id=\"T_3eea29cd_1cd7_11eb_89ca_18c04d34ff92row9_col5\" class=\"data row9 col5\" >122</td>\n",
       "                        <td id=\"T_3eea29cd_1cd7_11eb_89ca_18c04d34ff92row9_col6\" class=\"data row9 col6\" >88</td>\n",
       "            </tr>\n",
       "    </tbody></table>"
      ],
      "text/plain": [
       "<pandas.io.formats.style.Styler at 0x21eb8bdad30>"
      ]
     },
     "execution_count": 242,
     "metadata": {},
     "output_type": "execute_result"
    }
   ],
   "source": [
    "#색상이쁘게\n",
    "all_day_week.style.background_gradient(cmap='Blues')"
   ]
  },
  {
   "cell_type": "code",
   "execution_count": null,
   "metadata": {},
   "outputs": [],
   "source": []
  },
  {
   "cell_type": "code",
   "execution_count": null,
   "metadata": {},
   "outputs": [],
   "source": []
  },
  {
   "cell_type": "code",
   "execution_count": null,
   "metadata": {},
   "outputs": [],
   "source": []
  },
  {
   "cell_type": "code",
   "execution_count": null,
   "metadata": {},
   "outputs": [],
   "source": []
  },
  {
   "cell_type": "code",
   "execution_count": null,
   "metadata": {},
   "outputs": [],
   "source": []
  },
  {
   "cell_type": "code",
   "execution_count": null,
   "metadata": {},
   "outputs": [],
   "source": []
  },
  {
   "cell_type": "code",
   "execution_count": null,
   "metadata": {},
   "outputs": [],
   "source": []
  },
  {
   "cell_type": "code",
   "execution_count": null,
   "metadata": {},
   "outputs": [],
   "source": []
  }
 ],
 "metadata": {
  "kernelspec": {
   "display_name": "Python 3",
   "language": "python",
   "name": "python3"
  },
  "language_info": {
   "codemirror_mode": {
    "name": "ipython",
    "version": 3
   },
   "file_extension": ".py",
   "mimetype": "text/x-python",
   "name": "python",
   "nbconvert_exporter": "python",
   "pygments_lexer": "ipython3",
   "version": "3.8.3"
  }
 },
 "nbformat": 4,
 "nbformat_minor": 4
}
