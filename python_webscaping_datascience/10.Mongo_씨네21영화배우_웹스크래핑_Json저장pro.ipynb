{
 "cells": [
  {
   "cell_type": "markdown",
   "metadata": {},
   "source": [
    "### Cine21 영화배우 정보 웹스크래핑\n",
    "1. Site 주소 : http://www.cine21.com/rank/person/\n",
    "2. Request URL : http://www.cine21.com/rank/person/content   \n",
    "  - 크롬 개발자 도구의 network 탭에서 xhr 인 것만 필터링 \n",
    "3. Request Method : POST\n",
    "4. Form Data \n",
    " - section: actor\n",
    " - period_start: 2020-09\n",
    " - gender: all\n",
    " - page: 1\n",
    "5. 2년치 데이터를 한꺼번에 스크래핑 해서 actors.json 파일로 저장 "
   ]
  },
  {
   "cell_type": "code",
   "execution_count": 6,
   "metadata": {},
   "outputs": [],
   "source": [
    "import requests\n",
    "from bs4 import BeautifulSoup\n",
    "import re\n",
    "from urllib.parse import urljoin\n"
   ]
  },
  {
   "cell_type": "markdown",
   "metadata": {},
   "source": [
    "### 1단계 \n",
    "* 1 page 7명의 이름과 상세정보 추출"
   ]
  },
  {
   "cell_type": "markdown",
   "metadata": {},
   "source": [
    "### 정규표현식 (regular expression)\n",
    "* \\w는 word를 표현하며 알파벳 + 숫자 + _ 중의 한 문자임을 의미한다.\n",
    "* 문자가 출현한 횟수를 나타낼때 \n",
    " <pre>   \n",
    "  * : 0 ~ n,  + : 1 ~ n , ? : 0(zero) or 1 \n",
    " </pre> \n",
    "* 정규표현식에 특수문자를 사용할때는 특수문자 앞에 \\(back slash)를 반드시 주어야 한다\n",
    "* .(period)는 줄바꿈 문자(\\n)을 제외한 모든 글자 1개를 의미한다\n",
    "* Greedy vs Non-Greedy\n",
    " - Greedy 욕심많은 (.*) : 모든 태그가 다 선택\n",
    " - Non-Greedy 욕심없는 (.*?) : 첫번째 매칭되는 태그만 선택\n",
    "* [\\n\\r\\t] : \\n,\\r,\\t 중에 하나만 찾는다.\n",
    " - re.compile('[\\n\\r\\t]')는 해당 정규표현식을 찾아주는 컴파일러를 생성한다.\n",
    " - compile 함수내의 정규표현식 앞에는 항상 r 을 붙혀 주어야 한다."
   ]
  },
  {
   "cell_type": "code",
   "execution_count": 7,
   "metadata": {},
   "outputs": [
    {
     "name": "stdout",
     "output_type": "stream",
     "text": [
      "200\n",
      "황정민 http://www.cine21.com/db/person/info/?person_id=14268\n",
      "오달수 http://www.cine21.com/db/person/info/?person_id=19538\n",
      "하정우 http://www.cine21.com/db/person/info/?person_id=21119\n",
      "유해진 http://www.cine21.com/db/person/info/?person_id=15757\n",
      "조진웅 http://www.cine21.com/db/person/info/?person_id=60358\n",
      "마동석 http://www.cine21.com/db/person/info/?person_id=64614\n",
      "송강호 http://www.cine21.com/db/person/info/?person_id=2263\n"
     ]
    }
   ],
   "source": [
    "req_url = 'http://www.cine21.com/rank/person/content'\n",
    "req_param = {\n",
    "    'section': 'actor',\n",
    "    'period_start': '2013-10',\n",
    "    'gender': 'all',\n",
    "    'page': 1\n",
    "}\n",
    "res = requests.post(req_url, data=req_param)\n",
    "print(res.status_code)\n",
    "if res.ok:\n",
    "    soup = BeautifulSoup(res.text, 'html.parser')\n",
    "    \n",
    "    for li_tag in soup.select('li.people_li'):\n",
    "        #print(li_tag.select('div.name'))\n",
    "        div_tag = li_tag.select_one('div.name')\n",
    "        detail_url = div_tag.select_one('a')['href']\n",
    "        detail_url = urljoin(req_url,detail_url)\n",
    "        name = div_tag.text\n",
    "        result = re.sub('\\(\\w*\\)','',name)\n",
    "        print(result, detail_url)\n",
    "                       \n",
    "        res = requests.get(detail_url)\n",
    "        if res.ok:\n",
    "            soup = BeautifulSoup(res.text,'html.parser')\n",
    "            for li_tag in soup.select('ul.default_info li'):\n",
    "                actor_dict_key = li_tag.select_one('span.tit').text\n",
    "                #print(li_tag)\n",
    "                #<li><span class=\"tit\">직업</span>배우</li> => <li>배우</li>\n",
    "                result = re.sub('<span.*>.*<\\/span>','',str(li_tag))\n",
    "                #<li>배우</li> => 배우\n",
    "                actor_dict_value = re.sub('<.*?>','',result)\n",
    "                \n",
    "                regex = re.compile(r'[\\n\\r\\t]')\n",
    "                actor_dict_value = regex.sub('',actor_dict_value)        \n",
    "                #print(actor_dict_key,actor_dict_value)\n",
    "                #print(li_tag)"
   ]
  },
  {
   "cell_type": "markdown",
   "metadata": {},
   "source": [
    "### 2단계 \n",
    "* 1 page 7명의 이름,흥행지수,랭킹과 상세정보 추출\n",
    "* 배우의 정보는 dict에 저장하고, dict를 list에 저장한다."
   ]
  },
  {
   "cell_type": "code",
   "execution_count": 8,
   "metadata": {},
   "outputs": [
    {
     "name": "stdout",
     "output_type": "stream",
     "text": [
      "200\n",
      "[{'배우이름': '성동일', '랭킹': 1, '흥행지수': 137320, '직업': '배우', '생년월일': '1967-04-27', '성별': '남', '신장/체중': '177cm, 78kg', '학교': '유한대학 기계설계학', '출연영화': ['담보', '방법', '어쩌다 가족']}, {'배우이름': '하지원', '랭킹': 2, '흥행지수': 102990, '직업': '배우', '생년월일': '1978-06-28', '성별': '여', '홈페이지': 'https://twitter.com/hajiwon1023https://instagram.com/hajiwon1023', '신장/체중': '168cm, 45kg', '학교': '단국대학교 연극영화학 학사', '취미': '만화책보기, 소품만들기, 청소하기', '특기': '검도, 골프, 승마, 재즈댄스, 장구춤', '출연영화': ['담보', '초콜릿', '갈릴레오 : 깨어난 우주']}]\n"
     ]
    }
   ],
   "source": [
    "req_url = 'http://www.cine21.com/rank/person/content'\n",
    "req_param = {\n",
    "    'section': 'actor',\n",
    "    'period_start': '2020-09',\n",
    "    'gender': 'all',\n",
    "    'page': 1\n",
    "}\n",
    "res = requests.post(req_url, data=req_param)\n",
    "print(res.status_code)\n",
    "if res.ok:\n",
    "    soup = BeautifulSoup(res.text, 'html.parser')\n",
    "    \n",
    "    actor_detail_list = []\n",
    "    actor_li_tag = soup.select('li.people_li')    \n",
    "    \n",
    "    for li_tag in actor_li_tag:\n",
    "        actor_detail_dict = {}\n",
    "        \n",
    "        #print(li_tag.select('div.name'))\n",
    "        div_tag = li_tag.select_one('div.name')\n",
    "        #상세페이지 url 추출\n",
    "        detail_url = div_tag.select_one('a')['href']\n",
    "        detail_url = urljoin(req_url,detail_url)\n",
    "        \n",
    "        #배우이름 추출\n",
    "        name = div_tag.text\n",
    "        #성동일(1편) => 성동일 \n",
    "        actor_name = re.sub('\\(\\w*\\)','',name)\n",
    "        actor_detail_dict['배우이름'] = actor_name\n",
    "        \n",
    "        #순위(ranking) 추출\n",
    "        #print(li_tag.select_one('span.grade'))                   \n",
    "        actor_ranking = li_tag.select_one('span.grade').text\n",
    "        actor_detail_dict['랭킹'] = int(actor_ranking)\n",
    "        \n",
    "        #흥행지수 추출\n",
    "        actor_hit = li_tag.select_one('ul.num_info > li > strong').text\n",
    "        actor_detail_dict['흥행지수'] = int(actor_hit.replace(',',''))\n",
    "        \n",
    "        #상세정보 페이지에 요청을 보냄    \n",
    "        res = requests.get(detail_url)\n",
    "        if res.ok:\n",
    "            soup = BeautifulSoup(res.text,'html.parser')\n",
    "            \n",
    "            #기본정보\n",
    "            for li_tag in soup.select('ul.default_info li'):\n",
    "                actor_dict_key = li_tag.select_one('span.tit').text\n",
    "                #print(li_tag)\n",
    "                #<li><span class=\"tit\">직업</span>배우</li> => <li>배우</li>\n",
    "                result = re.sub('<span.*>.*<\\/span>','',str(li_tag))\n",
    "                #<li>배우</li> => 배우\n",
    "                actor_dict_value = re.sub('<.*?>','',result)\n",
    "                \n",
    "                regex = re.compile(r'[\\n\\r\\t]')\n",
    "                actor_dict_value = regex.sub('',actor_dict_value)        \n",
    "                #print(actor_dict_key,actor_dict_value)\n",
    "                \n",
    "                #상세페이지에 추출한 key와 value를 dict에 저장\n",
    "                actor_detail_dict[actor_dict_key] = actor_dict_value\n",
    "            \n",
    "            #참여작품\n",
    "            movie_title_list = []\n",
    "            for movie_li_tag in soup.select('ul.part_works li'):\n",
    "                movie_title = movie_li_tag.select_one('span.tit').text\n",
    "                movie_title_list.append(movie_title)\n",
    "            \n",
    "            #print(movie_title_list)\n",
    "            actor_detail_dict['출연영화'] = movie_title_list\n",
    "            \n",
    "            #상세정보 담은 dict를 list에 추가\n",
    "            actor_detail_list.append(actor_detail_dict)\n",
    "\n",
    "print(actor_detail_list[0:2])            "
   ]
  },
  {
   "cell_type": "markdown",
   "metadata": {},
   "source": [
    "### 3단계 \n",
    "* 1,2,3 page 21명의 이름,흥행지수,랭킹과 상세정보 추출\n",
    "* 배우의 정보는 dict에 저장하고, dict를 list에 저장한다."
   ]
  },
  {
   "cell_type": "code",
   "execution_count": 9,
   "metadata": {},
   "outputs": [
    {
     "name": "stdout",
     "output_type": "stream",
     "text": [
      "---> 1 페이지 출력됨\n",
      "======> 1 : 성동일\n",
      "======> 2 : 하지원\n",
      "======> 3 : 김희원\n",
      "======> 4 : 유아인\n",
      "======> 5 : 박소이\n",
      "======> 6 : 유재명\n",
      "======> 7 : 나문희\n",
      "---> 2 페이지 출력됨\n",
      "======> 1 : 이희준\n",
      "======> 2 : 김호중\n",
      "======> 3 : 고아성\n",
      "======> 4 : 이솜\n",
      "======> 5 : 박혜수\n",
      "======> 6 : 최원영\n",
      "======> 7 : 조현철\n",
      "---> 3 페이지 출력됨\n",
      "======> 1 : 곽도원\n",
      "======> 2 : 김대명\n",
      "======> 3 : 문승아\n",
      "======> 4 : 김종수\n",
      "======> 5 : 김원해\n",
      "======> 6 : 김상호\n",
      "======> 7 : 신민아\n",
      "21\n"
     ]
    }
   ],
   "source": [
    "req_url = 'http://www.cine21.com/rank/person/content'\n",
    "req_param = {\n",
    "    'section': 'actor',\n",
    "    'period_start': '2020-09',\n",
    "    'gender': 'all'\n",
    "}\n",
    "\n",
    "#21명의 배우정보 dict를 저장할 리스트\n",
    "actor_detail_list = []\n",
    "\n",
    "for page in range(1,4):\n",
    "    req_param['page'] = page\n",
    "    res = requests.post(req_url, data=req_param)\n",
    "    #print(res.status_code)\n",
    "    print(f'---> {page} 페이지 출력됨')\n",
    "    if res.ok:\n",
    "        soup = BeautifulSoup(res.text, 'html.parser')\n",
    "\n",
    "        actor_li_tag = soup.select('li.people_li')\n",
    "        for idx,li_tag in enumerate(actor_li_tag,1):\n",
    "            actor_detail_dict = {}\n",
    "\n",
    "            #print(li_tag.select('div.name'))\n",
    "            div_tag = li_tag.select_one('div.name')\n",
    "            #상세페이지 url 추출\n",
    "            detail_url = div_tag.select_one('a')['href']\n",
    "            detail_url = urljoin(req_url,detail_url)\n",
    "\n",
    "            #배우이름 추출\n",
    "            name = div_tag.text\n",
    "            #성동일(1편) => 성동일 \n",
    "            actor_name = re.sub('\\(\\w*\\)','',name)\n",
    "            actor_detail_dict['배우이름'] = actor_name\n",
    "            \n",
    "            print(f'======> {idx} : {actor_name}')\n",
    "\n",
    "            #순위(ranking) 추출\n",
    "            #print(li_tag.select_one('span.grade'))                   \n",
    "            actor_ranking = li_tag.select_one('span.grade').text\n",
    "            actor_detail_dict['랭킹'] = int(actor_ranking)\n",
    "\n",
    "            #흥행지수 추출\n",
    "            actor_hit = li_tag.select_one('ul.num_info > li > strong').text\n",
    "            actor_detail_dict['흥행지수'] = int(actor_hit.replace(',',''))\n",
    "\n",
    "            #상세정보 페이지에 요청을 보냄    \n",
    "            res = requests.get(detail_url)\n",
    "            if res.ok:\n",
    "                soup = BeautifulSoup(res.text,'html.parser')\n",
    "\n",
    "                #기본정보\n",
    "                for li_tag in soup.select('ul.default_info li'):\n",
    "                    actor_dict_key = li_tag.select_one('span.tit').text\n",
    "                    #print(li_tag)\n",
    "                    #<li><span class=\"tit\">직업</span>배우</li> => <li>배우</li>\n",
    "                    result = re.sub('<span.*>.*<\\/span>','',str(li_tag))\n",
    "                    #<li>배우</li> => 배우\n",
    "                    actor_dict_value = re.sub('<.*?>','',result)\n",
    "\n",
    "                    regex = re.compile(r'[\\n\\r\\t]')\n",
    "                    actor_dict_value = regex.sub('',actor_dict_value)        \n",
    "                    #print(actor_dict_key,actor_dict_value)\n",
    "\n",
    "                    #상세페이지에 추출한 key와 value를 dict에 저장\n",
    "                    actor_detail_dict[actor_dict_key] = actor_dict_value\n",
    "\n",
    "                #참여작품\n",
    "                movie_title_list = []\n",
    "                for movie_li_tag in soup.select('ul.part_works li'):\n",
    "                    movie_title = movie_li_tag.select_one('span.tit').text\n",
    "                    movie_title_list.append(movie_title)\n",
    "\n",
    "                #print(movie_title_list)\n",
    "                actor_detail_dict['출연영화'] = movie_title_list\n",
    "\n",
    "                #상세정보 담은 dict를 list에 추가\n",
    "                actor_detail_list.append(actor_detail_dict)\n",
    "\n",
    "print(len(actor_detail_list))                "
   ]
  },
  {
   "cell_type": "markdown",
   "metadata": {},
   "source": [
    "### 4단계 \n",
    "* 모든 page의 배우 이름,흥행지수,랭킹과 상세정보 추출\n",
    "* 배우의 정보는 dict에 저장하고, dict를 list에 저장한다.\n",
    "* itertools 모듈의 count() 함수를 사용하여 무한 Looping\n",
    " - 무한 Loop를 탈출할 수 있는 조건\n",
    " - actor_li_tag = soup.select('li.people_li') 의 actor_list_tag의 길이가 0 이면 탈출"
   ]
  },
  {
   "cell_type": "code",
   "execution_count": 10,
   "metadata": {},
   "outputs": [
    {
     "name": "stdout",
     "output_type": "stream",
     "text": [
      "---> 50 페이지 출력됨\n",
      "600\n"
     ]
    }
   ],
   "source": [
    "from itertools import count\n",
    "\n",
    "req_url = 'http://www.cine21.com/rank/person/content'\n",
    "#2년치 데이터는 'period_start': '2018-10'\n",
    "req_param = {\n",
    "    'section': 'actor',\n",
    "    'period_start': '2020-09',#'2020-09', \n",
    "    'gender': 'all'\n",
    "}\n",
    "\n",
    "#21명의 배우정보 dict를 저장할 리스트\n",
    "actor_detail_list = []\n",
    "\n",
    "for page in count(1):\n",
    "    req_param['page'] = page\n",
    "    res = requests.post(req_url, data=req_param)\n",
    "    #print(res.status_code)\n",
    "    if page % 50 == 0:\n",
    "        print(f'---> {page} 페이지 출력됨')\n",
    "    if res.ok:\n",
    "        soup = BeautifulSoup(res.text, 'html.parser')\n",
    "\n",
    "        actor_li_tag = soup.select('li.people_li')\n",
    "        \n",
    "        #해당 page가 없으면 loop를 탈출\n",
    "        if len(actor_li_tag) == 0:\n",
    "            break\n",
    "            \n",
    "        for idx,li_tag in enumerate(actor_li_tag,1):\n",
    "            actor_detail_dict = {}\n",
    "\n",
    "            #print(li_tag.select('div.name'))\n",
    "            div_tag = li_tag.select_one('div.name')\n",
    "            #상세페이지 url 추출\n",
    "            detail_url = div_tag.select_one('a')['href']\n",
    "            detail_url = urljoin(req_url,detail_url)\n",
    "\n",
    "            #배우이름 추출\n",
    "            name = div_tag.text\n",
    "            #성동일(1편) => 성동일 \n",
    "            actor_name = re.sub('\\(\\w*\\)','',name)\n",
    "            actor_detail_dict['배우이름'] = actor_name\n",
    "            \n",
    "            #print(f'======> {idx} : {actor_name}')\n",
    "\n",
    "            #순위(ranking) 추출\n",
    "            #print(li_tag.select_one('span.grade'))                   \n",
    "            actor_ranking = li_tag.select_one('span.grade').text\n",
    "            actor_detail_dict['랭킹'] = int(actor_ranking)\n",
    "\n",
    "            #흥행지수 추출\n",
    "            actor_hit = li_tag.select_one('ul.num_info > li > strong').text\n",
    "            actor_detail_dict['흥행지수'] = int(actor_hit.replace(',',''))\n",
    "\n",
    "            #상세정보 페이지에 요청을 보냄    \n",
    "            res = requests.get(detail_url)\n",
    "            if res.ok:\n",
    "                soup = BeautifulSoup(res.text,'html.parser')\n",
    "\n",
    "                #기본정보\n",
    "                for li_tag in soup.select('ul.default_info li'):\n",
    "                    actor_dict_key = li_tag.select_one('span.tit').text\n",
    "                    #print(li_tag)\n",
    "                    #<li><span class=\"tit\">직업</span>배우</li> => <li>배우</li>\n",
    "                    result = re.sub('<span.*>.*<\\/span>','',str(li_tag))\n",
    "                    #<li>배우</li> => 배우\n",
    "                    actor_dict_value = re.sub('<.*?>','',result)\n",
    "\n",
    "                    regex = re.compile(r'[\\n\\r\\t]')\n",
    "                    actor_dict_value = regex.sub('',actor_dict_value)        \n",
    "                    #print(actor_dict_key,actor_dict_value)\n",
    "\n",
    "                    #상세페이지에 추출한 key와 value를 dict에 저장\n",
    "                    actor_detail_dict[actor_dict_key] = actor_dict_value\n",
    "\n",
    "                #참여작품\n",
    "                movie_title_list = []\n",
    "                for movie_li_tag in soup.select('ul.part_works li'):\n",
    "                    movie_title = movie_li_tag.select_one('span.tit').text\n",
    "                    movie_title_list.append(movie_title)\n",
    "\n",
    "                #print(movie_title_list)\n",
    "                actor_detail_dict['출연영화'] = movie_title_list\n",
    "\n",
    "                #상세정보 담은 dict를 list에 추가\n",
    "                actor_detail_list.append(actor_detail_dict)\n",
    "\n",
    "print(len(actor_detail_list))                        "
   ]
  },
  {
   "cell_type": "code",
   "execution_count": 11,
   "metadata": {},
   "outputs": [],
   "source": [
    "for actor in actor_detail_list:\n",
    "    if len(actor['배우이름']) > 10:\n",
    "        print(actor)"
   ]
  },
  {
   "cell_type": "code",
   "execution_count": 12,
   "metadata": {},
   "outputs": [
    {
     "name": "stdout",
     "output_type": "stream",
     "text": [
      "before 600\n",
      "after 600\n"
     ]
    }
   ],
   "source": [
    "print('before', len(actor_detail_list))\n",
    "actor_detail_final_list = [actor for actor in actor_detail_list \\\n",
    "                           if len(actor['배우이름']) < 10]\n",
    "print('after', len(actor_detail_final_list))"
   ]
  },
  {
   "cell_type": "markdown",
   "metadata": {},
   "source": [
    "### 5단계\n",
    "* actor_detail_final_list를 actors.json 파일로 저장하기"
   ]
  },
  {
   "cell_type": "code",
   "execution_count": 13,
   "metadata": {},
   "outputs": [
    {
     "name": "stdout",
     "output_type": "stream",
     "text": [
      "json file write 종료\n"
     ]
    }
   ],
   "source": [
    "import json\n",
    "\n",
    "with open('data/actors2.json','w',encoding='utf8') as file:\n",
    "    json.dump(actor_detail_final_list, file)\n",
    "\n",
    "print('json file write 종료')"
   ]
  },
  {
   "cell_type": "code",
   "execution_count": 14,
   "metadata": {},
   "outputs": [
    {
     "name": "stdout",
     "output_type": "stream",
     "text": [
      "600\n"
     ]
    }
   ],
   "source": [
    "with open('data/actors2.json','r') as file:\n",
    "    json_data = json.load(file)\n",
    "\n",
    "print(len(json_data))    "
   ]
  },
  {
   "cell_type": "code",
   "execution_count": null,
   "metadata": {},
   "outputs": [],
   "source": [
    "print(col.count_document({'특기':{'$exists'}}))"
   ]
  },
  {
   "cell_type": "code",
   "execution_count": null,
   "metadata": {},
   "outputs": [],
   "source": []
  },
  {
   "cell_type": "code",
   "execution_count": null,
   "metadata": {},
   "outputs": [],
   "source": []
  },
  {
   "cell_type": "code",
   "execution_count": null,
   "metadata": {},
   "outputs": [],
   "source": []
  },
  {
   "cell_type": "code",
   "execution_count": null,
   "metadata": {},
   "outputs": [],
   "source": []
  },
  {
   "cell_type": "code",
   "execution_count": null,
   "metadata": {},
   "outputs": [],
   "source": []
  }
 ],
 "metadata": {
  "kernelspec": {
   "display_name": "Python 3",
   "language": "python",
   "name": "python3"
  },
  "language_info": {
   "codemirror_mode": {
    "name": "ipython",
    "version": 3
   },
   "file_extension": ".py",
   "mimetype": "text/x-python",
   "name": "python",
   "nbconvert_exporter": "python",
   "pygments_lexer": "ipython3",
   "version": "3.8.3"
  }
 },
 "nbformat": 4,
 "nbformat_minor": 4
}
